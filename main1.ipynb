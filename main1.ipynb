{
 "cells": [
  {
   "cell_type": "code",
   "execution_count": 1,
   "metadata": {},
   "outputs": [
    {
     "name": "stdout",
     "output_type": "stream",
     "text": [
      "Requirement already satisfied: langchain in c:\\users\\mehak\\appdata\\local\\programs\\python\\python311\\lib\\site-packages (0.3.14)\n",
      "Requirement already satisfied: PyYAML>=5.3 in c:\\users\\mehak\\appdata\\local\\programs\\python\\python311\\lib\\site-packages (from langchain) (6.0.2)\n",
      "Requirement already satisfied: SQLAlchemy<3,>=1.4 in c:\\users\\mehak\\appdata\\local\\programs\\python\\python311\\lib\\site-packages (from langchain) (2.0.37)\n",
      "Requirement already satisfied: aiohttp<4.0.0,>=3.8.3 in c:\\users\\mehak\\appdata\\local\\programs\\python\\python311\\lib\\site-packages (from langchain) (3.11.11)\n",
      "Requirement already satisfied: langchain-core<0.4.0,>=0.3.29 in c:\\users\\mehak\\appdata\\local\\programs\\python\\python311\\lib\\site-packages (from langchain) (0.3.29)\n",
      "Requirement already satisfied: langchain-text-splitters<0.4.0,>=0.3.3 in c:\\users\\mehak\\appdata\\local\\programs\\python\\python311\\lib\\site-packages (from langchain) (0.3.5)\n",
      "Requirement already satisfied: langsmith<0.3,>=0.1.17 in c:\\users\\mehak\\appdata\\local\\programs\\python\\python311\\lib\\site-packages (from langchain) (0.2.10)\n",
      "Requirement already satisfied: numpy<2,>=1.22.4 in c:\\users\\mehak\\appdata\\local\\programs\\python\\python311\\lib\\site-packages (from langchain) (1.26.4)\n",
      "Requirement already satisfied: pydantic<3.0.0,>=2.7.4 in c:\\users\\mehak\\appdata\\local\\programs\\python\\python311\\lib\\site-packages (from langchain) (2.10.5)\n",
      "Requirement already satisfied: requests<3,>=2 in c:\\users\\mehak\\appdata\\local\\programs\\python\\python311\\lib\\site-packages (from langchain) (2.32.3)\n",
      "Requirement already satisfied: tenacity!=8.4.0,<10,>=8.1.0 in c:\\users\\mehak\\appdata\\local\\programs\\python\\python311\\lib\\site-packages (from langchain) (9.0.0)\n",
      "Requirement already satisfied: aiohappyeyeballs>=2.3.0 in c:\\users\\mehak\\appdata\\local\\programs\\python\\python311\\lib\\site-packages (from aiohttp<4.0.0,>=3.8.3->langchain) (2.4.4)\n",
      "Requirement already satisfied: aiosignal>=1.1.2 in c:\\users\\mehak\\appdata\\local\\programs\\python\\python311\\lib\\site-packages (from aiohttp<4.0.0,>=3.8.3->langchain) (1.3.2)\n",
      "Requirement already satisfied: attrs>=17.3.0 in c:\\users\\mehak\\appdata\\local\\programs\\python\\python311\\lib\\site-packages (from aiohttp<4.0.0,>=3.8.3->langchain) (24.3.0)\n",
      "Requirement already satisfied: frozenlist>=1.1.1 in c:\\users\\mehak\\appdata\\local\\programs\\python\\python311\\lib\\site-packages (from aiohttp<4.0.0,>=3.8.3->langchain) (1.5.0)\n",
      "Requirement already satisfied: multidict<7.0,>=4.5 in c:\\users\\mehak\\appdata\\local\\programs\\python\\python311\\lib\\site-packages (from aiohttp<4.0.0,>=3.8.3->langchain) (6.1.0)\n",
      "Requirement already satisfied: propcache>=0.2.0 in c:\\users\\mehak\\appdata\\local\\programs\\python\\python311\\lib\\site-packages (from aiohttp<4.0.0,>=3.8.3->langchain) (0.2.1)\n",
      "Requirement already satisfied: yarl<2.0,>=1.17.0 in c:\\users\\mehak\\appdata\\local\\programs\\python\\python311\\lib\\site-packages (from aiohttp<4.0.0,>=3.8.3->langchain) (1.18.3)\n",
      "Requirement already satisfied: jsonpatch<2.0,>=1.33 in c:\\users\\mehak\\appdata\\local\\programs\\python\\python311\\lib\\site-packages (from langchain-core<0.4.0,>=0.3.29->langchain) (1.33)\n",
      "Requirement already satisfied: packaging<25,>=23.2 in c:\\users\\mehak\\appdata\\local\\programs\\python\\python311\\lib\\site-packages (from langchain-core<0.4.0,>=0.3.29->langchain) (24.2)\n",
      "Requirement already satisfied: typing-extensions>=4.7 in c:\\users\\mehak\\appdata\\local\\programs\\python\\python311\\lib\\site-packages (from langchain-core<0.4.0,>=0.3.29->langchain) (4.12.2)\n",
      "Requirement already satisfied: httpx<1,>=0.23.0 in c:\\users\\mehak\\appdata\\local\\programs\\python\\python311\\lib\\site-packages (from langsmith<0.3,>=0.1.17->langchain) (0.28.1)\n",
      "Requirement already satisfied: orjson<4.0.0,>=3.9.14 in c:\\users\\mehak\\appdata\\local\\programs\\python\\python311\\lib\\site-packages (from langsmith<0.3,>=0.1.17->langchain) (3.10.14)\n",
      "Requirement already satisfied: requests-toolbelt<2.0.0,>=1.0.0 in c:\\users\\mehak\\appdata\\local\\programs\\python\\python311\\lib\\site-packages (from langsmith<0.3,>=0.1.17->langchain) (1.0.0)\n",
      "Requirement already satisfied: annotated-types>=0.6.0 in c:\\users\\mehak\\appdata\\local\\programs\\python\\python311\\lib\\site-packages (from pydantic<3.0.0,>=2.7.4->langchain) (0.7.0)\n",
      "Requirement already satisfied: pydantic-core==2.27.2 in c:\\users\\mehak\\appdata\\local\\programs\\python\\python311\\lib\\site-packages (from pydantic<3.0.0,>=2.7.4->langchain) (2.27.2)\n",
      "Requirement already satisfied: charset-normalizer<4,>=2 in c:\\users\\mehak\\appdata\\local\\programs\\python\\python311\\lib\\site-packages (from requests<3,>=2->langchain) (3.4.1)\n",
      "Requirement already satisfied: idna<4,>=2.5 in c:\\users\\mehak\\appdata\\local\\programs\\python\\python311\\lib\\site-packages (from requests<3,>=2->langchain) (3.10)\n",
      "Requirement already satisfied: urllib3<3,>=1.21.1 in c:\\users\\mehak\\appdata\\local\\programs\\python\\python311\\lib\\site-packages (from requests<3,>=2->langchain) (2.3.0)\n",
      "Requirement already satisfied: certifi>=2017.4.17 in c:\\users\\mehak\\appdata\\local\\programs\\python\\python311\\lib\\site-packages (from requests<3,>=2->langchain) (2024.12.14)\n",
      "Requirement already satisfied: greenlet!=0.4.17 in c:\\users\\mehak\\appdata\\local\\programs\\python\\python311\\lib\\site-packages (from SQLAlchemy<3,>=1.4->langchain) (3.1.1)\n",
      "Requirement already satisfied: anyio in c:\\users\\mehak\\appdata\\local\\programs\\python\\python311\\lib\\site-packages (from httpx<1,>=0.23.0->langsmith<0.3,>=0.1.17->langchain) (4.8.0)\n",
      "Requirement already satisfied: httpcore==1.* in c:\\users\\mehak\\appdata\\local\\programs\\python\\python311\\lib\\site-packages (from httpx<1,>=0.23.0->langsmith<0.3,>=0.1.17->langchain) (1.0.7)\n",
      "Requirement already satisfied: h11<0.15,>=0.13 in c:\\users\\mehak\\appdata\\local\\programs\\python\\python311\\lib\\site-packages (from httpcore==1.*->httpx<1,>=0.23.0->langsmith<0.3,>=0.1.17->langchain) (0.14.0)\n",
      "Requirement already satisfied: jsonpointer>=1.9 in c:\\users\\mehak\\appdata\\local\\programs\\python\\python311\\lib\\site-packages (from jsonpatch<2.0,>=1.33->langchain-core<0.4.0,>=0.3.29->langchain) (3.0.0)\n",
      "Requirement already satisfied: sniffio>=1.1 in c:\\users\\mehak\\appdata\\local\\programs\\python\\python311\\lib\\site-packages (from anyio->httpx<1,>=0.23.0->langsmith<0.3,>=0.1.17->langchain) (1.3.1)\n"
     ]
    },
    {
     "name": "stderr",
     "output_type": "stream",
     "text": [
      "WARNING: Ignoring invalid distribution ~ (C:\\Users\\mehak\\AppData\\Local\\Programs\\Python\\Python311\\Lib\\site-packages)\n",
      "WARNING: Ignoring invalid distribution ~ (C:\\Users\\mehak\\AppData\\Local\\Programs\\Python\\Python311\\Lib\\site-packages)\n",
      "WARNING: Ignoring invalid distribution ~ (C:\\Users\\mehak\\AppData\\Local\\Programs\\Python\\Python311\\Lib\\site-packages)\n"
     ]
    }
   ],
   "source": [
    "!pip install langchain"
   ]
  },
  {
   "cell_type": "code",
   "execution_count": 2,
   "metadata": {},
   "outputs": [
    {
     "name": "stdout",
     "output_type": "stream",
     "text": [
      "Requirement already satisfied: youtube-transcript-api in c:\\users\\mehak\\appdata\\local\\programs\\python\\python311\\lib\\site-packages (0.6.3)\n",
      "Requirement already satisfied: defusedxml<0.8.0,>=0.7.1 in c:\\users\\mehak\\appdata\\local\\programs\\python\\python311\\lib\\site-packages (from youtube-transcript-api) (0.7.1)\n",
      "Requirement already satisfied: requests in c:\\users\\mehak\\appdata\\local\\programs\\python\\python311\\lib\\site-packages (from youtube-transcript-api) (2.32.3)\n",
      "Requirement already satisfied: charset-normalizer<4,>=2 in c:\\users\\mehak\\appdata\\local\\programs\\python\\python311\\lib\\site-packages (from requests->youtube-transcript-api) (3.4.1)\n",
      "Requirement already satisfied: idna<4,>=2.5 in c:\\users\\mehak\\appdata\\local\\programs\\python\\python311\\lib\\site-packages (from requests->youtube-transcript-api) (3.10)\n",
      "Requirement already satisfied: urllib3<3,>=1.21.1 in c:\\users\\mehak\\appdata\\local\\programs\\python\\python311\\lib\\site-packages (from requests->youtube-transcript-api) (2.3.0)\n",
      "Requirement already satisfied: certifi>=2017.4.17 in c:\\users\\mehak\\appdata\\local\\programs\\python\\python311\\lib\\site-packages (from requests->youtube-transcript-api) (2024.12.14)\n"
     ]
    },
    {
     "name": "stderr",
     "output_type": "stream",
     "text": [
      "WARNING: Ignoring invalid distribution ~ (C:\\Users\\mehak\\AppData\\Local\\Programs\\Python\\Python311\\Lib\\site-packages)\n",
      "WARNING: Ignoring invalid distribution ~ (C:\\Users\\mehak\\AppData\\Local\\Programs\\Python\\Python311\\Lib\\site-packages)\n",
      "WARNING: Ignoring invalid distribution ~ (C:\\Users\\mehak\\AppData\\Local\\Programs\\Python\\Python311\\Lib\\site-packages)\n"
     ]
    }
   ],
   "source": [
    "!pip install youtube-transcript-api"
   ]
  },
  {
   "cell_type": "code",
   "execution_count": 3,
   "metadata": {},
   "outputs": [
    {
     "name": "stdout",
     "output_type": "stream",
     "text": [
      "Requirement already satisfied: chromadb in c:\\users\\mehak\\appdata\\local\\programs\\python\\python311\\lib\\site-packages (0.6.3)\n",
      "Requirement already satisfied: build>=1.0.3 in c:\\users\\mehak\\appdata\\local\\programs\\python\\python311\\lib\\site-packages (from chromadb) (1.2.2.post1)\n",
      "Requirement already satisfied: pydantic>=1.9 in c:\\users\\mehak\\appdata\\local\\programs\\python\\python311\\lib\\site-packages (from chromadb) (2.10.5)\n",
      "Requirement already satisfied: chroma-hnswlib==0.7.6 in c:\\users\\mehak\\appdata\\local\\programs\\python\\python311\\lib\\site-packages (from chromadb) (0.7.6)\n",
      "Requirement already satisfied: fastapi>=0.95.2 in c:\\users\\mehak\\appdata\\local\\programs\\python\\python311\\lib\\site-packages (from chromadb) (0.115.6)\n",
      "Requirement already satisfied: uvicorn>=0.18.3 in c:\\users\\mehak\\appdata\\local\\programs\\python\\python311\\lib\\site-packages (from uvicorn[standard]>=0.18.3->chromadb) (0.34.0)\n",
      "Requirement already satisfied: numpy>=1.22.5 in c:\\users\\mehak\\appdata\\local\\programs\\python\\python311\\lib\\site-packages (from chromadb) (1.26.4)\n",
      "Requirement already satisfied: posthog>=2.4.0 in c:\\users\\mehak\\appdata\\local\\programs\\python\\python311\\lib\\site-packages (from chromadb) (3.8.3)\n",
      "Requirement already satisfied: typing_extensions>=4.5.0 in c:\\users\\mehak\\appdata\\local\\programs\\python\\python311\\lib\\site-packages (from chromadb) (4.12.2)\n",
      "Requirement already satisfied: onnxruntime>=1.14.1 in c:\\users\\mehak\\appdata\\local\\programs\\python\\python311\\lib\\site-packages (from chromadb) (1.20.1)\n",
      "Requirement already satisfied: opentelemetry-api>=1.2.0 in c:\\users\\mehak\\appdata\\local\\programs\\python\\python311\\lib\\site-packages (from chromadb) (1.29.0)\n",
      "Requirement already satisfied: opentelemetry-exporter-otlp-proto-grpc>=1.2.0 in c:\\users\\mehak\\appdata\\local\\programs\\python\\python311\\lib\\site-packages (from chromadb) (1.29.0)\n",
      "Requirement already satisfied: opentelemetry-instrumentation-fastapi>=0.41b0 in c:\\users\\mehak\\appdata\\local\\programs\\python\\python311\\lib\\site-packages (from chromadb) (0.50b0)\n",
      "Requirement already satisfied: opentelemetry-sdk>=1.2.0 in c:\\users\\mehak\\appdata\\local\\programs\\python\\python311\\lib\\site-packages (from chromadb) (1.29.0)\n",
      "Requirement already satisfied: tokenizers>=0.13.2 in c:\\users\\mehak\\appdata\\local\\programs\\python\\python311\\lib\\site-packages (from chromadb) (0.21.0)\n",
      "Requirement already satisfied: pypika>=0.48.9 in c:\\users\\mehak\\appdata\\local\\programs\\python\\python311\\lib\\site-packages (from chromadb) (0.48.9)\n",
      "Requirement already satisfied: tqdm>=4.65.0 in c:\\users\\mehak\\appdata\\local\\programs\\python\\python311\\lib\\site-packages (from chromadb) (4.67.1)\n",
      "Requirement already satisfied: overrides>=7.3.1 in c:\\users\\mehak\\appdata\\local\\programs\\python\\python311\\lib\\site-packages (from chromadb) (7.7.0)\n",
      "Requirement already satisfied: importlib-resources in c:\\users\\mehak\\appdata\\local\\programs\\python\\python311\\lib\\site-packages (from chromadb) (6.5.2)\n",
      "Requirement already satisfied: grpcio>=1.58.0 in c:\\users\\mehak\\appdata\\local\\programs\\python\\python311\\lib\\site-packages (from chromadb) (1.69.0)\n",
      "Requirement already satisfied: bcrypt>=4.0.1 in c:\\users\\mehak\\appdata\\local\\programs\\python\\python311\\lib\\site-packages (from chromadb) (4.2.1)\n",
      "Requirement already satisfied: typer>=0.9.0 in c:\\users\\mehak\\appdata\\local\\programs\\python\\python311\\lib\\site-packages (from chromadb) (0.15.1)\n",
      "Requirement already satisfied: kubernetes>=28.1.0 in c:\\users\\mehak\\appdata\\local\\programs\\python\\python311\\lib\\site-packages (from chromadb) (31.0.0)\n",
      "Requirement already satisfied: tenacity>=8.2.3 in c:\\users\\mehak\\appdata\\local\\programs\\python\\python311\\lib\\site-packages (from chromadb) (9.0.0)\n",
      "Requirement already satisfied: PyYAML>=6.0.0 in c:\\users\\mehak\\appdata\\local\\programs\\python\\python311\\lib\\site-packages (from chromadb) (6.0.2)\n",
      "Requirement already satisfied: mmh3>=4.0.1 in c:\\users\\mehak\\appdata\\local\\programs\\python\\python311\\lib\\site-packages (from chromadb) (5.0.1)\n",
      "Requirement already satisfied: orjson>=3.9.12 in c:\\users\\mehak\\appdata\\local\\programs\\python\\python311\\lib\\site-packages (from chromadb) (3.10.14)\n",
      "Requirement already satisfied: httpx>=0.27.0 in c:\\users\\mehak\\appdata\\local\\programs\\python\\python311\\lib\\site-packages (from chromadb) (0.28.1)\n",
      "Requirement already satisfied: rich>=10.11.0 in c:\\users\\mehak\\appdata\\local\\programs\\python\\python311\\lib\\site-packages (from chromadb) (13.9.4)\n",
      "Requirement already satisfied: packaging>=19.1 in c:\\users\\mehak\\appdata\\local\\programs\\python\\python311\\lib\\site-packages (from build>=1.0.3->chromadb) (24.2)\n",
      "Requirement already satisfied: pyproject_hooks in c:\\users\\mehak\\appdata\\local\\programs\\python\\python311\\lib\\site-packages (from build>=1.0.3->chromadb) (1.2.0)\n",
      "Requirement already satisfied: colorama in c:\\users\\mehak\\appdata\\local\\programs\\python\\python311\\lib\\site-packages (from build>=1.0.3->chromadb) (0.4.6)\n",
      "Requirement already satisfied: starlette<0.42.0,>=0.40.0 in c:\\users\\mehak\\appdata\\local\\programs\\python\\python311\\lib\\site-packages (from fastapi>=0.95.2->chromadb) (0.41.3)\n",
      "Requirement already satisfied: anyio in c:\\users\\mehak\\appdata\\local\\programs\\python\\python311\\lib\\site-packages (from httpx>=0.27.0->chromadb) (4.8.0)\n",
      "Requirement already satisfied: certifi in c:\\users\\mehak\\appdata\\local\\programs\\python\\python311\\lib\\site-packages (from httpx>=0.27.0->chromadb) (2024.12.14)\n",
      "Requirement already satisfied: httpcore==1.* in c:\\users\\mehak\\appdata\\local\\programs\\python\\python311\\lib\\site-packages (from httpx>=0.27.0->chromadb) (1.0.7)\n",
      "Requirement already satisfied: idna in c:\\users\\mehak\\appdata\\local\\programs\\python\\python311\\lib\\site-packages (from httpx>=0.27.0->chromadb) (3.10)\n",
      "Requirement already satisfied: h11<0.15,>=0.13 in c:\\users\\mehak\\appdata\\local\\programs\\python\\python311\\lib\\site-packages (from httpcore==1.*->httpx>=0.27.0->chromadb) (0.14.0)\n",
      "Requirement already satisfied: six>=1.9.0 in c:\\users\\mehak\\appdata\\roaming\\python\\python311\\site-packages (from kubernetes>=28.1.0->chromadb) (1.17.0)\n",
      "Requirement already satisfied: python-dateutil>=2.5.3 in c:\\users\\mehak\\appdata\\roaming\\python\\python311\\site-packages (from kubernetes>=28.1.0->chromadb) (2.9.0.post0)\n",
      "Requirement already satisfied: google-auth>=1.0.1 in c:\\users\\mehak\\appdata\\local\\programs\\python\\python311\\lib\\site-packages (from kubernetes>=28.1.0->chromadb) (2.37.0)\n",
      "Requirement already satisfied: websocket-client!=0.40.0,!=0.41.*,!=0.42.*,>=0.32.0 in c:\\users\\mehak\\appdata\\local\\programs\\python\\python311\\lib\\site-packages (from kubernetes>=28.1.0->chromadb) (1.8.0)\n",
      "Requirement already satisfied: requests in c:\\users\\mehak\\appdata\\local\\programs\\python\\python311\\lib\\site-packages (from kubernetes>=28.1.0->chromadb) (2.32.3)\n",
      "Requirement already satisfied: requests-oauthlib in c:\\users\\mehak\\appdata\\local\\programs\\python\\python311\\lib\\site-packages (from kubernetes>=28.1.0->chromadb) (2.0.0)\n",
      "Requirement already satisfied: oauthlib>=3.2.2 in c:\\users\\mehak\\appdata\\local\\programs\\python\\python311\\lib\\site-packages (from kubernetes>=28.1.0->chromadb) (3.2.2)\n",
      "Requirement already satisfied: urllib3>=1.24.2 in c:\\users\\mehak\\appdata\\local\\programs\\python\\python311\\lib\\site-packages (from kubernetes>=28.1.0->chromadb) (2.3.0)\n",
      "Requirement already satisfied: durationpy>=0.7 in c:\\users\\mehak\\appdata\\local\\programs\\python\\python311\\lib\\site-packages (from kubernetes>=28.1.0->chromadb) (0.9)\n",
      "Requirement already satisfied: coloredlogs in c:\\users\\mehak\\appdata\\local\\programs\\python\\python311\\lib\\site-packages (from onnxruntime>=1.14.1->chromadb) (15.0.1)\n",
      "Requirement already satisfied: flatbuffers in c:\\users\\mehak\\appdata\\local\\programs\\python\\python311\\lib\\site-packages (from onnxruntime>=1.14.1->chromadb) (24.12.23)\n",
      "Requirement already satisfied: protobuf in c:\\users\\mehak\\appdata\\local\\programs\\python\\python311\\lib\\site-packages (from onnxruntime>=1.14.1->chromadb) (5.29.3)\n",
      "Requirement already satisfied: sympy in c:\\users\\mehak\\appdata\\local\\programs\\python\\python311\\lib\\site-packages (from onnxruntime>=1.14.1->chromadb) (1.13.1)\n",
      "Requirement already satisfied: deprecated>=1.2.6 in c:\\users\\mehak\\appdata\\local\\programs\\python\\python311\\lib\\site-packages (from opentelemetry-api>=1.2.0->chromadb) (1.2.15)\n",
      "Requirement already satisfied: importlib-metadata<=8.5.0,>=6.0 in c:\\users\\mehak\\appdata\\local\\programs\\python\\python311\\lib\\site-packages (from opentelemetry-api>=1.2.0->chromadb) (8.5.0)\n",
      "Requirement already satisfied: googleapis-common-protos~=1.52 in c:\\users\\mehak\\appdata\\local\\programs\\python\\python311\\lib\\site-packages (from opentelemetry-exporter-otlp-proto-grpc>=1.2.0->chromadb) (1.66.0)\n",
      "Requirement already satisfied: opentelemetry-exporter-otlp-proto-common==1.29.0 in c:\\users\\mehak\\appdata\\local\\programs\\python\\python311\\lib\\site-packages (from opentelemetry-exporter-otlp-proto-grpc>=1.2.0->chromadb) (1.29.0)\n",
      "Requirement already satisfied: opentelemetry-proto==1.29.0 in c:\\users\\mehak\\appdata\\local\\programs\\python\\python311\\lib\\site-packages (from opentelemetry-exporter-otlp-proto-grpc>=1.2.0->chromadb) (1.29.0)\n",
      "Requirement already satisfied: opentelemetry-instrumentation-asgi==0.50b0 in c:\\users\\mehak\\appdata\\local\\programs\\python\\python311\\lib\\site-packages (from opentelemetry-instrumentation-fastapi>=0.41b0->chromadb) (0.50b0)\n",
      "Requirement already satisfied: opentelemetry-instrumentation==0.50b0 in c:\\users\\mehak\\appdata\\local\\programs\\python\\python311\\lib\\site-packages (from opentelemetry-instrumentation-fastapi>=0.41b0->chromadb) (0.50b0)\n",
      "Requirement already satisfied: opentelemetry-semantic-conventions==0.50b0 in c:\\users\\mehak\\appdata\\local\\programs\\python\\python311\\lib\\site-packages (from opentelemetry-instrumentation-fastapi>=0.41b0->chromadb) (0.50b0)\n",
      "Requirement already satisfied: opentelemetry-util-http==0.50b0 in c:\\users\\mehak\\appdata\\local\\programs\\python\\python311\\lib\\site-packages (from opentelemetry-instrumentation-fastapi>=0.41b0->chromadb) (0.50b0)\n",
      "Requirement already satisfied: wrapt<2.0.0,>=1.0.0 in c:\\users\\mehak\\appdata\\local\\programs\\python\\python311\\lib\\site-packages (from opentelemetry-instrumentation==0.50b0->opentelemetry-instrumentation-fastapi>=0.41b0->chromadb) (1.17.2)\n",
      "Requirement already satisfied: asgiref~=3.0 in c:\\users\\mehak\\appdata\\local\\programs\\python\\python311\\lib\\site-packages (from opentelemetry-instrumentation-asgi==0.50b0->opentelemetry-instrumentation-fastapi>=0.41b0->chromadb) (3.8.1)\n",
      "Requirement already satisfied: monotonic>=1.5 in c:\\users\\mehak\\appdata\\local\\programs\\python\\python311\\lib\\site-packages (from posthog>=2.4.0->chromadb) (1.6)\n",
      "Requirement already satisfied: backoff>=1.10.0 in c:\\users\\mehak\\appdata\\local\\programs\\python\\python311\\lib\\site-packages (from posthog>=2.4.0->chromadb) (2.2.1)\n",
      "Requirement already satisfied: annotated-types>=0.6.0 in c:\\users\\mehak\\appdata\\local\\programs\\python\\python311\\lib\\site-packages (from pydantic>=1.9->chromadb) (0.7.0)\n",
      "Requirement already satisfied: pydantic-core==2.27.2 in c:\\users\\mehak\\appdata\\local\\programs\\python\\python311\\lib\\site-packages (from pydantic>=1.9->chromadb) (2.27.2)\n",
      "Requirement already satisfied: markdown-it-py>=2.2.0 in c:\\users\\mehak\\appdata\\local\\programs\\python\\python311\\lib\\site-packages (from rich>=10.11.0->chromadb) (3.0.0)\n",
      "Requirement already satisfied: pygments<3.0.0,>=2.13.0 in c:\\users\\mehak\\appdata\\roaming\\python\\python311\\site-packages (from rich>=10.11.0->chromadb) (2.19.1)\n",
      "Requirement already satisfied: huggingface-hub<1.0,>=0.16.4 in c:\\users\\mehak\\appdata\\local\\programs\\python\\python311\\lib\\site-packages (from tokenizers>=0.13.2->chromadb) (0.27.1)\n",
      "Requirement already satisfied: click>=8.0.0 in c:\\users\\mehak\\appdata\\local\\programs\\python\\python311\\lib\\site-packages (from typer>=0.9.0->chromadb) (8.1.8)\n",
      "Requirement already satisfied: shellingham>=1.3.0 in c:\\users\\mehak\\appdata\\local\\programs\\python\\python311\\lib\\site-packages (from typer>=0.9.0->chromadb) (1.5.4)\n",
      "Requirement already satisfied: httptools>=0.6.3 in c:\\users\\mehak\\appdata\\local\\programs\\python\\python311\\lib\\site-packages (from uvicorn[standard]>=0.18.3->chromadb) (0.6.4)\n",
      "Requirement already satisfied: python-dotenv>=0.13 in c:\\users\\mehak\\appdata\\local\\programs\\python\\python311\\lib\\site-packages (from uvicorn[standard]>=0.18.3->chromadb) (1.0.1)\n",
      "Requirement already satisfied: watchfiles>=0.13 in c:\\users\\mehak\\appdata\\local\\programs\\python\\python311\\lib\\site-packages (from uvicorn[standard]>=0.18.3->chromadb) (1.0.4)\n",
      "Requirement already satisfied: websockets>=10.4 in c:\\users\\mehak\\appdata\\local\\programs\\python\\python311\\lib\\site-packages (from uvicorn[standard]>=0.18.3->chromadb) (14.1)\n",
      "Requirement already satisfied: cachetools<6.0,>=2.0.0 in c:\\users\\mehak\\appdata\\local\\programs\\python\\python311\\lib\\site-packages (from google-auth>=1.0.1->kubernetes>=28.1.0->chromadb) (5.5.0)\n",
      "Requirement already satisfied: pyasn1-modules>=0.2.1 in c:\\users\\mehak\\appdata\\local\\programs\\python\\python311\\lib\\site-packages (from google-auth>=1.0.1->kubernetes>=28.1.0->chromadb) (0.4.1)\n",
      "Requirement already satisfied: rsa<5,>=3.1.4 in c:\\users\\mehak\\appdata\\local\\programs\\python\\python311\\lib\\site-packages (from google-auth>=1.0.1->kubernetes>=28.1.0->chromadb) (4.9)\n",
      "Requirement already satisfied: filelock in c:\\users\\mehak\\appdata\\local\\programs\\python\\python311\\lib\\site-packages (from huggingface-hub<1.0,>=0.16.4->tokenizers>=0.13.2->chromadb) (3.16.1)\n",
      "Requirement already satisfied: fsspec>=2023.5.0 in c:\\users\\mehak\\appdata\\local\\programs\\python\\python311\\lib\\site-packages (from huggingface-hub<1.0,>=0.16.4->tokenizers>=0.13.2->chromadb) (2024.9.0)\n",
      "Requirement already satisfied: zipp>=3.20 in c:\\users\\mehak\\appdata\\local\\programs\\python\\python311\\lib\\site-packages (from importlib-metadata<=8.5.0,>=6.0->opentelemetry-api>=1.2.0->chromadb) (3.21.0)\n",
      "Requirement already satisfied: mdurl~=0.1 in c:\\users\\mehak\\appdata\\local\\programs\\python\\python311\\lib\\site-packages (from markdown-it-py>=2.2.0->rich>=10.11.0->chromadb) (0.1.2)\n",
      "Requirement already satisfied: charset-normalizer<4,>=2 in c:\\users\\mehak\\appdata\\local\\programs\\python\\python311\\lib\\site-packages (from requests->kubernetes>=28.1.0->chromadb) (3.4.1)\n",
      "Requirement already satisfied: sniffio>=1.1 in c:\\users\\mehak\\appdata\\local\\programs\\python\\python311\\lib\\site-packages (from anyio->httpx>=0.27.0->chromadb) (1.3.1)\n",
      "Requirement already satisfied: humanfriendly>=9.1 in c:\\users\\mehak\\appdata\\local\\programs\\python\\python311\\lib\\site-packages (from coloredlogs->onnxruntime>=1.14.1->chromadb) (10.0)\n",
      "Requirement already satisfied: mpmath<1.4,>=1.1.0 in c:\\users\\mehak\\appdata\\local\\programs\\python\\python311\\lib\\site-packages (from sympy->onnxruntime>=1.14.1->chromadb) (1.3.0)\n",
      "Requirement already satisfied: pyreadline3 in c:\\users\\mehak\\appdata\\local\\programs\\python\\python311\\lib\\site-packages (from humanfriendly>=9.1->coloredlogs->onnxruntime>=1.14.1->chromadb) (3.5.4)\n",
      "Requirement already satisfied: pyasn1<0.7.0,>=0.4.6 in c:\\users\\mehak\\appdata\\local\\programs\\python\\python311\\lib\\site-packages (from pyasn1-modules>=0.2.1->google-auth>=1.0.1->kubernetes>=28.1.0->chromadb) (0.6.1)\n"
     ]
    },
    {
     "name": "stderr",
     "output_type": "stream",
     "text": [
      "WARNING: Ignoring invalid distribution ~ (C:\\Users\\mehak\\AppData\\Local\\Programs\\Python\\Python311\\Lib\\site-packages)\n",
      "WARNING: Ignoring invalid distribution ~ (C:\\Users\\mehak\\AppData\\Local\\Programs\\Python\\Python311\\Lib\\site-packages)\n",
      "WARNING: Ignoring invalid distribution ~ (C:\\Users\\mehak\\AppData\\Local\\Programs\\Python\\Python311\\Lib\\site-packages)\n"
     ]
    }
   ],
   "source": [
    "!pip install chromadb"
   ]
  },
  {
   "cell_type": "code",
   "execution_count": 4,
   "metadata": {},
   "outputs": [
    {
     "name": "stdout",
     "output_type": "stream",
     "text": [
      "Requirement already satisfied: langchain-openai in c:\\users\\mehak\\appdata\\local\\programs\\python\\python311\\lib\\site-packages (0.3.0)\n",
      "Requirement already satisfied: langchain-core<0.4.0,>=0.3.29 in c:\\users\\mehak\\appdata\\local\\programs\\python\\python311\\lib\\site-packages (from langchain-openai) (0.3.29)\n",
      "Requirement already satisfied: openai<2.0.0,>=1.58.1 in c:\\users\\mehak\\appdata\\local\\programs\\python\\python311\\lib\\site-packages (from langchain-openai) (1.59.7)\n",
      "Requirement already satisfied: tiktoken<1,>=0.7 in c:\\users\\mehak\\appdata\\local\\programs\\python\\python311\\lib\\site-packages (from langchain-openai) (0.8.0)\n",
      "Requirement already satisfied: PyYAML>=5.3 in c:\\users\\mehak\\appdata\\local\\programs\\python\\python311\\lib\\site-packages (from langchain-core<0.4.0,>=0.3.29->langchain-openai) (6.0.2)\n",
      "Requirement already satisfied: jsonpatch<2.0,>=1.33 in c:\\users\\mehak\\appdata\\local\\programs\\python\\python311\\lib\\site-packages (from langchain-core<0.4.0,>=0.3.29->langchain-openai) (1.33)\n",
      "Requirement already satisfied: langsmith<0.3,>=0.1.125 in c:\\users\\mehak\\appdata\\local\\programs\\python\\python311\\lib\\site-packages (from langchain-core<0.4.0,>=0.3.29->langchain-openai) (0.2.10)\n",
      "Requirement already satisfied: packaging<25,>=23.2 in c:\\users\\mehak\\appdata\\local\\programs\\python\\python311\\lib\\site-packages (from langchain-core<0.4.0,>=0.3.29->langchain-openai) (24.2)\n",
      "Requirement already satisfied: pydantic<3.0.0,>=2.5.2 in c:\\users\\mehak\\appdata\\local\\programs\\python\\python311\\lib\\site-packages (from langchain-core<0.4.0,>=0.3.29->langchain-openai) (2.10.5)\n",
      "Requirement already satisfied: tenacity!=8.4.0,<10.0.0,>=8.1.0 in c:\\users\\mehak\\appdata\\local\\programs\\python\\python311\\lib\\site-packages (from langchain-core<0.4.0,>=0.3.29->langchain-openai) (9.0.0)\n",
      "Requirement already satisfied: typing-extensions>=4.7 in c:\\users\\mehak\\appdata\\local\\programs\\python\\python311\\lib\\site-packages (from langchain-core<0.4.0,>=0.3.29->langchain-openai) (4.12.2)\n",
      "Requirement already satisfied: anyio<5,>=3.5.0 in c:\\users\\mehak\\appdata\\local\\programs\\python\\python311\\lib\\site-packages (from openai<2.0.0,>=1.58.1->langchain-openai) (4.8.0)\n",
      "Requirement already satisfied: distro<2,>=1.7.0 in c:\\users\\mehak\\appdata\\local\\programs\\python\\python311\\lib\\site-packages (from openai<2.0.0,>=1.58.1->langchain-openai) (1.9.0)\n",
      "Requirement already satisfied: httpx<1,>=0.23.0 in c:\\users\\mehak\\appdata\\local\\programs\\python\\python311\\lib\\site-packages (from openai<2.0.0,>=1.58.1->langchain-openai) (0.28.1)\n",
      "Requirement already satisfied: jiter<1,>=0.4.0 in c:\\users\\mehak\\appdata\\local\\programs\\python\\python311\\lib\\site-packages (from openai<2.0.0,>=1.58.1->langchain-openai) (0.8.2)\n",
      "Requirement already satisfied: sniffio in c:\\users\\mehak\\appdata\\local\\programs\\python\\python311\\lib\\site-packages (from openai<2.0.0,>=1.58.1->langchain-openai) (1.3.1)\n",
      "Requirement already satisfied: tqdm>4 in c:\\users\\mehak\\appdata\\local\\programs\\python\\python311\\lib\\site-packages (from openai<2.0.0,>=1.58.1->langchain-openai) (4.67.1)\n",
      "Requirement already satisfied: regex>=2022.1.18 in c:\\users\\mehak\\appdata\\local\\programs\\python\\python311\\lib\\site-packages (from tiktoken<1,>=0.7->langchain-openai) (2024.11.6)\n",
      "Requirement already satisfied: requests>=2.26.0 in c:\\users\\mehak\\appdata\\local\\programs\\python\\python311\\lib\\site-packages (from tiktoken<1,>=0.7->langchain-openai) (2.32.3)\n",
      "Requirement already satisfied: idna>=2.8 in c:\\users\\mehak\\appdata\\local\\programs\\python\\python311\\lib\\site-packages (from anyio<5,>=3.5.0->openai<2.0.0,>=1.58.1->langchain-openai) (3.10)\n",
      "Requirement already satisfied: certifi in c:\\users\\mehak\\appdata\\local\\programs\\python\\python311\\lib\\site-packages (from httpx<1,>=0.23.0->openai<2.0.0,>=1.58.1->langchain-openai) (2024.12.14)\n",
      "Requirement already satisfied: httpcore==1.* in c:\\users\\mehak\\appdata\\local\\programs\\python\\python311\\lib\\site-packages (from httpx<1,>=0.23.0->openai<2.0.0,>=1.58.1->langchain-openai) (1.0.7)\n",
      "Requirement already satisfied: h11<0.15,>=0.13 in c:\\users\\mehak\\appdata\\local\\programs\\python\\python311\\lib\\site-packages (from httpcore==1.*->httpx<1,>=0.23.0->openai<2.0.0,>=1.58.1->langchain-openai) (0.14.0)\n",
      "Requirement already satisfied: jsonpointer>=1.9 in c:\\users\\mehak\\appdata\\local\\programs\\python\\python311\\lib\\site-packages (from jsonpatch<2.0,>=1.33->langchain-core<0.4.0,>=0.3.29->langchain-openai) (3.0.0)\n",
      "Requirement already satisfied: orjson<4.0.0,>=3.9.14 in c:\\users\\mehak\\appdata\\local\\programs\\python\\python311\\lib\\site-packages (from langsmith<0.3,>=0.1.125->langchain-core<0.4.0,>=0.3.29->langchain-openai) (3.10.14)\n",
      "Requirement already satisfied: requests-toolbelt<2.0.0,>=1.0.0 in c:\\users\\mehak\\appdata\\local\\programs\\python\\python311\\lib\\site-packages (from langsmith<0.3,>=0.1.125->langchain-core<0.4.0,>=0.3.29->langchain-openai) (1.0.0)\n",
      "Requirement already satisfied: annotated-types>=0.6.0 in c:\\users\\mehak\\appdata\\local\\programs\\python\\python311\\lib\\site-packages (from pydantic<3.0.0,>=2.5.2->langchain-core<0.4.0,>=0.3.29->langchain-openai) (0.7.0)\n",
      "Requirement already satisfied: pydantic-core==2.27.2 in c:\\users\\mehak\\appdata\\local\\programs\\python\\python311\\lib\\site-packages (from pydantic<3.0.0,>=2.5.2->langchain-core<0.4.0,>=0.3.29->langchain-openai) (2.27.2)\n",
      "Requirement already satisfied: charset-normalizer<4,>=2 in c:\\users\\mehak\\appdata\\local\\programs\\python\\python311\\lib\\site-packages (from requests>=2.26.0->tiktoken<1,>=0.7->langchain-openai) (3.4.1)\n",
      "Requirement already satisfied: urllib3<3,>=1.21.1 in c:\\users\\mehak\\appdata\\local\\programs\\python\\python311\\lib\\site-packages (from requests>=2.26.0->tiktoken<1,>=0.7->langchain-openai) (2.3.0)\n",
      "Requirement already satisfied: colorama in c:\\users\\mehak\\appdata\\local\\programs\\python\\python311\\lib\\site-packages (from tqdm>4->openai<2.0.0,>=1.58.1->langchain-openai) (0.4.6)\n"
     ]
    },
    {
     "name": "stderr",
     "output_type": "stream",
     "text": [
      "WARNING: Ignoring invalid distribution ~ (C:\\Users\\mehak\\AppData\\Local\\Programs\\Python\\Python311\\Lib\\site-packages)\n",
      "WARNING: Ignoring invalid distribution ~ (C:\\Users\\mehak\\AppData\\Local\\Programs\\Python\\Python311\\Lib\\site-packages)\n",
      "WARNING: Ignoring invalid distribution ~ (C:\\Users\\mehak\\AppData\\Local\\Programs\\Python\\Python311\\Lib\\site-packages)\n"
     ]
    }
   ],
   "source": [
    "!pip install langchain-openai"
   ]
  },
  {
   "cell_type": "code",
   "execution_count": 5,
   "metadata": {},
   "outputs": [
    {
     "name": "stdout",
     "output_type": "stream",
     "text": [
      "Requirement already satisfied: langchain-community in c:\\users\\mehak\\appdata\\local\\programs\\python\\python311\\lib\\site-packages (0.3.14)\n",
      "Requirement already satisfied: PyYAML>=5.3 in c:\\users\\mehak\\appdata\\local\\programs\\python\\python311\\lib\\site-packages (from langchain-community) (6.0.2)\n",
      "Requirement already satisfied: SQLAlchemy<3,>=1.4 in c:\\users\\mehak\\appdata\\local\\programs\\python\\python311\\lib\\site-packages (from langchain-community) (2.0.37)\n",
      "Requirement already satisfied: aiohttp<4.0.0,>=3.8.3 in c:\\users\\mehak\\appdata\\local\\programs\\python\\python311\\lib\\site-packages (from langchain-community) (3.11.11)\n",
      "Requirement already satisfied: dataclasses-json<0.7,>=0.5.7 in c:\\users\\mehak\\appdata\\local\\programs\\python\\python311\\lib\\site-packages (from langchain-community) (0.6.7)\n",
      "Requirement already satisfied: httpx-sse<0.5.0,>=0.4.0 in c:\\users\\mehak\\appdata\\local\\programs\\python\\python311\\lib\\site-packages (from langchain-community) (0.4.0)\n",
      "Requirement already satisfied: langchain<0.4.0,>=0.3.14 in c:\\users\\mehak\\appdata\\local\\programs\\python\\python311\\lib\\site-packages (from langchain-community) (0.3.14)\n",
      "Requirement already satisfied: langchain-core<0.4.0,>=0.3.29 in c:\\users\\mehak\\appdata\\local\\programs\\python\\python311\\lib\\site-packages (from langchain-community) (0.3.29)\n",
      "Requirement already satisfied: langsmith<0.3,>=0.1.125 in c:\\users\\mehak\\appdata\\local\\programs\\python\\python311\\lib\\site-packages (from langchain-community) (0.2.10)\n",
      "Requirement already satisfied: numpy<2,>=1.22.4 in c:\\users\\mehak\\appdata\\local\\programs\\python\\python311\\lib\\site-packages (from langchain-community) (1.26.4)\n",
      "Requirement already satisfied: pydantic-settings<3.0.0,>=2.4.0 in c:\\users\\mehak\\appdata\\local\\programs\\python\\python311\\lib\\site-packages (from langchain-community) (2.7.1)\n",
      "Requirement already satisfied: requests<3,>=2 in c:\\users\\mehak\\appdata\\local\\programs\\python\\python311\\lib\\site-packages (from langchain-community) (2.32.3)\n",
      "Requirement already satisfied: tenacity!=8.4.0,<10,>=8.1.0 in c:\\users\\mehak\\appdata\\local\\programs\\python\\python311\\lib\\site-packages (from langchain-community) (9.0.0)\n",
      "Requirement already satisfied: aiohappyeyeballs>=2.3.0 in c:\\users\\mehak\\appdata\\local\\programs\\python\\python311\\lib\\site-packages (from aiohttp<4.0.0,>=3.8.3->langchain-community) (2.4.4)\n",
      "Requirement already satisfied: aiosignal>=1.1.2 in c:\\users\\mehak\\appdata\\local\\programs\\python\\python311\\lib\\site-packages (from aiohttp<4.0.0,>=3.8.3->langchain-community) (1.3.2)\n",
      "Requirement already satisfied: attrs>=17.3.0 in c:\\users\\mehak\\appdata\\local\\programs\\python\\python311\\lib\\site-packages (from aiohttp<4.0.0,>=3.8.3->langchain-community) (24.3.0)\n",
      "Requirement already satisfied: frozenlist>=1.1.1 in c:\\users\\mehak\\appdata\\local\\programs\\python\\python311\\lib\\site-packages (from aiohttp<4.0.0,>=3.8.3->langchain-community) (1.5.0)\n",
      "Requirement already satisfied: multidict<7.0,>=4.5 in c:\\users\\mehak\\appdata\\local\\programs\\python\\python311\\lib\\site-packages (from aiohttp<4.0.0,>=3.8.3->langchain-community) (6.1.0)\n",
      "Requirement already satisfied: propcache>=0.2.0 in c:\\users\\mehak\\appdata\\local\\programs\\python\\python311\\lib\\site-packages (from aiohttp<4.0.0,>=3.8.3->langchain-community) (0.2.1)\n",
      "Requirement already satisfied: yarl<2.0,>=1.17.0 in c:\\users\\mehak\\appdata\\local\\programs\\python\\python311\\lib\\site-packages (from aiohttp<4.0.0,>=3.8.3->langchain-community) (1.18.3)\n",
      "Requirement already satisfied: marshmallow<4.0.0,>=3.18.0 in c:\\users\\mehak\\appdata\\local\\programs\\python\\python311\\lib\\site-packages (from dataclasses-json<0.7,>=0.5.7->langchain-community) (3.25.1)\n",
      "Requirement already satisfied: typing-inspect<1,>=0.4.0 in c:\\users\\mehak\\appdata\\local\\programs\\python\\python311\\lib\\site-packages (from dataclasses-json<0.7,>=0.5.7->langchain-community) (0.9.0)\n",
      "Requirement already satisfied: langchain-text-splitters<0.4.0,>=0.3.3 in c:\\users\\mehak\\appdata\\local\\programs\\python\\python311\\lib\\site-packages (from langchain<0.4.0,>=0.3.14->langchain-community) (0.3.5)\n",
      "Requirement already satisfied: pydantic<3.0.0,>=2.7.4 in c:\\users\\mehak\\appdata\\local\\programs\\python\\python311\\lib\\site-packages (from langchain<0.4.0,>=0.3.14->langchain-community) (2.10.5)\n",
      "Requirement already satisfied: jsonpatch<2.0,>=1.33 in c:\\users\\mehak\\appdata\\local\\programs\\python\\python311\\lib\\site-packages (from langchain-core<0.4.0,>=0.3.29->langchain-community) (1.33)\n",
      "Requirement already satisfied: packaging<25,>=23.2 in c:\\users\\mehak\\appdata\\local\\programs\\python\\python311\\lib\\site-packages (from langchain-core<0.4.0,>=0.3.29->langchain-community) (24.2)\n",
      "Requirement already satisfied: typing-extensions>=4.7 in c:\\users\\mehak\\appdata\\local\\programs\\python\\python311\\lib\\site-packages (from langchain-core<0.4.0,>=0.3.29->langchain-community) (4.12.2)\n",
      "Requirement already satisfied: httpx<1,>=0.23.0 in c:\\users\\mehak\\appdata\\local\\programs\\python\\python311\\lib\\site-packages (from langsmith<0.3,>=0.1.125->langchain-community) (0.28.1)\n",
      "Requirement already satisfied: orjson<4.0.0,>=3.9.14 in c:\\users\\mehak\\appdata\\local\\programs\\python\\python311\\lib\\site-packages (from langsmith<0.3,>=0.1.125->langchain-community) (3.10.14)\n",
      "Requirement already satisfied: requests-toolbelt<2.0.0,>=1.0.0 in c:\\users\\mehak\\appdata\\local\\programs\\python\\python311\\lib\\site-packages (from langsmith<0.3,>=0.1.125->langchain-community) (1.0.0)\n",
      "Requirement already satisfied: python-dotenv>=0.21.0 in c:\\users\\mehak\\appdata\\local\\programs\\python\\python311\\lib\\site-packages (from pydantic-settings<3.0.0,>=2.4.0->langchain-community) (1.0.1)\n",
      "Requirement already satisfied: charset-normalizer<4,>=2 in c:\\users\\mehak\\appdata\\local\\programs\\python\\python311\\lib\\site-packages (from requests<3,>=2->langchain-community) (3.4.1)\n",
      "Requirement already satisfied: idna<4,>=2.5 in c:\\users\\mehak\\appdata\\local\\programs\\python\\python311\\lib\\site-packages (from requests<3,>=2->langchain-community) (3.10)\n",
      "Requirement already satisfied: urllib3<3,>=1.21.1 in c:\\users\\mehak\\appdata\\local\\programs\\python\\python311\\lib\\site-packages (from requests<3,>=2->langchain-community) (2.3.0)\n",
      "Requirement already satisfied: certifi>=2017.4.17 in c:\\users\\mehak\\appdata\\local\\programs\\python\\python311\\lib\\site-packages (from requests<3,>=2->langchain-community) (2024.12.14)\n",
      "Requirement already satisfied: greenlet!=0.4.17 in c:\\users\\mehak\\appdata\\local\\programs\\python\\python311\\lib\\site-packages (from SQLAlchemy<3,>=1.4->langchain-community) (3.1.1)\n",
      "Requirement already satisfied: anyio in c:\\users\\mehak\\appdata\\local\\programs\\python\\python311\\lib\\site-packages (from httpx<1,>=0.23.0->langsmith<0.3,>=0.1.125->langchain-community) (4.8.0)\n",
      "Requirement already satisfied: httpcore==1.* in c:\\users\\mehak\\appdata\\local\\programs\\python\\python311\\lib\\site-packages (from httpx<1,>=0.23.0->langsmith<0.3,>=0.1.125->langchain-community) (1.0.7)\n",
      "Requirement already satisfied: h11<0.15,>=0.13 in c:\\users\\mehak\\appdata\\local\\programs\\python\\python311\\lib\\site-packages (from httpcore==1.*->httpx<1,>=0.23.0->langsmith<0.3,>=0.1.125->langchain-community) (0.14.0)\n",
      "Requirement already satisfied: jsonpointer>=1.9 in c:\\users\\mehak\\appdata\\local\\programs\\python\\python311\\lib\\site-packages (from jsonpatch<2.0,>=1.33->langchain-core<0.4.0,>=0.3.29->langchain-community) (3.0.0)\n",
      "Requirement already satisfied: annotated-types>=0.6.0 in c:\\users\\mehak\\appdata\\local\\programs\\python\\python311\\lib\\site-packages (from pydantic<3.0.0,>=2.7.4->langchain<0.4.0,>=0.3.14->langchain-community) (0.7.0)\n",
      "Requirement already satisfied: pydantic-core==2.27.2 in c:\\users\\mehak\\appdata\\local\\programs\\python\\python311\\lib\\site-packages (from pydantic<3.0.0,>=2.7.4->langchain<0.4.0,>=0.3.14->langchain-community) (2.27.2)\n",
      "Requirement already satisfied: mypy-extensions>=0.3.0 in c:\\users\\mehak\\appdata\\local\\programs\\python\\python311\\lib\\site-packages (from typing-inspect<1,>=0.4.0->dataclasses-json<0.7,>=0.5.7->langchain-community) (1.0.0)\n",
      "Requirement already satisfied: sniffio>=1.1 in c:\\users\\mehak\\appdata\\local\\programs\\python\\python311\\lib\\site-packages (from anyio->httpx<1,>=0.23.0->langsmith<0.3,>=0.1.125->langchain-community) (1.3.1)\n"
     ]
    },
    {
     "name": "stderr",
     "output_type": "stream",
     "text": [
      "WARNING: Ignoring invalid distribution ~ (C:\\Users\\mehak\\AppData\\Local\\Programs\\Python\\Python311\\Lib\\site-packages)\n",
      "WARNING: Ignoring invalid distribution ~ (C:\\Users\\mehak\\AppData\\Local\\Programs\\Python\\Python311\\Lib\\site-packages)\n",
      "WARNING: Ignoring invalid distribution ~ (C:\\Users\\mehak\\AppData\\Local\\Programs\\Python\\Python311\\Lib\\site-packages)\n"
     ]
    }
   ],
   "source": [
    "!pip install langchain-community"
   ]
  },
  {
   "cell_type": "code",
   "execution_count": 6,
   "metadata": {},
   "outputs": [
    {
     "name": "stdout",
     "output_type": "stream",
     "text": [
      "Requirement already satisfied: gradio in c:\\users\\mehak\\appdata\\local\\programs\\python\\python311\\lib\\site-packages (5.13.0)\n",
      "Requirement already satisfied: aiofiles<24.0,>=22.0 in c:\\users\\mehak\\appdata\\local\\programs\\python\\python311\\lib\\site-packages (from gradio) (23.2.1)\n",
      "Requirement already satisfied: anyio<5.0,>=3.0 in c:\\users\\mehak\\appdata\\local\\programs\\python\\python311\\lib\\site-packages (from gradio) (4.8.0)\n",
      "Requirement already satisfied: fastapi<1.0,>=0.115.2 in c:\\users\\mehak\\appdata\\local\\programs\\python\\python311\\lib\\site-packages (from gradio) (0.115.6)\n",
      "Requirement already satisfied: ffmpy in c:\\users\\mehak\\appdata\\local\\programs\\python\\python311\\lib\\site-packages (from gradio) (0.5.0)\n",
      "Requirement already satisfied: gradio-client==1.6.0 in c:\\users\\mehak\\appdata\\local\\programs\\python\\python311\\lib\\site-packages (from gradio) (1.6.0)\n",
      "Requirement already satisfied: httpx>=0.24.1 in c:\\users\\mehak\\appdata\\local\\programs\\python\\python311\\lib\\site-packages (from gradio) (0.28.1)\n",
      "Requirement already satisfied: huggingface-hub>=0.25.1 in c:\\users\\mehak\\appdata\\local\\programs\\python\\python311\\lib\\site-packages (from gradio) (0.27.1)\n",
      "Requirement already satisfied: jinja2<4.0 in c:\\users\\mehak\\appdata\\local\\programs\\python\\python311\\lib\\site-packages (from gradio) (3.1.5)\n",
      "Requirement already satisfied: markupsafe~=2.0 in c:\\users\\mehak\\appdata\\local\\programs\\python\\python311\\lib\\site-packages (from gradio) (2.1.5)\n",
      "Requirement already satisfied: numpy<3.0,>=1.0 in c:\\users\\mehak\\appdata\\local\\programs\\python\\python311\\lib\\site-packages (from gradio) (1.26.4)\n",
      "Requirement already satisfied: orjson~=3.0 in c:\\users\\mehak\\appdata\\local\\programs\\python\\python311\\lib\\site-packages (from gradio) (3.10.14)\n",
      "Requirement already satisfied: packaging in c:\\users\\mehak\\appdata\\local\\programs\\python\\python311\\lib\\site-packages (from gradio) (24.2)\n",
      "Requirement already satisfied: pandas<3.0,>=1.0 in c:\\users\\mehak\\appdata\\local\\programs\\python\\python311\\lib\\site-packages (from gradio) (2.2.3)\n",
      "Requirement already satisfied: pillow<12.0,>=8.0 in c:\\users\\mehak\\appdata\\local\\programs\\python\\python311\\lib\\site-packages (from gradio) (11.1.0)\n",
      "Requirement already satisfied: pydantic>=2.0 in c:\\users\\mehak\\appdata\\local\\programs\\python\\python311\\lib\\site-packages (from gradio) (2.10.5)\n",
      "Requirement already satisfied: pydub in c:\\users\\mehak\\appdata\\local\\programs\\python\\python311\\lib\\site-packages (from gradio) (0.25.1)\n",
      "Requirement already satisfied: python-multipart>=0.0.18 in c:\\users\\mehak\\appdata\\local\\programs\\python\\python311\\lib\\site-packages (from gradio) (0.0.20)\n",
      "Requirement already satisfied: pyyaml<7.0,>=5.0 in c:\\users\\mehak\\appdata\\local\\programs\\python\\python311\\lib\\site-packages (from gradio) (6.0.2)\n",
      "Requirement already satisfied: ruff>=0.2.2 in c:\\users\\mehak\\appdata\\local\\programs\\python\\python311\\lib\\site-packages (from gradio) (0.9.2)\n",
      "Requirement already satisfied: safehttpx<0.2.0,>=0.1.6 in c:\\users\\mehak\\appdata\\local\\programs\\python\\python311\\lib\\site-packages (from gradio) (0.1.6)\n",
      "Requirement already satisfied: semantic-version~=2.0 in c:\\users\\mehak\\appdata\\local\\programs\\python\\python311\\lib\\site-packages (from gradio) (2.10.0)\n",
      "Requirement already satisfied: starlette<1.0,>=0.40.0 in c:\\users\\mehak\\appdata\\local\\programs\\python\\python311\\lib\\site-packages (from gradio) (0.41.3)\n",
      "Requirement already satisfied: tomlkit<0.14.0,>=0.12.0 in c:\\users\\mehak\\appdata\\local\\programs\\python\\python311\\lib\\site-packages (from gradio) (0.13.2)\n",
      "Requirement already satisfied: typer<1.0,>=0.12 in c:\\users\\mehak\\appdata\\local\\programs\\python\\python311\\lib\\site-packages (from gradio) (0.15.1)\n",
      "Requirement already satisfied: typing-extensions~=4.0 in c:\\users\\mehak\\appdata\\local\\programs\\python\\python311\\lib\\site-packages (from gradio) (4.12.2)\n",
      "Requirement already satisfied: uvicorn>=0.14.0 in c:\\users\\mehak\\appdata\\local\\programs\\python\\python311\\lib\\site-packages (from gradio) (0.34.0)\n",
      "Requirement already satisfied: fsspec in c:\\users\\mehak\\appdata\\local\\programs\\python\\python311\\lib\\site-packages (from gradio-client==1.6.0->gradio) (2024.9.0)\n",
      "Requirement already satisfied: websockets<15.0,>=10.0 in c:\\users\\mehak\\appdata\\local\\programs\\python\\python311\\lib\\site-packages (from gradio-client==1.6.0->gradio) (14.1)\n",
      "Requirement already satisfied: idna>=2.8 in c:\\users\\mehak\\appdata\\local\\programs\\python\\python311\\lib\\site-packages (from anyio<5.0,>=3.0->gradio) (3.10)\n",
      "Requirement already satisfied: sniffio>=1.1 in c:\\users\\mehak\\appdata\\local\\programs\\python\\python311\\lib\\site-packages (from anyio<5.0,>=3.0->gradio) (1.3.1)\n",
      "Requirement already satisfied: certifi in c:\\users\\mehak\\appdata\\local\\programs\\python\\python311\\lib\\site-packages (from httpx>=0.24.1->gradio) (2024.12.14)\n",
      "Requirement already satisfied: httpcore==1.* in c:\\users\\mehak\\appdata\\local\\programs\\python\\python311\\lib\\site-packages (from httpx>=0.24.1->gradio) (1.0.7)\n",
      "Requirement already satisfied: h11<0.15,>=0.13 in c:\\users\\mehak\\appdata\\local\\programs\\python\\python311\\lib\\site-packages (from httpcore==1.*->httpx>=0.24.1->gradio) (0.14.0)\n",
      "Requirement already satisfied: filelock in c:\\users\\mehak\\appdata\\local\\programs\\python\\python311\\lib\\site-packages (from huggingface-hub>=0.25.1->gradio) (3.16.1)\n",
      "Requirement already satisfied: requests in c:\\users\\mehak\\appdata\\local\\programs\\python\\python311\\lib\\site-packages (from huggingface-hub>=0.25.1->gradio) (2.32.3)\n",
      "Requirement already satisfied: tqdm>=4.42.1 in c:\\users\\mehak\\appdata\\local\\programs\\python\\python311\\lib\\site-packages (from huggingface-hub>=0.25.1->gradio) (4.67.1)\n",
      "Requirement already satisfied: python-dateutil>=2.8.2 in c:\\users\\mehak\\appdata\\roaming\\python\\python311\\site-packages (from pandas<3.0,>=1.0->gradio) (2.9.0.post0)\n",
      "Requirement already satisfied: pytz>=2020.1 in c:\\users\\mehak\\appdata\\local\\programs\\python\\python311\\lib\\site-packages (from pandas<3.0,>=1.0->gradio) (2024.2)\n",
      "Requirement already satisfied: tzdata>=2022.7 in c:\\users\\mehak\\appdata\\local\\programs\\python\\python311\\lib\\site-packages (from pandas<3.0,>=1.0->gradio) (2024.2)\n",
      "Requirement already satisfied: annotated-types>=0.6.0 in c:\\users\\mehak\\appdata\\local\\programs\\python\\python311\\lib\\site-packages (from pydantic>=2.0->gradio) (0.7.0)\n",
      "Requirement already satisfied: pydantic-core==2.27.2 in c:\\users\\mehak\\appdata\\local\\programs\\python\\python311\\lib\\site-packages (from pydantic>=2.0->gradio) (2.27.2)\n",
      "Requirement already satisfied: click>=8.0.0 in c:\\users\\mehak\\appdata\\local\\programs\\python\\python311\\lib\\site-packages (from typer<1.0,>=0.12->gradio) (8.1.8)\n",
      "Requirement already satisfied: shellingham>=1.3.0 in c:\\users\\mehak\\appdata\\local\\programs\\python\\python311\\lib\\site-packages (from typer<1.0,>=0.12->gradio) (1.5.4)\n",
      "Requirement already satisfied: rich>=10.11.0 in c:\\users\\mehak\\appdata\\local\\programs\\python\\python311\\lib\\site-packages (from typer<1.0,>=0.12->gradio) (13.9.4)\n",
      "Requirement already satisfied: colorama in c:\\users\\mehak\\appdata\\local\\programs\\python\\python311\\lib\\site-packages (from click>=8.0.0->typer<1.0,>=0.12->gradio) (0.4.6)\n",
      "Requirement already satisfied: six>=1.5 in c:\\users\\mehak\\appdata\\roaming\\python\\python311\\site-packages (from python-dateutil>=2.8.2->pandas<3.0,>=1.0->gradio) (1.17.0)\n",
      "Requirement already satisfied: markdown-it-py>=2.2.0 in c:\\users\\mehak\\appdata\\local\\programs\\python\\python311\\lib\\site-packages (from rich>=10.11.0->typer<1.0,>=0.12->gradio) (3.0.0)\n",
      "Requirement already satisfied: pygments<3.0.0,>=2.13.0 in c:\\users\\mehak\\appdata\\roaming\\python\\python311\\site-packages (from rich>=10.11.0->typer<1.0,>=0.12->gradio) (2.19.1)\n",
      "Requirement already satisfied: charset-normalizer<4,>=2 in c:\\users\\mehak\\appdata\\local\\programs\\python\\python311\\lib\\site-packages (from requests->huggingface-hub>=0.25.1->gradio) (3.4.1)\n",
      "Requirement already satisfied: urllib3<3,>=1.21.1 in c:\\users\\mehak\\appdata\\local\\programs\\python\\python311\\lib\\site-packages (from requests->huggingface-hub>=0.25.1->gradio) (2.3.0)\n",
      "Requirement already satisfied: mdurl~=0.1 in c:\\users\\mehak\\appdata\\local\\programs\\python\\python311\\lib\\site-packages (from markdown-it-py>=2.2.0->rich>=10.11.0->typer<1.0,>=0.12->gradio) (0.1.2)\n"
     ]
    },
    {
     "name": "stderr",
     "output_type": "stream",
     "text": [
      "WARNING: Ignoring invalid distribution ~ (C:\\Users\\mehak\\AppData\\Local\\Programs\\Python\\Python311\\Lib\\site-packages)\n",
      "WARNING: Ignoring invalid distribution ~ (C:\\Users\\mehak\\AppData\\Local\\Programs\\Python\\Python311\\Lib\\site-packages)\n",
      "WARNING: Ignoring invalid distribution ~ (C:\\Users\\mehak\\AppData\\Local\\Programs\\Python\\Python311\\Lib\\site-packages)\n"
     ]
    }
   ],
   "source": [
    "!pip install gradio"
   ]
  },
  {
   "cell_type": "code",
   "execution_count": 7,
   "metadata": {},
   "outputs": [
    {
     "name": "stdout",
     "output_type": "stream",
     "text": [
      "Requirement already satisfied: openai in c:\\users\\mehak\\appdata\\local\\programs\\python\\python311\\lib\\site-packages (1.59.7)"
     ]
    },
    {
     "name": "stderr",
     "output_type": "stream",
     "text": [
      "WARNING: Ignoring invalid distribution ~ (C:\\Users\\mehak\\AppData\\Local\\Programs\\Python\\Python311\\Lib\\site-packages)\n",
      "WARNING: Ignoring invalid distribution ~ (C:\\Users\\mehak\\AppData\\Local\\Programs\\Python\\Python311\\Lib\\site-packages)\n",
      "WARNING: Ignoring invalid distribution ~ (C:\\Users\\mehak\\AppData\\Local\\Programs\\Python\\Python311\\Lib\\site-packages)\n"
     ]
    },
    {
     "name": "stdout",
     "output_type": "stream",
     "text": [
      "\n",
      "Requirement already satisfied: anyio<5,>=3.5.0 in c:\\users\\mehak\\appdata\\local\\programs\\python\\python311\\lib\\site-packages (from openai) (4.8.0)\n",
      "Requirement already satisfied: distro<2,>=1.7.0 in c:\\users\\mehak\\appdata\\local\\programs\\python\\python311\\lib\\site-packages (from openai) (1.9.0)\n",
      "Requirement already satisfied: httpx<1,>=0.23.0 in c:\\users\\mehak\\appdata\\local\\programs\\python\\python311\\lib\\site-packages (from openai) (0.28.1)\n",
      "Requirement already satisfied: jiter<1,>=0.4.0 in c:\\users\\mehak\\appdata\\local\\programs\\python\\python311\\lib\\site-packages (from openai) (0.8.2)\n",
      "Requirement already satisfied: pydantic<3,>=1.9.0 in c:\\users\\mehak\\appdata\\local\\programs\\python\\python311\\lib\\site-packages (from openai) (2.10.5)\n",
      "Requirement already satisfied: sniffio in c:\\users\\mehak\\appdata\\local\\programs\\python\\python311\\lib\\site-packages (from openai) (1.3.1)\n",
      "Requirement already satisfied: tqdm>4 in c:\\users\\mehak\\appdata\\local\\programs\\python\\python311\\lib\\site-packages (from openai) (4.67.1)\n",
      "Requirement already satisfied: typing-extensions<5,>=4.11 in c:\\users\\mehak\\appdata\\local\\programs\\python\\python311\\lib\\site-packages (from openai) (4.12.2)\n",
      "Requirement already satisfied: idna>=2.8 in c:\\users\\mehak\\appdata\\local\\programs\\python\\python311\\lib\\site-packages (from anyio<5,>=3.5.0->openai) (3.10)\n",
      "Requirement already satisfied: certifi in c:\\users\\mehak\\appdata\\local\\programs\\python\\python311\\lib\\site-packages (from httpx<1,>=0.23.0->openai) (2024.12.14)\n",
      "Requirement already satisfied: httpcore==1.* in c:\\users\\mehak\\appdata\\local\\programs\\python\\python311\\lib\\site-packages (from httpx<1,>=0.23.0->openai) (1.0.7)\n",
      "Requirement already satisfied: h11<0.15,>=0.13 in c:\\users\\mehak\\appdata\\local\\programs\\python\\python311\\lib\\site-packages (from httpcore==1.*->httpx<1,>=0.23.0->openai) (0.14.0)\n",
      "Requirement already satisfied: annotated-types>=0.6.0 in c:\\users\\mehak\\appdata\\local\\programs\\python\\python311\\lib\\site-packages (from pydantic<3,>=1.9.0->openai) (0.7.0)\n",
      "Requirement already satisfied: pydantic-core==2.27.2 in c:\\users\\mehak\\appdata\\local\\programs\\python\\python311\\lib\\site-packages (from pydantic<3,>=1.9.0->openai) (2.27.2)\n",
      "Requirement already satisfied: colorama in c:\\users\\mehak\\appdata\\local\\programs\\python\\python311\\lib\\site-packages (from tqdm>4->openai) (0.4.6)\n"
     ]
    }
   ],
   "source": [
    "!pip install openai"
   ]
  },
  {
   "cell_type": "code",
   "execution_count": 8,
   "metadata": {},
   "outputs": [
    {
     "name": "stdout",
     "output_type": "stream",
     "text": [
      "Requirement already satisfied: whisper in c:\\users\\mehak\\appdata\\local\\programs\\python\\python311\\lib\\site-packages (1.1.10)\n",
      "Requirement already satisfied: six in c:\\users\\mehak\\appdata\\roaming\\python\\python311\\site-packages (from whisper) (1.17.0)\n"
     ]
    },
    {
     "name": "stderr",
     "output_type": "stream",
     "text": [
      "WARNING: Ignoring invalid distribution ~ (C:\\Users\\mehak\\AppData\\Local\\Programs\\Python\\Python311\\Lib\\site-packages)\n",
      "WARNING: Ignoring invalid distribution ~ (C:\\Users\\mehak\\AppData\\Local\\Programs\\Python\\Python311\\Lib\\site-packages)\n",
      "WARNING: Ignoring invalid distribution ~ (C:\\Users\\mehak\\AppData\\Local\\Programs\\Python\\Python311\\Lib\\site-packages)\n"
     ]
    }
   ],
   "source": [
    "!pip install whisper"
   ]
  },
  {
   "cell_type": "code",
   "execution_count": 9,
   "metadata": {},
   "outputs": [
    {
     "name": "stdout",
     "output_type": "stream",
     "text": [
      "Transcript for 2u4ItZerRac:\n",
      "[Music] the pros and cons of living in Germany today we're going to talk about the pros and cons of living in Germany Germany is an amazing country with a strong economy lots of culture great infrastructure and friendly people but that doesn't mean it's the right place for everyone in this video we'll look at all aspects of life in Germany so you can decide if it's the right move for you so let's get started Pros living in Germany is a great experience it offers many advantages both long and sho\n",
      "Transcript for I2zF1I60hPg:\n",
      "should you move to Germany that's an easy question to a hard answer but I'm going to try my [Music] best hi my name is Fernando I have been living in Munich Germany for eight years now and yeah I have a lot of experience I say and I'm very happy to kind of like give you some ideas and some stories to will probably help you make a better decision if you should move to Germany or not the first thing of course is that there are many reasons why you are probably moving to Germany either you got a a \n",
      "Transcript for 8xqSF-uHCUs:\n",
      "here in Germany the government is meeting this week to discuss new measures to more easily Deport migrants whose Asylum application was rejected or who have been convicted of certain crimes it's a controversial Topic in some areas of Germany but not in parts of the East where the anti-immigration alternative for Germany is the strongest political party many newly arrived migrants there worry that they are no longer welcome here because of war and I want to have a safe life here I'm 100% confiden\n",
      "Transcript for LtmS-c1pChY:\n",
      "the alternative for Germany afd party has unveiled a radical new approach to immigration policy signaling a potential shift in the nation's migration landscape Party leaders have proposed stringent measures that could dramatically reshape Germany's approach to foreign Nationals and border control afd leadership has outlined a comprehensive strategy targeting what they describe as excessive immigration the proposed plan includes significant restrictions on Asylum Seekers family reunification and \n",
      "Transcript for sJNxT-I7L6s:\n",
      "Germany has a huge problem its population is aging fast they're now around two workers for every pensioner the working population is shrinking as hundreds of thousands of baby boomers go into retirement Germany's federal employment agency says the country needs 400,000 skilled immigrants a year in Germany we need skilled Workforce we need additionally um skilled Workforce from abroad but whether immigrants f welcome is a whole other [Applause] [Music] question H so is Germany attractive enough f\n"
     ]
    }
   ],
   "source": [
    "from youtube_transcript_api import YouTubeTranscriptApi\n",
    "\n",
    "def get_video_transcript(video_id):\n",
    "    \"\"\"\n",
    "    Fetch transcript for a given YouTube video ID.\n",
    "    \"\"\"\n",
    "    try:\n",
    "        transcript = YouTubeTranscriptApi.get_transcript(video_id)\n",
    "        transcript_text = \" \".join([item['text'] for item in transcript if 'text' in item])\n",
    "        return transcript_text\n",
    "    except Exception as e:\n",
    "        print(f\"Error retrieving transcript for video {video_id}: {e}\")\n",
    "        return None\n",
    "\n",
    "# Example usage with a list of video IDs\n",
    "video_ids = ['2u4ItZerRac', 'I2zF1I60hPg', '8xqSF-uHCUs', 'LtmS-c1pChY', 'sJNxT-I7L6s']\n",
    "transcripts = {}\n",
    "\n",
    "# Fetch and print the transcript for each video\n",
    "for video_id in video_ids:\n",
    "    transcript = get_video_transcript(video_id)\n",
    "    if transcript:\n",
    "        transcripts[video_id] = transcript\n",
    "    else:\n",
    "        print(f\"No transcript available for video {video_id}\")\n",
    "\n",
    "# Display the fetched transcripts\n",
    "for video_id, transcript in transcripts.items():\n",
    "    print(f\"Transcript for {video_id}:\")\n",
    "    print(transcript[:500])  # Display the first 500 characters of each transcript for preview"
   ]
  },
  {
   "cell_type": "code",
   "execution_count": 10,
   "metadata": {},
   "outputs": [
    {
     "name": "stderr",
     "output_type": "stream",
     "text": [
      "c:\\Users\\mehak\\AppData\\Local\\Programs\\Python\\Python311\\Lib\\site-packages\\tqdm\\auto.py:21: TqdmWarning: IProgress not found. Please update jupyter and ipywidgets. See https://ipywidgets.readthedocs.io/en/stable/user_install.html\n",
      "  from .autonotebook import tqdm as notebook_tqdm\n"
     ]
    },
    {
     "name": "stdout",
     "output_type": "stream",
     "text": [
      "Stored embedding for 2u4ItZerRac\n",
      "Stored embedding for I2zF1I60hPg\n",
      "Stored embedding for 8xqSF-uHCUs\n",
      "Stored embedding for LtmS-c1pChY\n",
      "Stored embedding for sJNxT-I7L6s\n"
     ]
    }
   ],
   "source": [
    "import chromadb\n",
    "from sentence_transformers import SentenceTransformer\n",
    "\n",
    "# Initialize ChromaDB\n",
    "chroma_client = chromadb.Client()\n",
    "\n",
    "# Create a collection in ChromaDB\n",
    "collection = chroma_client.create_collection(\"youtube_video_transcripts3\")\n",
    "\n",
    "# Initialize the SentenceTransformer model for embedding text\n",
    "sentence_model = SentenceTransformer('all-mpnet-base-v2')\n",
    "\n",
    "def embed_text(text):\n",
    "    \"\"\"\n",
    "    Convert text into embeddings using SentenceTransformer.\n",
    "    \"\"\"\n",
    "    return sentence_model.encode([text])[0]\n",
    "\n",
    "def upsert_to_chromadb(video_id, transcript_text):\n",
    "    \"\"\"\n",
    "    Store video transcript embeddings in ChromaDB.\n",
    "    \"\"\"\n",
    "    embedding = embed_text(transcript_text)\n",
    "    collection.upsert(\n",
    "        ids=[video_id],  # Adding the 'ids' argument with the video_id\n",
    "        embeddings=[embedding],\n",
    "        metadatas=[{\"video_id\": video_id, \"transcript\": transcript_text}]\n",
    "    )\n",
    "\n",
    "# Upsert all transcripts into ChromaDB\n",
    "for video_id, transcript in transcripts.items():\n",
    "    upsert_to_chromadb(video_id, transcript)\n",
    "    print(f\"Stored embedding for {video_id}\")"
   ]
  },
  {
   "cell_type": "code",
   "execution_count": 11,
   "metadata": {},
   "outputs": [
    {
     "name": "stdout",
     "output_type": "stream",
     "text": [
      "Requirement already satisfied: python-dotenv in c:\\users\\mehak\\appdata\\local\\programs\\python\\python311\\lib\\site-packages (1.0.1)\n",
      "Note: you may need to restart the kernel to use updated packages.\n"
     ]
    },
    {
     "name": "stderr",
     "output_type": "stream",
     "text": [
      "WARNING: Ignoring invalid distribution ~ (c:\\Users\\mehak\\AppData\\Local\\Programs\\Python\\Python311\\Lib\\site-packages)\n",
      "WARNING: Ignoring invalid distribution ~ (c:\\Users\\mehak\\AppData\\Local\\Programs\\Python\\Python311\\Lib\\site-packages)\n",
      "WARNING: Ignoring invalid distribution ~ (c:\\Users\\mehak\\AppData\\Local\\Programs\\Python\\Python311\\Lib\\site-packages)\n"
     ]
    }
   ],
   "source": [
    "pip install python-dotenv"
   ]
  },
  {
   "cell_type": "code",
   "execution_count": 12,
   "metadata": {},
   "outputs": [
    {
     "name": "stderr",
     "output_type": "stream",
     "text": [
      "C:\\Users\\mehak\\AppData\\Local\\Temp\\ipykernel_17896\\1416730173.py:36: LangChainDeprecationWarning: The class `ChatOpenAI` was deprecated in LangChain 0.0.10 and will be removed in 1.0. An updated version of the class exists in the :class:`~langchain-openai package and should be used instead. To use it run `pip install -U :class:`~langchain-openai` and import as `from :class:`~langchain_openai import ChatOpenAI``.\n",
      "  llm = ChatOpenAI(model=\"gpt-4o-mini\", temperature=0)\n"
     ]
    },
    {
     "name": "stdout",
     "output_type": "stream",
     "text": [
      "Stored embedding for 2u4ItZerRac\n",
      "Stored embedding for I2zF1I60hPg\n",
      "Stored embedding for 8xqSF-uHCUs\n",
      "Stored embedding for LtmS-c1pChY\n",
      "Stored embedding for sJNxT-I7L6s\n",
      "Results: {'ids': [['2u4ItZerRac']], 'embeddings': None, 'documents': [[None]], 'uris': None, 'data': None, 'metadatas': [[{'transcript': \"[Music] the pros and cons of living in Germany today we're going to talk about the pros and cons of living in Germany Germany is an amazing country with a strong economy lots of culture great infrastructure and friendly people but that doesn't mean it's the right place for everyone in this video we'll look at all aspects of life in Germany so you can decide if it's the right move for you so let's get started Pros living in Germany is a great experience it offers many advantages both long and shortterm that make it an attractive destination for those considering making the move here are some of the pros of living in Germany one free education for more than 25 years Germany has offered tuition-free higher education at public universities with no charge for most courses and little no cost for administrative fees this means that students coming from all over the world can pursue their degree programs without worrying about expensive tuition costs moreover those studying in certain Fields even have access to Grants and scholarships which cover living expenses as well in addition to this incredible benefit German universities also provide high quality instruction from some of the finest academic Minds in Europe with famous institutions such as humbold University Berlin leading the way in research and Innovation you are sure to receive an excellent standard of learning whether you're taking up a course on engineering or literature two drinkable tap water living in Germany certainly comes with a lot of perks from the delicious sausages to the breathtaking cities but one perk that doesn't often get mentioned is how drinkable tap water in Germany is it's true and it's really quite remarkable of course not all German towns have perfect tap water but by far most do in fact many Germans believe their drinking water is so good because it's monitored more stringently than other countries and for sure there are no worries about added chemicals or nasty tastes what could be better three unemployment benefits if find themselves out of work due to whatever reason don't fret your well-being is taken care of thanks to the German government's generous Provisions for unemployment insurance unemployment insurance offers more than just monthly benefits to help you find job for instance recipients can utilize up to 50% of their benefit to continue their education or training at an accredited Institute making them more marketable for future work this feature makes Germany's system truly unique amongst its counterparts across Europe four Germans are very punctual ah the Germans and their punctuality it's one of the foundations of life in Germany it doesn't matter if you're running late to a meeting eating dinner with friends or just taking the bus if you live in Germany and don't arrive on time be prepared to get some judging looks for those unfamiliar with German culture schedules and arrival times can seem like an implicit expectation people may start mentally counting down 5 minutes before your planned arrival time but being fashionably late is not accepted here the pros of living around punctual people first off no more waiting for late friends you'll see someone at 6:00 p.m. if they claim they'll be there the 5 minute delay phone calls are over five very livable if you're looking for a fantastic country to live Germany should be your first choice Germany has exceptional quality of life and some of the world's most beautiful cities and towns to begin life in Germany is safe Germany's low crime rate is due to its tight regulations and extensive security measures Germany's cultural offerings and safety make it livable from concerts and festivals like October Fest to wonderful galleries like alter naal Gallery Berlin you can explore fantastic new experiences and learn about European art and culture six efficient public transport Germany has very efficient public transport systems that's right no more worrying about finding a parking spot no more car payments and insurance costs instead you get to hop on a bus or train and take advantage of free Wi-Fi while you travel what's even better is that most cities offer discounts for students or those with limited incomes so everyone has access to Affordable transport options plus when it comes to safety there are cameras on all trains and buses throughout the country making sure that your journey is secure seven Germans are fairly honest and reliable living in Germany can be an absolute dream come true especially if you value honesty and reliability Germans have a well-deserved reputation for being fairly honest and reliable you get what you pay for this is one of the major pros of living here not only do people usually keep their word but they don't beat around the bush either when discussing something important or giving feedback that means that no matter who it comes from even your boss at work you can rest assured that what is said will not be sugarcoated it'll be straightforward and to the point cons one bureaucracy Germans think of beer gardens and sausages not paperwork unfortunately bureaucracy is an unavoidable aspect of life here from registering at the alander beura Foreigner's office to getting health insurance or a bank account expect a sea of forms remember to gather Department stamps and signatures along the Route navigating this bureaucratic maze can feel like every institution has its own rules making it harder for an outsider two difficulty in making friends one of the major cons is making friends yes it can be quite difficult to make friends in this culturally diverse country if you don't speak the same language or understand its Customs it is one of the major negative sides of living in Germany but don't be alarmed Germans do actually have their own way of connecting with others through beer gardens now before you go thinking that all German socializing centers around drinking beer let me clarify there are other activities too like playing cards and board games or just chatting away over dinner you may even find yourself jumping on trampolines at an outdoor party with your new found Buddies three bad customer service when living in Germany you're likely to come across some seriously bad customer service it can range from basic rudess all the way up to downright hostile behavior from staff at various establishments and companies here you might be wondering why this is well the Germans have their own unique culture when it comes to customer relations that doesn't always align with our expectations as customers outside Germany let me give you an example let's say you are out shopping and spot something that catches your eye so naturally you approach a shop assistant for help only to get hit with a very brusk response or even worse they just ignore you altogether this often happens because they expect customers to shop independently rather than actively seeking out assistance this is one of the most ignored negative sides of living in Germany four bad internet connection it's no surprised that moving to Germany has its advantages from their amazing culture and delicious food to the gorgeous view news but one thing that many people Overlook is how bad the internet connection can be here that's right folks you heard it here first living in Germany comes with a terrible internet connection it is one of the most annoying negative sides of living in Germany sure some areas of the country have better connections than others but on average Germans are stuck with slow speeds and high prices when it comes to their internet service providers or isps from dropped connections to painfully slow loading times let us tell you it's enough to make any techsavvy person throw their computer out the window five no air conditioning not everything is perfect here especially when it comes to air conditioning while other countries are cranking down their temperatures with powerful AC units Germany has been left a bit behind on this front which can make summer days quite uncomfortable no matter how hot it gets outside Germans just seem content with keeping their windows open and relying on fans or luck to stay cool indoors this means that if you're ever visiting or living in Germany during the summer months then you prepare yourself for some sweat filled days ahead luckily though there's usually a nice breeze coming through those open Windows sort of like Nature's Own built-in air conditioner six tough language if you thought learning a foreign language was hard think again if you've ever wanted to test your linguistic metal look no further than Germany from casual conversation to mastering the finer points of grammar and verb conjugation learning German can be quite the challenge this might be one of those negative sides of living in Germany that you can overcome as you live there and learn the language sure moving to Germany has its perks but one big con is that speaking the native tongue can sometimes feel like a Herculean task the sheer amount of vocabulary and complex sentence structure especially compared to English can make some expats feel intimidated or overwhelmed especially if they're starting from scratch or brushing up on their skills after years away from the classroom we have tried our best to discuss all the pros and cons of living in Germany in this video living in this diverse and Lively country offers great job prospects great infrastructure and a great quality of life however like any move to a new home in a new country there are downsides such as slow internet bureaucracy and missing your favorite comfort Foods before moving to Germany weigh all these perks and downsides thank you for watching this video please don't forget to comment subscribe and turn on the notification Bell\", 'video_id': '2u4ItZerRac'}]], 'distances': [[1.5926493406295776]], 'included': [<IncludeEnum.distances: 'distances'>, <IncludeEnum.documents: 'documents'>, <IncludeEnum.metadatas: 'metadatas'>]}\n"
     ]
    },
    {
     "name": "stderr",
     "output_type": "stream",
     "text": [
      "C:\\Users\\mehak\\AppData\\Local\\Temp\\ipykernel_17896\\1416730173.py:105: LangChainDeprecationWarning: The class `LLMChain` was deprecated in LangChain 0.1.17 and will be removed in 1.0. Use :meth:`~RunnableSequence, e.g., `prompt | llm`` instead.\n",
      "  qa_chain = LLMChain(llm=llm, prompt=qa_prompt)\n",
      "C:\\Users\\mehak\\AppData\\Local\\Temp\\ipykernel_17896\\1416730173.py:106: LangChainDeprecationWarning: The method `Chain.run` was deprecated in langchain 0.1.0 and will be removed in 1.0. Use :meth:`~invoke` instead.\n",
      "  answer = qa_chain.run(context=combined_context, question=question)\n"
     ]
    },
    {
     "name": "stdout",
     "output_type": "stream",
     "text": [
      "Answer: The main topic of the video is the pros and cons of living in Germany, discussing various aspects of life in the country to help viewers decide if moving to Germany is the right choice for them.\n",
      "Results: {'ids': [['2u4ItZerRac']], 'embeddings': None, 'documents': [[None]], 'uris': None, 'data': None, 'metadatas': [[{'transcript': \"[Music] the pros and cons of living in Germany today we're going to talk about the pros and cons of living in Germany Germany is an amazing country with a strong economy lots of culture great infrastructure and friendly people but that doesn't mean it's the right place for everyone in this video we'll look at all aspects of life in Germany so you can decide if it's the right move for you so let's get started Pros living in Germany is a great experience it offers many advantages both long and shortterm that make it an attractive destination for those considering making the move here are some of the pros of living in Germany one free education for more than 25 years Germany has offered tuition-free higher education at public universities with no charge for most courses and little no cost for administrative fees this means that students coming from all over the world can pursue their degree programs without worrying about expensive tuition costs moreover those studying in certain Fields even have access to Grants and scholarships which cover living expenses as well in addition to this incredible benefit German universities also provide high quality instruction from some of the finest academic Minds in Europe with famous institutions such as humbold University Berlin leading the way in research and Innovation you are sure to receive an excellent standard of learning whether you're taking up a course on engineering or literature two drinkable tap water living in Germany certainly comes with a lot of perks from the delicious sausages to the breathtaking cities but one perk that doesn't often get mentioned is how drinkable tap water in Germany is it's true and it's really quite remarkable of course not all German towns have perfect tap water but by far most do in fact many Germans believe their drinking water is so good because it's monitored more stringently than other countries and for sure there are no worries about added chemicals or nasty tastes what could be better three unemployment benefits if find themselves out of work due to whatever reason don't fret your well-being is taken care of thanks to the German government's generous Provisions for unemployment insurance unemployment insurance offers more than just monthly benefits to help you find job for instance recipients can utilize up to 50% of their benefit to continue their education or training at an accredited Institute making them more marketable for future work this feature makes Germany's system truly unique amongst its counterparts across Europe four Germans are very punctual ah the Germans and their punctuality it's one of the foundations of life in Germany it doesn't matter if you're running late to a meeting eating dinner with friends or just taking the bus if you live in Germany and don't arrive on time be prepared to get some judging looks for those unfamiliar with German culture schedules and arrival times can seem like an implicit expectation people may start mentally counting down 5 minutes before your planned arrival time but being fashionably late is not accepted here the pros of living around punctual people first off no more waiting for late friends you'll see someone at 6:00 p.m. if they claim they'll be there the 5 minute delay phone calls are over five very livable if you're looking for a fantastic country to live Germany should be your first choice Germany has exceptional quality of life and some of the world's most beautiful cities and towns to begin life in Germany is safe Germany's low crime rate is due to its tight regulations and extensive security measures Germany's cultural offerings and safety make it livable from concerts and festivals like October Fest to wonderful galleries like alter naal Gallery Berlin you can explore fantastic new experiences and learn about European art and culture six efficient public transport Germany has very efficient public transport systems that's right no more worrying about finding a parking spot no more car payments and insurance costs instead you get to hop on a bus or train and take advantage of free Wi-Fi while you travel what's even better is that most cities offer discounts for students or those with limited incomes so everyone has access to Affordable transport options plus when it comes to safety there are cameras on all trains and buses throughout the country making sure that your journey is secure seven Germans are fairly honest and reliable living in Germany can be an absolute dream come true especially if you value honesty and reliability Germans have a well-deserved reputation for being fairly honest and reliable you get what you pay for this is one of the major pros of living here not only do people usually keep their word but they don't beat around the bush either when discussing something important or giving feedback that means that no matter who it comes from even your boss at work you can rest assured that what is said will not be sugarcoated it'll be straightforward and to the point cons one bureaucracy Germans think of beer gardens and sausages not paperwork unfortunately bureaucracy is an unavoidable aspect of life here from registering at the alander beura Foreigner's office to getting health insurance or a bank account expect a sea of forms remember to gather Department stamps and signatures along the Route navigating this bureaucratic maze can feel like every institution has its own rules making it harder for an outsider two difficulty in making friends one of the major cons is making friends yes it can be quite difficult to make friends in this culturally diverse country if you don't speak the same language or understand its Customs it is one of the major negative sides of living in Germany but don't be alarmed Germans do actually have their own way of connecting with others through beer gardens now before you go thinking that all German socializing centers around drinking beer let me clarify there are other activities too like playing cards and board games or just chatting away over dinner you may even find yourself jumping on trampolines at an outdoor party with your new found Buddies three bad customer service when living in Germany you're likely to come across some seriously bad customer service it can range from basic rudess all the way up to downright hostile behavior from staff at various establishments and companies here you might be wondering why this is well the Germans have their own unique culture when it comes to customer relations that doesn't always align with our expectations as customers outside Germany let me give you an example let's say you are out shopping and spot something that catches your eye so naturally you approach a shop assistant for help only to get hit with a very brusk response or even worse they just ignore you altogether this often happens because they expect customers to shop independently rather than actively seeking out assistance this is one of the most ignored negative sides of living in Germany four bad internet connection it's no surprised that moving to Germany has its advantages from their amazing culture and delicious food to the gorgeous view news but one thing that many people Overlook is how bad the internet connection can be here that's right folks you heard it here first living in Germany comes with a terrible internet connection it is one of the most annoying negative sides of living in Germany sure some areas of the country have better connections than others but on average Germans are stuck with slow speeds and high prices when it comes to their internet service providers or isps from dropped connections to painfully slow loading times let us tell you it's enough to make any techsavvy person throw their computer out the window five no air conditioning not everything is perfect here especially when it comes to air conditioning while other countries are cranking down their temperatures with powerful AC units Germany has been left a bit behind on this front which can make summer days quite uncomfortable no matter how hot it gets outside Germans just seem content with keeping their windows open and relying on fans or luck to stay cool indoors this means that if you're ever visiting or living in Germany during the summer months then you prepare yourself for some sweat filled days ahead luckily though there's usually a nice breeze coming through those open Windows sort of like Nature's Own built-in air conditioner six tough language if you thought learning a foreign language was hard think again if you've ever wanted to test your linguistic metal look no further than Germany from casual conversation to mastering the finer points of grammar and verb conjugation learning German can be quite the challenge this might be one of those negative sides of living in Germany that you can overcome as you live there and learn the language sure moving to Germany has its perks but one big con is that speaking the native tongue can sometimes feel like a Herculean task the sheer amount of vocabulary and complex sentence structure especially compared to English can make some expats feel intimidated or overwhelmed especially if they're starting from scratch or brushing up on their skills after years away from the classroom we have tried our best to discuss all the pros and cons of living in Germany in this video living in this diverse and Lively country offers great job prospects great infrastructure and a great quality of life however like any move to a new home in a new country there are downsides such as slow internet bureaucracy and missing your favorite comfort Foods before moving to Germany weigh all these perks and downsides thank you for watching this video please don't forget to comment subscribe and turn on the notification Bell\", 'video_id': '2u4ItZerRac'}]], 'distances': [[0.6507151126861572]], 'included': [<IncludeEnum.distances: 'distances'>, <IncludeEnum.documents: 'documents'>, <IncludeEnum.metadatas: 'metadatas'>]}\n",
      "Answer: The benefits of immigration to Germany include:\n",
      "\n",
      "1. **Strong Economy**: Germany has a robust economy that offers numerous job opportunities, particularly for skilled workers. This economic stability can provide a secure environment for immigrants.\n",
      "\n",
      "2. **Free Education**: Germany offers tuition-free higher education at public universities, making it an attractive destination for students from around the world. This allows immigrants to pursue their academic goals without the burden of high tuition costs.\n",
      "\n",
      "3. **High Quality of Life**: Germany is known for its exceptional quality of life, with beautiful cities, cultural offerings, and a low crime rate, making it a safe and enjoyable place to live.\n",
      "\n",
      "4. **Efficient Public Transport**: The country has a well-developed public transport system, which makes commuting easier and more affordable for residents, including immigrants.\n",
      "\n",
      "5. **Generous Unemployment Benefits**: In case of job loss, immigrants can benefit from Germany's unemployment insurance, which not only provides financial support but also allows recipients to use part of their benefits for further education or training.\n",
      "\n",
      "6. **Cultural Diversity**: Germany is culturally diverse, which can provide a welcoming environment for immigrants from various backgrounds. This diversity can enrich the social fabric of the country.\n",
      "\n",
      "7. **Access to Healthcare**: Immigrants in Germany can benefit from a comprehensive healthcare system, ensuring access to medical services.\n",
      "\n",
      "8. **Safety and Security**: Germany's low crime rate and strict regulations contribute to a sense of safety for residents, including immigrants.\n",
      "\n",
      "Overall, these benefits make Germany an attractive destination for immigrants seeking new opportunities and a better quality of life.\n",
      "Results: {'ids': [['sJNxT-I7L6s']], 'embeddings': None, 'documents': [[None]], 'uris': None, 'data': None, 'metadatas': [[{'transcript': \"Germany has a huge problem its population is aging fast they're now around two workers for every pensioner the working population is shrinking as hundreds of thousands of baby boomers go into retirement Germany's federal employment agency says the country needs 400,000 skilled immigrants a year in Germany we need skilled Workforce we need additionally um skilled Workforce from abroad but whether immigrants f welcome is a whole other [Applause] [Music] question H so is Germany attractive enough for skilled immigrants in India when I used to work I was almost busy I had a lot of like say like work from office so there was not enough time for me I can move to Netherlands and still keep the position I have I will be very close to Germany so uh whenever I'm needed in the headquarters it's just a couple of hours away now before we hear more from panach taiza and ozan here are the three top reasons why skilled workers move to Germany career opportunities they want to gain experience or get ahead number two safety and rounding out the top three The Good Health Care System Believe It or Not salaries are in fourth place other reasons include its democracy good education system and clean air my name is chaponda and I've been living in Germany for the last 17 years so I'm curious about what other skilled immigrants make of this country I'm bankage from India uh I came here 2 and a half years ago with my family I work in IT industry and I'm planning to stay here longer and apply for the citizenship I'm I came to Germany 3 years ago from Turkey I work as a business developer now I'm planning to leave Germany three people three stories making it in Germany isn't a walk in the park for one just finding a One-Stop shop to help you navigate the immigration rules is a challenge we struggle to find one right Marta yes it's very confusing German bureaucracy is a lot of paperwork and if you miss out on something uh let's say if you get late to your appointment even for 5 minutes you will miss that appointment it's quite you know Annoying to to get the things done you need to wait for 3 weeks or 4 weeks and you just have to wait you cannot do anything you cannot simply you cannot do anything in that case so yeah you have to wait wow when I moved to Germany in 2007 I didn't have to wait too long many things seemed easier it was quite difficult to to get an apartment in the very beginning I came with my family so I was looking for an apartment which suits our family [Music] over half the people looking for a new home have been searching for more than a year and most of them say they can't find accommodation because what's an offer is just too expensive so for panage it was a catch 22 you need to show proof that you have a registed address to be able to access government services and you can only get that from your property owner Airbnb Hotel don't count because they are considered commercial accommodations I was getting a lot of letters from the school because it is mandatory for a children who is more than 6-year-old to go to the school as I was not having a home so where could I send him so I was just trying to find out an apartment and I was not finding an apartment and I was getting a letter from the school again and again Pan's employer rented an apartment for him but not everyone is so lucky I have my colleague uh she was trying to find an apartment she's a German but she could also not find the apartment so it's not like for Foreigner it's for everyone but for many foreigners the language barrier makes it even harder I don't find it very welcoming when you object or refuse to give service in any other language it's not only a language barrier but it's like an imposition like they impose this to you and I I'm really having difficulty to understand this actually so much for Germany's so-called welcome culture will Commons go do you speak German to Italian colleagues or French colleagues the first thing I look when I'm buying a service is if they offer a foreign language with their services that's the first thing I look at it's not because I don't want to learn German people are expecting you to be at their level with their language and from day one to two suddenly you switch and you become one of them it's not that simple [Music] [Music] but Germany desperately needs nurses around one in six healthcare workers isn't German and the need for them is Rising by the year if it weren't for its foreign workers Tia's Hospital would have to reduce its bed capacity by a third yeah when I came here it was quite shocking because in India we used to talk a lot even though in workplaces also we we chitchat a lot we talk a lot but in in Germany I noticed like the when they work they work so there is there is not much let's say like people do not talk much so it was very difficult to you know to get into the system to get to talk to the people well Germans aren't known for small talk and I wouldn't recommend dropping in on anyone unannounced either [Music] when I first moved here of course my expectation was to make a big leap in my life I thought I would be more in the center but then I felt more outside actually so of course it leaves you a feeling of a dissatisfaction and frustration among 53 countries Germany ranks fifth from the bottom when it comes to making friends my tip lower your expectations when it comes to making friends fast in Germany with the community here it was a lot easier they would show me things they would give me suggestions even during a small talk they would say yeah have you tried this one have you heard about this not necessarily I would prefer to connect with these people just because they could speak my uh mother tongue but I find it quite relaxing and refreshing actually finding a place in German society looks different for everyone and a lot has to do with language yeah braan but sometimes TAA is made to feel like an outsider discrimination is a major problem statistics show that three out of five blacks and other people of color living in Germany have already experien racism here I should know and it makes Germany less attractive despite the fact that companies desperately need skilled workers after 1 and a half year I was looking for uh some uh senior kind of role as well so then I started looking for a change and I got an opportunity which is uh like permanent remote now at the same time my wife needs to know the language first without knowing the language it's very difficult for her to get a role and to learn the language she needs to go in the morning like four or 5 hours classes I wanted to go forward with the language first and then I will pursue my uh it course from The Institute and then I will uh continue with the job in it field I can stay at home and work and can let's say drop the children in the morning to the kinder Garden out of the school for me it's it's it's good yeah for years Germany has had a hot job market for it experts and panage was able to easily switch jobs because he has a blue card that's a special visa for highly skilled workers Engineers doctors nurses teachers scientists and it experts are among the professions with a severe labor shortage that qualify and it experts can get a blue card even without a University degree once a person has a blue card they can move easily to most EU countries as long as they have a job offer Europe needs workers with the blue card the mobility is not a problem I will just transfer my blue card to Netherlands and plus they have some advantages too for uh I think they call us expats I'm planning to enjoy those uh additional um addition what additional offerings Germany was a good choice for the time being it is safe you are treated equal as long as you speak the language you have purchasing power you have the sense of security it's quiet it's orderly where I'm coming from it's quite chaotic I really needed this and sometimes when I'm back to Turkey I find myself oh my God I missed home and by home I mean Haner [Music] TAA is turning a hobby into a side Hustle for end for me as from [Music] from and it's not just about support at the beginning immigrants need to understand how salaries are taxed a nurse will earn 3,433 on average and if they don't have children €17 goes to income tax and € 723 to Social Security the tax burden and Social Security reactions are high so their take-home pay will be € 2,293 and from that they'll need to cover rent groceries and clothes and other expenses too this could be a reason why two out of five skilled immigrants in Germany are somewhat or very unhappy with their financial situation and yet Healthcare and education are practically free here that's largely thanks to the high taxes and Social Security deductions but other countries like the Netherlands have lower taxes for expat the reason why I'm choosing now Netherlands is that it's open for foreigners and not only rdam but all around Netherlands it really feels like it is more welcoming I just want to also underline that this is not open to immigrants but when you have a privilege like a blue card or if you are a skilled employee it's easier for you to start a life in this kind of countries I know my privileges and I know these privileges are more beneficial here I'm even planning on buying a new [Music] apartment Germany has the lowest home ownership rate in the EU more than half of the people are renters because it is much harder to finance a home purchase entirely through a bank loan for the time being my plan is to stay in Rotterdam three out of five single people who want to move to Germany plan to stay permanently for those with families it is three out of four maybe because education is free here my children at least I want them to you know complete the school here and the university [Music] here here Ina the keyword for Rotterdam is accessible the connectedness feeling is my biggest expectation here wait you don't have it so is Germany attractive enough for skilled immigrants well I'm applying for German citizenship but having gone through some of the challenges that oan taiza and panage have mentioned I have a couple of suggestions for Germany one provide better support to Skilled immigrants during their first few years in the country two reduce bureaucracy simplify the paperwork like tax declarations for instance three reward skilled immigrants who choose to learn German no should feel like they're losing time or money when investing in the one language that would make their lives easier here so how attractive do you think Germany is for skilled immigrants we want to hear from you in the comments [Music]\", 'video_id': 'sJNxT-I7L6s'}]], 'distances': [[0.7231895923614502]], 'included': [<IncludeEnum.distances: 'distances'>, <IncludeEnum.documents: 'documents'>, <IncludeEnum.metadatas: 'metadatas'>]}\n",
      "Answer: Immigrants in Germany face several challenges, including:\n",
      "\n",
      "1. **Bureaucracy**: Navigating the complex bureaucratic processes can be overwhelming, as it involves a lot of paperwork, registrations, and obtaining various approvals, which can be frustrating for newcomers.\n",
      "\n",
      "2. **Difficulty in Making Friends**: Building social connections can be challenging, especially for those who do not speak German or are unfamiliar with the local customs. This can lead to feelings of isolation.\n",
      "\n",
      "3. **Cultural Differences**: Understanding and adapting to German social norms and behaviors can be difficult for immigrants, which may hinder their ability to integrate into society.\n",
      "\n",
      "4. **Language Barrier**: Learning German can be a significant hurdle, as the language has complex grammar and vocabulary. This can make everyday interactions and professional opportunities more challenging.\n",
      "\n",
      "5. **Perception of Unwelcomeness**: Some immigrants may feel unwelcome, particularly in areas where anti-immigration sentiments are strong, which can affect their sense of belonging and safety.\n",
      "\n",
      "6. **Employment Challenges**: While there is a demand for skilled workers, immigrants may still face difficulties in finding jobs that match their qualifications or in getting their credentials recognized.\n",
      "\n",
      "7. **Customer Service Issues**: Immigrants may encounter poor customer service, as the cultural expectations around customer relations in Germany can differ significantly from those in other countries.\n",
      "\n",
      "These challenges can impact the overall experience of immigrants in Germany, making it essential for them to prepare and seek support as they navigate their new environment.\n"
     ]
    }
   ],
   "source": [
    "from dotenv import load_dotenv\n",
    "import os\n",
    "\n",
    "# Load environment variables from .env file\n",
    "load_dotenv()\n",
    "\n",
    "# Get the OpenAI API key from the environment variable\n",
    "openai_api_key = os.getenv(\"OPENAI_API_KEY\")\n",
    "\n",
    "# Set the OpenAI API key as an environment variable\n",
    "os.environ[\"OPENAI_API_KEY\"] = openai_api_key\n",
    "\n",
    "\n",
    "# Now you can use the OpenAI API key in your script\n",
    "from youtube_transcript_api import YouTubeTranscriptApi\n",
    "import chromadb\n",
    "from sentence_transformers import SentenceTransformer\n",
    "from langchain.chains import LLMChain\n",
    "from langchain.chat_models import ChatOpenAI\n",
    "from langchain.prompts import PromptTemplate\n",
    "import openai\n",
    "\n",
    "# Define the LangChain Prompt Template for QA\n",
    "QA_TEMPLATE = \"\"\"\n",
    "Use the following context from a YouTube video transcript to answer the question:\n",
    "\n",
    "Context: {context}\n",
    "\n",
    "Question: {question}\n",
    "\n",
    "Answer:\n",
    "\"\"\"\n",
    "qa_prompt = PromptTemplate(input_variables=[\"context\", \"question\"], template=QA_TEMPLATE)\n",
    "\n",
    "# Initialize the LLM (using GPT-4 mini model)\n",
    "llm = ChatOpenAI(model=\"gpt-4o-mini\", temperature=0)\n",
    "\n",
    "# Combine the provided transcripts into a single context\n",
    "combined_context = \"\"\"\n",
    "\n",
    "[Music] the pros and cons of living in Germany today we're going to talk about the pros and cons of living in Germany Germany is an amazing country with a strong economy lots of culture great infrastructure and friendly people but that doesn't mean it's the right place for everyone in this video we'll look at all aspects of life in Germany so you can decide if it's the right move for you so let's get started Pros living in Germany is a great experience it offers many advantages both long and sho\n",
    "should you move to Germany that's an easy question to a hard answer but I'm going to try my [Music] best hi my name is Fernando I have been living in Munich Germany for eight years now and yeah I have a lot of experience I say and I'm very happy to kind of like give you some ideas and some stories to will probably help you make a better decision if you should move to Germany or not the first thing of course is that there are many reasons why you are probably moving to Germany either you got a a \n",
    "here in Germany the government is meeting this week to discuss new measures to more easily Deport migrants whose Asylum application was rejected or who have been convicted of certain crimes it's a controversial Topic in some areas of Germany but not in parts of the East where the anti-immigration alternative for Germany is the strongest political party many newly arrived migrants there worry that they are no longer welcome here because of war and I want to have a safe life here I'm 100% confiden\n",
    "the alternative for Germany afd party has unveiled a radical new approach to immigration policy signaling a potential shift in the nation's migration landscape Party leaders have proposed stringent measures that could dramatically reshape Germany's approach to foreign Nationals and border control afd leadership has outlined a comprehensive strategy targeting what they describe as excessive immigration the proposed plan includes significant restrictions on Asylum Seekers family reunification and\n",
    "\"[Music] the pros and cons of living in Germany today we're going to talk about the pros and cons of living in Germany Germany is an amazing country with a strong economy lots of culture great infrastructure and friendly people but that doesn't mean it's the right place for everyone in this video we'll look at all aspects of life in Germany so you can decide if it's the right move for you so let's get started Pros living in Germany is a great experience it offers many advantages both long and shortterm that make it an attractive destination for those considering making the move here are some of the pros of living in Germany one free education for more than 25 years Germany has offered tuition-free higher education at public universities with no charge for most courses and little no cost for administrative fees this means that students coming from all over the world can pursue their degree programs without worrying about expensive tuition costs moreover those studying in certain Fields even have access to Grants and scholarships which cover living expenses as well in addition to this incredible benefit German universities also provide high quality instruction from some of the finest academic Minds in Europe with famous institutions such as humbold University Berlin leading the way in research and Innovation you are sure to receive an excellent standard of learning whether you're taking up a course on engineering or literature two drinkable tap water living in Germany certainly comes with a lot of perks from the delicious sausages to the breathtaking cities but one perk that doesn't often get mentioned is how drinkable tap water in Germany is it's true and it's really quite remarkable of course not all German towns have perfect tap water but by far most do in fact many Germans believe their drinking water is so good because it's monitored more stringently than other countries and for sure there are no worries about added chemicals or nasty tastes what could be better three unemployment benefits if find themselves out of work due to whatever reason don't fret your well-being is taken care of thanks to the German government's generous Provisions for unemployment insurance unemployment insurance offers more than just monthly benefits to help you find job for instance recipients can utilize up to 50% of their benefit to continue their education or training at an accredited Institute making them more marketable for future work this feature makes Germany's system truly unique amongst its counterparts across Europe four Germans are very punctual ah the Germans and their punctuality it's one of the foundations of life in Germany it doesn't matter if you're running late to a meeting eating dinner with friends or just taking the bus if you live in Germany and don't arrive on time be prepared to get some judging looks for those unfamiliar with German culture schedules and arrival times can seem like an implicit expectation people may start mentally counting down 5 minutes before your planned arrival time but being fashionably late is not accepted here the pros of living around punctual people first off no more waiting for late friends you'll see someone at 6:00 p.m. if they claim they'll be there the 5 minute delay phone calls are over five very livable if you're looking for a fantastic country to live Germany should be your first choice Germany has exceptional quality of life and some of the world's most beautiful cities and towns to begin life in Germany is safe Germany's low crime rate is due to its tight regulations and extensive security measures Germany's cultural offerings and safety make it livable from concerts and festivals like October Fest to wonderful galleries like alter naal Gallery Berlin you can explore fantastic new experiences and learn about European art and culture six efficient public transport Germany has very efficient public transport systems that's right no more worrying about finding a parking spot no more car payments and insurance costs instead you get to hop on a bus or train and take advantage of free Wi-Fi while you travel what's even better is that most cities offer discounts for students or those with limited incomes so everyone has access to Affordable transport options plus when it comes to safety there are cameras on all trains and buses throughout the country making sure that your journey is secure seven Germans are fairly honest and reliable living in Germany can be an absolute dream come true especially if you value honesty and reliability Germans have a well-deserved reputation for being fairly honest and reliable you get what you pay for this is one of the major pros of living here not only do people usually keep their word but they don't beat around the bush either when discussing something important or giving feedback that means that no matter who it comes from even your boss at work you can rest assured that what is said will not be sugarcoated it'll be straightforward and to the point cons one bureaucracy Germans think of beer gardens and sausages not paperwork unfortunately bureaucracy is an unavoidable aspect of life here from registering at the alander beura Foreigner's office to getting health insurance or a bank account expect a sea of forms remember to gather Department stamps and signatures along the Route navigating this bureaucratic maze can feel like every institution has its own rules making it harder for an outsider two difficulty in making friends one of the major cons is making friends yes it can be quite difficult to make friends in this culturally diverse country if you don't speak the same language or understand its Customs it is one of the major negative sides of living in Germany but don't be alarmed Germans do actually have their own way of connecting with others through beer gardens now before you go thinking that all German socializing centers around drinking beer let me clarify there are other activities too like playing cards and board games or just chatting away over dinner you may even find yourself jumping on trampolines at an outdoor party with your new found Buddies three bad customer service when living in Germany you're likely to come across some seriously bad customer service it can range from basic rudess all the way up to downright hostile behavior from staff at various establishments and companies here you might be wondering why this is well the Germans have their own unique culture when it comes to customer relations that doesn't always align with our expectations as customers outside Germany let me give you an example let's say you are out shopping and spot something that catches your eye so naturally you approach a shop assistant for help only to get hit with a very brusk response or even worse they just ignore you altogether this often happens because they expect customers to shop independently rather than actively seeking out assistance this is one of the most ignored negative sides of living in Germany four bad internet connection it's no surprised that moving to Germany has its advantages from their amazing culture and delicious food to the gorgeous view news but one thing that many people Overlook is how bad the internet connection can be here that's right folks you heard it here first living in Germany comes with a terrible internet connection it is one of the most annoying negative sides of living in Germany sure some areas of the country have better connections than others but on average Germans are stuck with slow speeds and high prices when it comes to their internet service providers or isps from dropped connections to painfully slow loading times let us tell you it's enough to make any techsavvy person throw their computer out the window five no air conditioning not everything is perfect here especially when it comes to air conditioning while other countries are cranking down their temperatures with powerful AC units Germany has been left a bit behind on this front which can make summer days quite uncomfortable no matter how hot it gets outside Germans just seem content with keeping their windows open and relying on fans or luck to stay cool indoors this means that if you're ever visiting or living in Germany during the summer months then you prepare yourself for some sweat filled days ahead luckily though there's usually a nice breeze coming through those open Windows sort of like Nature's Own built-in air conditioner six tough language if you thought learning a foreign language was hard think again if you've ever wanted to test your linguistic metal look no further than Germany from casual conversation to mastering the finer points of grammar and verb conjugation learning German can be quite the challenge this might be one of those negative sides of living in Germany that you can overcome as you live there and learn the language sure moving to Germany has its perks but one big con is that speaking the native tongue can sometimes feel like a Herculean task the sheer amount of vocabulary and complex sentence structure especially compared to English can make some expats feel intimidated or overwhelmed especially if they're starting from scratch or brushing up on their skills after years away from the classroom we have tried our best to discuss all the pros and cons of living in Germany in this video living in this diverse and Lively country offers great job prospects great infrastructure and a great quality of life however like any move to a new home in a new country there are downsides such as slow internet bureaucracy and missing your favorite comfort Foods before moving to Germany weigh all these perks and downsides thank you for watching this video please don't forget to comment subscribe and turn on the notification Bell\n",
    "Germany has a huge problem its population is aging fast they're now around two workers for every pensioner the working population is shrinking as hundreds of thousands of baby boomers go into retirement Germany's federal employment agency says the country needs 400,000 skilled immigrants a year in Germany we need skilled Workforce we need additionally um skilled Workforce from abroad but whether immigrants f welcome is a whole other [Applause] [Music] question H so is Germany attractive enough f\n",
    "\"\"\"\n",
    "\n",
    "# Initialize ChromaDB\n",
    "chroma_client = chromadb.Client()\n",
    "\n",
    "# Create a collection in ChromaDB, if it doesn't already exist\n",
    "collection = chroma_client.create_collection(\"youtube_video_transcripts3\", get_or_create=True)\n",
    "\n",
    "# Initialize the SentenceTransformer model for embedding text\n",
    "sentence_model = SentenceTransformer('all-mpnet-base-v2')\n",
    "\n",
    "def embed_text(text):\n",
    "    \"\"\"\n",
    "    Convert text into embeddings using SentenceTransformer.\n",
    "    \"\"\"\n",
    "    return sentence_model.encode([text])[0]\n",
    "\n",
    "def upsert_to_chromadb(video_id, transcript_text):\n",
    "    \"\"\"\n",
    "    Store video transcript embeddings in ChromaDB.\n",
    "    \"\"\"\n",
    "    embedding = embed_text(transcript_text)\n",
    "    collection.upsert(\n",
    "        ids=[video_id],\n",
    "        embeddings=[embedding],\n",
    "        metadatas=[{\"video_id\": video_id, \"transcript\": transcript_text}]\n",
    "    )\n",
    "\n",
    "def get_video_transcript(video_id):\n",
    "    \"\"\"\n",
    "    Fetch transcript for a given YouTube video ID.\n",
    "    \"\"\"\n",
    "    try:\n",
    "        transcript = YouTubeTranscriptApi.get_transcript(video_id)\n",
    "        transcript_text = \" \".join([item['text'] for item in transcript if 'text' in item])\n",
    "        return transcript_text\n",
    "    except Exception as e:\n",
    "        print(f\"Error retrieving transcript for video {video_id}: {e}\")\n",
    "        return None\n",
    "\n",
    "def answer_question(question, video_id):\n",
    "    \"\"\"\n",
    "    Answer a question based on the transcript of the selected video.\n",
    "    \"\"\"\n",
    "    # Retrieve relevant video context using similarity search from ChromaDB\n",
    "    question_embedding = embed_text(question)\n",
    "    results = collection.query(\n",
    "        query_embeddings=[question_embedding],\n",
    "        n_results=1\n",
    "    )\n",
    "\n",
    "    # Print the results to understand its structure\n",
    "    print(\"Results:\", results)\n",
    "\n",
    "    # Get the transcript text from the results\n",
    "    context_text = results['metadatas'][0][0]['transcript']\n",
    "\n",
    "    # Create a QA chain with the OpenAI model and the context\n",
    "    qa_chain = LLMChain(llm=llm, prompt=qa_prompt)\n",
    "    answer = qa_chain.run(context=combined_context, question=question)\n",
    "\n",
    "    return answer\n",
    "\n",
    "# Example usage with a list of video IDs\n",
    "video_ids = ['2u4ItZerRac', 'I2zF1I60hPg', '8xqSF-uHCUs', 'LtmS-c1pChY', 'sJNxT-I7L6s']\n",
    "transcripts = {}\n",
    "\n",
    "# Fetch and store the transcript for each video\n",
    "for video_id in video_ids:\n",
    "    transcript = get_video_transcript(video_id)\n",
    "    if transcript:\n",
    "        transcripts[video_id] = transcript\n",
    "        upsert_to_chromadb(video_id, transcript)\n",
    "        print(f\"Stored embedding for {video_id}\")\n",
    "    else:\n",
    "        print(f\"No transcript available for video {video_id}\")\n",
    "\n",
    "# Example query\n",
    "question = \"What is the main topic of the video?\"\n",
    "video_id = \"2u4ItZerRac\"\n",
    "answer = answer_question(question, video_id)\n",
    "print(\"Answer:\", answer)\n",
    "\n",
    "# Example query with refined prompt\n",
    "question = \"What are the benefits of immigration to Germany?\"\n",
    "answer = answer_question(question, video_id)\n",
    "print(\"Answer:\", answer)\n",
    "\n",
    "question = \"What are the challenges faced by immigrants in Germany?\"\n",
    "answer = answer_question(question, video_id)\n",
    "print(\"Answer:\", answer)\n"
   ]
  },
  {
   "cell_type": "code",
   "execution_count": 13,
   "metadata": {},
   "outputs": [
    {
     "name": "stdout",
     "output_type": "stream",
     "text": [
      "Requirement already satisfied: yt-dlp in c:\\users\\mehak\\appdata\\local\\programs\\python\\python311\\lib\\site-packages (2025.1.15)\n",
      "Note: you may need to restart the kernel to use updated packages.\n"
     ]
    },
    {
     "name": "stderr",
     "output_type": "stream",
     "text": [
      "WARNING: Ignoring invalid distribution ~ (c:\\Users\\mehak\\AppData\\Local\\Programs\\Python\\Python311\\Lib\\site-packages)\n",
      "WARNING: Ignoring invalid distribution ~ (c:\\Users\\mehak\\AppData\\Local\\Programs\\Python\\Python311\\Lib\\site-packages)\n",
      "WARNING: Ignoring invalid distribution ~ (c:\\Users\\mehak\\AppData\\Local\\Programs\\Python\\Python311\\Lib\\site-packages)\n"
     ]
    }
   ],
   "source": [
    "pip install yt-dlp"
   ]
  },
  {
   "cell_type": "code",
   "execution_count": 14,
   "metadata": {},
   "outputs": [
    {
     "name": "stdout",
     "output_type": "stream",
     "text": [
      "Requirement already satisfied: whisper in c:\\users\\mehak\\appdata\\local\\programs\\python\\python311\\lib\\site-packages (1.1.10)\n",
      "Requirement already satisfied: yt-dlp in c:\\users\\mehak\\appdata\\local\\programs\\python\\python311\\lib\\site-packages (2025.1.15)\n",
      "Requirement already satisfied: six in c:\\users\\mehak\\appdata\\roaming\\python\\python311\\site-packages (from whisper) (1.17.0)\n",
      "Note: you may need to restart the kernel to use updated packages.\n"
     ]
    },
    {
     "name": "stderr",
     "output_type": "stream",
     "text": [
      "WARNING: Ignoring invalid distribution ~ (c:\\Users\\mehak\\AppData\\Local\\Programs\\Python\\Python311\\Lib\\site-packages)\n",
      "WARNING: Ignoring invalid distribution ~ (c:\\Users\\mehak\\AppData\\Local\\Programs\\Python\\Python311\\Lib\\site-packages)\n",
      "WARNING: Ignoring invalid distribution ~ (c:\\Users\\mehak\\AppData\\Local\\Programs\\Python\\Python311\\Lib\\site-packages)\n"
     ]
    }
   ],
   "source": [
    "pip install --upgrade whisper yt-dlp"
   ]
  },
  {
   "cell_type": "code",
   "execution_count": 15,
   "metadata": {},
   "outputs": [
    {
     "name": "stdout",
     "output_type": "stream",
     "text": [
      "Requirement already satisfied: openai-whisper in c:\\users\\mehak\\appdata\\local\\programs\\python\\python311\\lib\\site-packages (20240930)\n",
      "Requirement already satisfied: numba in c:\\users\\mehak\\appdata\\local\\programs\\python\\python311\\lib\\site-packages (from openai-whisper) (0.61.0)\n",
      "Requirement already satisfied: numpy in c:\\users\\mehak\\appdata\\local\\programs\\python\\python311\\lib\\site-packages (from openai-whisper) (1.26.4)\n",
      "Requirement already satisfied: torch in c:\\users\\mehak\\appdata\\local\\programs\\python\\python311\\lib\\site-packages (from openai-whisper) (2.5.1)\n",
      "Requirement already satisfied: tqdm in c:\\users\\mehak\\appdata\\local\\programs\\python\\python311\\lib\\site-packages (from openai-whisper) (4.67.1)\n",
      "Requirement already satisfied: more-itertools in c:\\users\\mehak\\appdata\\local\\programs\\python\\python311\\lib\\site-packages (from openai-whisper) (10.6.0)\n",
      "Requirement already satisfied: tiktoken in c:\\users\\mehak\\appdata\\local\\programs\\python\\python311\\lib\\site-packages (from openai-whisper) (0.8.0)\n",
      "Requirement already satisfied: llvmlite<0.45,>=0.44.0dev0 in c:\\users\\mehak\\appdata\\local\\programs\\python\\python311\\lib\\site-packages (from numba->openai-whisper) (0.44.0)\n",
      "Requirement already satisfied: regex>=2022.1.18 in c:\\users\\mehak\\appdata\\local\\programs\\python\\python311\\lib\\site-packages (from tiktoken->openai-whisper) (2024.11.6)\n",
      "Requirement already satisfied: requests>=2.26.0 in c:\\users\\mehak\\appdata\\local\\programs\\python\\python311\\lib\\site-packages (from tiktoken->openai-whisper) (2.32.3)\n",
      "Requirement already satisfied: filelock in c:\\users\\mehak\\appdata\\local\\programs\\python\\python311\\lib\\site-packages (from torch->openai-whisper) (3.16.1)\n",
      "Requirement already satisfied: typing-extensions>=4.8.0 in c:\\users\\mehak\\appdata\\local\\programs\\python\\python311\\lib\\site-packages (from torch->openai-whisper) (4.12.2)\n",
      "Requirement already satisfied: networkx in c:\\users\\mehak\\appdata\\local\\programs\\python\\python311\\lib\\site-packages (from torch->openai-whisper) (3.4.2)\n",
      "Requirement already satisfied: jinja2 in c:\\users\\mehak\\appdata\\local\\programs\\python\\python311\\lib\\site-packages (from torch->openai-whisper) (3.1.5)\n",
      "Requirement already satisfied: fsspec in c:\\users\\mehak\\appdata\\local\\programs\\python\\python311\\lib\\site-packages (from torch->openai-whisper) (2024.9.0)\n",
      "Requirement already satisfied: sympy==1.13.1 in c:\\users\\mehak\\appdata\\local\\programs\\python\\python311\\lib\\site-packages (from torch->openai-whisper) (1.13.1)\n",
      "Requirement already satisfied: mpmath<1.4,>=1.1.0 in c:\\users\\mehak\\appdata\\local\\programs\\python\\python311\\lib\\site-packages (from sympy==1.13.1->torch->openai-whisper) (1.3.0)\n",
      "Requirement already satisfied: colorama in c:\\users\\mehak\\appdata\\local\\programs\\python\\python311\\lib\\site-packages (from tqdm->openai-whisper) (0.4.6)\n",
      "Requirement already satisfied: charset-normalizer<4,>=2 in c:\\users\\mehak\\appdata\\local\\programs\\python\\python311\\lib\\site-packages (from requests>=2.26.0->tiktoken->openai-whisper) (3.4.1)\n",
      "Requirement already satisfied: idna<4,>=2.5 in c:\\users\\mehak\\appdata\\local\\programs\\python\\python311\\lib\\site-packages (from requests>=2.26.0->tiktoken->openai-whisper) (3.10)\n",
      "Requirement already satisfied: urllib3<3,>=1.21.1 in c:\\users\\mehak\\appdata\\local\\programs\\python\\python311\\lib\\site-packages (from requests>=2.26.0->tiktoken->openai-whisper) (2.3.0)\n",
      "Requirement already satisfied: certifi>=2017.4.17 in c:\\users\\mehak\\appdata\\local\\programs\\python\\python311\\lib\\site-packages (from requests>=2.26.0->tiktoken->openai-whisper) (2024.12.14)\n",
      "Requirement already satisfied: MarkupSafe>=2.0 in c:\\users\\mehak\\appdata\\local\\programs\\python\\python311\\lib\\site-packages (from jinja2->torch->openai-whisper) (2.1.5)\n",
      "Note: you may need to restart the kernel to use updated packages.\n"
     ]
    },
    {
     "name": "stderr",
     "output_type": "stream",
     "text": [
      "WARNING: Ignoring invalid distribution ~ (c:\\Users\\mehak\\AppData\\Local\\Programs\\Python\\Python311\\Lib\\site-packages)\n",
      "WARNING: Ignoring invalid distribution ~ (c:\\Users\\mehak\\AppData\\Local\\Programs\\Python\\Python311\\Lib\\site-packages)\n",
      "WARNING: Ignoring invalid distribution ~ (c:\\Users\\mehak\\AppData\\Local\\Programs\\Python\\Python311\\Lib\\site-packages)\n"
     ]
    }
   ],
   "source": [
    "pip install --upgrade openai-whisper"
   ]
  },
  {
   "cell_type": "code",
   "execution_count": 16,
   "metadata": {},
   "outputs": [
    {
     "name": "stdout",
     "output_type": "stream",
     "text": [
      "This script only supports Linux distributions.\n"
     ]
    }
   ],
   "source": [
    "import subprocess\n",
    "import platform\n",
    "\n",
    "def install_libc():\n",
    "    try:\n",
    "        # Update package lists and install libc6 for Debian/Ubuntu\n",
    "        if platform.system() == \"Linux\":\n",
    "            distro = platform.linux_distribution()[0].lower()\n",
    "            if \"ubuntu\" in distro or \"debian\" in distro:\n",
    "                subprocess.run([\"sudo\", \"apt-get\", \"update\"], check=True)\n",
    "                subprocess.run([\"sudo\", \"apt-get\", \"install\", \"-y\", \"libc6\"], check=True)\n",
    "            elif \"centos\" in distro or \"red hat\" in distro or \"fedora\" in distro:\n",
    "                subprocess.run([\"sudo\", \"yum\", \"install\", \"-y\", \"glibc\"], check=True)\n",
    "            else:\n",
    "                print(\"Unsupported Linux distribution.\")\n",
    "        else:\n",
    "            print(\"This script only supports Linux distributions.\")\n",
    "    except subprocess.CalledProcessError as e:\n",
    "        print(f\"Error occurred: {e}\")\n",
    "\n",
    "if __name__ == \"__main__\":\n",
    "    install_libc()"
   ]
  },
  {
   "cell_type": "code",
   "execution_count": 19,
   "metadata": {},
   "outputs": [
    {
     "name": "stdout",
     "output_type": "stream",
     "text": [
      "Downloading audio...\n",
      "[youtube] Extracting URL: https://www.youtube.com/watch?v=dUU-vj4FnqU\n",
      "[youtube] dUU-vj4FnqU: Downloading webpage\n",
      "[youtube] dUU-vj4FnqU: Downloading tv player API JSON\n",
      "[youtube] dUU-vj4FnqU: Downloading ios player API JSON\n",
      "[youtube] dUU-vj4FnqU: Downloading m3u8 information\n",
      "[info] dUU-vj4FnqU: Downloading 1 format(s): 251\n",
      "[download] C:\\Users\\mehak\\Desktop\\AI-Engineering Bootcamp\\multimodal-ai-chatbot-for-Youtubevideos--Immigrants-of-Germany-QA\\output_audio.wav has already been downloaded\n",
      "[download] 100% of  135.94MiB\n",
      "[ExtractAudio] Destination: C:\\Users\\mehak\\Desktop\\AI-Engineering Bootcamp\\multimodal-ai-chatbot-for-Youtubevideos--Immigrants-of-Germany-QA\\output_audio.wav\n",
      "Deleting original file C:\\Users\\mehak\\Desktop\\AI-Engineering Bootcamp\\multimodal-ai-chatbot-for-Youtubevideos--Immigrants-of-Germany-QA\\output_audio.orig.wav (pass -k to keep)\n",
      "File C:\\Users\\mehak\\Desktop\\AI-Engineering Bootcamp\\multimodal-ai-chatbot-for-Youtubevideos--Immigrants-of-Germany-QA\\output_audio.wav downloaded successfully.\n",
      "Preprocessing audio...\n"
     ]
    },
    {
     "ename": "FileNotFoundError",
     "evalue": "[WinError 2] The system cannot find the file specified",
     "output_type": "error",
     "traceback": [
      "\u001b[1;31m---------------------------------------------------------------------------\u001b[0m",
      "\u001b[1;31mFileNotFoundError\u001b[0m                         Traceback (most recent call last)",
      "Cell \u001b[1;32mIn[19], line 80\u001b[0m\n\u001b[0;32m     78\u001b[0m \u001b[38;5;66;03m# Step 2: Preprocess audio for Whisper\u001b[39;00m\n\u001b[0;32m     79\u001b[0m \u001b[38;5;28mprint\u001b[39m(\u001b[38;5;124m\"\u001b[39m\u001b[38;5;124mPreprocessing audio...\u001b[39m\u001b[38;5;124m\"\u001b[39m)\n\u001b[1;32m---> 80\u001b[0m \u001b[43mpreprocess_audio\u001b[49m\u001b[43m(\u001b[49m\u001b[43mdownloaded_audio_path\u001b[49m\u001b[43m,\u001b[49m\u001b[43m \u001b[49m\u001b[43mfixed_audio_path\u001b[49m\u001b[43m)\u001b[49m\n\u001b[0;32m     82\u001b[0m \u001b[38;5;66;03m# Verify preprocessing\u001b[39;00m\n\u001b[0;32m     83\u001b[0m \u001b[38;5;28;01mif\u001b[39;00m os\u001b[38;5;241m.\u001b[39mpath\u001b[38;5;241m.\u001b[39mexists(fixed_audio_path):\n",
      "Cell \u001b[1;32mIn[19], line 42\u001b[0m, in \u001b[0;36mpreprocess_audio\u001b[1;34m(input_path, output_path)\u001b[0m\n\u001b[0;32m     33\u001b[0m command \u001b[38;5;241m=\u001b[39m [\n\u001b[0;32m     34\u001b[0m     \u001b[38;5;124m\"\u001b[39m\u001b[38;5;124mffmpeg\u001b[39m\u001b[38;5;124m\"\u001b[39m,\n\u001b[0;32m     35\u001b[0m     \u001b[38;5;124m\"\u001b[39m\u001b[38;5;124m-i\u001b[39m\u001b[38;5;124m\"\u001b[39m, input_path,\n\u001b[1;32m   (...)\u001b[0m\n\u001b[0;32m     39\u001b[0m     output_path\n\u001b[0;32m     40\u001b[0m ]\n\u001b[0;32m     41\u001b[0m \u001b[38;5;28;01mtry\u001b[39;00m:\n\u001b[1;32m---> 42\u001b[0m     \u001b[43msubprocess\u001b[49m\u001b[38;5;241;43m.\u001b[39;49m\u001b[43mrun\u001b[49m\u001b[43m(\u001b[49m\u001b[43mcommand\u001b[49m\u001b[43m,\u001b[49m\u001b[43m \u001b[49m\u001b[43mcheck\u001b[49m\u001b[38;5;241;43m=\u001b[39;49m\u001b[38;5;28;43;01mTrue\u001b[39;49;00m\u001b[43m)\u001b[49m\n\u001b[0;32m     43\u001b[0m     \u001b[38;5;28mprint\u001b[39m(\u001b[38;5;124mf\u001b[39m\u001b[38;5;124m\"\u001b[39m\u001b[38;5;124mAudio preprocessed successfully: \u001b[39m\u001b[38;5;132;01m{\u001b[39;00moutput_path\u001b[38;5;132;01m}\u001b[39;00m\u001b[38;5;124m\"\u001b[39m)\n\u001b[0;32m     44\u001b[0m \u001b[38;5;28;01mexcept\u001b[39;00m subprocess\u001b[38;5;241m.\u001b[39mCalledProcessError \u001b[38;5;28;01mas\u001b[39;00m e:\n",
      "File \u001b[1;32mc:\\Users\\mehak\\AppData\\Local\\Programs\\Python\\Python311\\Lib\\subprocess.py:548\u001b[0m, in \u001b[0;36mrun\u001b[1;34m(input, capture_output, timeout, check, *popenargs, **kwargs)\u001b[0m\n\u001b[0;32m    545\u001b[0m     kwargs[\u001b[38;5;124m'\u001b[39m\u001b[38;5;124mstdout\u001b[39m\u001b[38;5;124m'\u001b[39m] \u001b[38;5;241m=\u001b[39m PIPE\n\u001b[0;32m    546\u001b[0m     kwargs[\u001b[38;5;124m'\u001b[39m\u001b[38;5;124mstderr\u001b[39m\u001b[38;5;124m'\u001b[39m] \u001b[38;5;241m=\u001b[39m PIPE\n\u001b[1;32m--> 548\u001b[0m \u001b[38;5;28;01mwith\u001b[39;00m \u001b[43mPopen\u001b[49m\u001b[43m(\u001b[49m\u001b[38;5;241;43m*\u001b[39;49m\u001b[43mpopenargs\u001b[49m\u001b[43m,\u001b[49m\u001b[43m \u001b[49m\u001b[38;5;241;43m*\u001b[39;49m\u001b[38;5;241;43m*\u001b[39;49m\u001b[43mkwargs\u001b[49m\u001b[43m)\u001b[49m \u001b[38;5;28;01mas\u001b[39;00m process:\n\u001b[0;32m    549\u001b[0m     \u001b[38;5;28;01mtry\u001b[39;00m:\n\u001b[0;32m    550\u001b[0m         stdout, stderr \u001b[38;5;241m=\u001b[39m process\u001b[38;5;241m.\u001b[39mcommunicate(\u001b[38;5;28minput\u001b[39m, timeout\u001b[38;5;241m=\u001b[39mtimeout)\n",
      "File \u001b[1;32mc:\\Users\\mehak\\AppData\\Local\\Programs\\Python\\Python311\\Lib\\subprocess.py:1026\u001b[0m, in \u001b[0;36mPopen.__init__\u001b[1;34m(self, args, bufsize, executable, stdin, stdout, stderr, preexec_fn, close_fds, shell, cwd, env, universal_newlines, startupinfo, creationflags, restore_signals, start_new_session, pass_fds, user, group, extra_groups, encoding, errors, text, umask, pipesize, process_group)\u001b[0m\n\u001b[0;32m   1022\u001b[0m         \u001b[38;5;28;01mif\u001b[39;00m \u001b[38;5;28mself\u001b[39m\u001b[38;5;241m.\u001b[39mtext_mode:\n\u001b[0;32m   1023\u001b[0m             \u001b[38;5;28mself\u001b[39m\u001b[38;5;241m.\u001b[39mstderr \u001b[38;5;241m=\u001b[39m io\u001b[38;5;241m.\u001b[39mTextIOWrapper(\u001b[38;5;28mself\u001b[39m\u001b[38;5;241m.\u001b[39mstderr,\n\u001b[0;32m   1024\u001b[0m                     encoding\u001b[38;5;241m=\u001b[39mencoding, errors\u001b[38;5;241m=\u001b[39merrors)\n\u001b[1;32m-> 1026\u001b[0m     \u001b[38;5;28;43mself\u001b[39;49m\u001b[38;5;241;43m.\u001b[39;49m\u001b[43m_execute_child\u001b[49m\u001b[43m(\u001b[49m\u001b[43margs\u001b[49m\u001b[43m,\u001b[49m\u001b[43m \u001b[49m\u001b[43mexecutable\u001b[49m\u001b[43m,\u001b[49m\u001b[43m \u001b[49m\u001b[43mpreexec_fn\u001b[49m\u001b[43m,\u001b[49m\u001b[43m \u001b[49m\u001b[43mclose_fds\u001b[49m\u001b[43m,\u001b[49m\n\u001b[0;32m   1027\u001b[0m \u001b[43m                        \u001b[49m\u001b[43mpass_fds\u001b[49m\u001b[43m,\u001b[49m\u001b[43m \u001b[49m\u001b[43mcwd\u001b[49m\u001b[43m,\u001b[49m\u001b[43m \u001b[49m\u001b[43menv\u001b[49m\u001b[43m,\u001b[49m\n\u001b[0;32m   1028\u001b[0m \u001b[43m                        \u001b[49m\u001b[43mstartupinfo\u001b[49m\u001b[43m,\u001b[49m\u001b[43m \u001b[49m\u001b[43mcreationflags\u001b[49m\u001b[43m,\u001b[49m\u001b[43m \u001b[49m\u001b[43mshell\u001b[49m\u001b[43m,\u001b[49m\n\u001b[0;32m   1029\u001b[0m \u001b[43m                        \u001b[49m\u001b[43mp2cread\u001b[49m\u001b[43m,\u001b[49m\u001b[43m \u001b[49m\u001b[43mp2cwrite\u001b[49m\u001b[43m,\u001b[49m\n\u001b[0;32m   1030\u001b[0m \u001b[43m                        \u001b[49m\u001b[43mc2pread\u001b[49m\u001b[43m,\u001b[49m\u001b[43m \u001b[49m\u001b[43mc2pwrite\u001b[49m\u001b[43m,\u001b[49m\n\u001b[0;32m   1031\u001b[0m \u001b[43m                        \u001b[49m\u001b[43merrread\u001b[49m\u001b[43m,\u001b[49m\u001b[43m \u001b[49m\u001b[43merrwrite\u001b[49m\u001b[43m,\u001b[49m\n\u001b[0;32m   1032\u001b[0m \u001b[43m                        \u001b[49m\u001b[43mrestore_signals\u001b[49m\u001b[43m,\u001b[49m\n\u001b[0;32m   1033\u001b[0m \u001b[43m                        \u001b[49m\u001b[43mgid\u001b[49m\u001b[43m,\u001b[49m\u001b[43m \u001b[49m\u001b[43mgids\u001b[49m\u001b[43m,\u001b[49m\u001b[43m \u001b[49m\u001b[43muid\u001b[49m\u001b[43m,\u001b[49m\u001b[43m \u001b[49m\u001b[43mumask\u001b[49m\u001b[43m,\u001b[49m\n\u001b[0;32m   1034\u001b[0m \u001b[43m                        \u001b[49m\u001b[43mstart_new_session\u001b[49m\u001b[43m,\u001b[49m\u001b[43m \u001b[49m\u001b[43mprocess_group\u001b[49m\u001b[43m)\u001b[49m\n\u001b[0;32m   1035\u001b[0m \u001b[38;5;28;01mexcept\u001b[39;00m:\n\u001b[0;32m   1036\u001b[0m     \u001b[38;5;66;03m# Cleanup if the child failed starting.\u001b[39;00m\n\u001b[0;32m   1037\u001b[0m     \u001b[38;5;28;01mfor\u001b[39;00m f \u001b[38;5;129;01min\u001b[39;00m \u001b[38;5;28mfilter\u001b[39m(\u001b[38;5;28;01mNone\u001b[39;00m, (\u001b[38;5;28mself\u001b[39m\u001b[38;5;241m.\u001b[39mstdin, \u001b[38;5;28mself\u001b[39m\u001b[38;5;241m.\u001b[39mstdout, \u001b[38;5;28mself\u001b[39m\u001b[38;5;241m.\u001b[39mstderr)):\n",
      "File \u001b[1;32mc:\\Users\\mehak\\AppData\\Local\\Programs\\Python\\Python311\\Lib\\subprocess.py:1538\u001b[0m, in \u001b[0;36mPopen._execute_child\u001b[1;34m(self, args, executable, preexec_fn, close_fds, pass_fds, cwd, env, startupinfo, creationflags, shell, p2cread, p2cwrite, c2pread, c2pwrite, errread, errwrite, unused_restore_signals, unused_gid, unused_gids, unused_uid, unused_umask, unused_start_new_session, unused_process_group)\u001b[0m\n\u001b[0;32m   1536\u001b[0m \u001b[38;5;66;03m# Start the process\u001b[39;00m\n\u001b[0;32m   1537\u001b[0m \u001b[38;5;28;01mtry\u001b[39;00m:\n\u001b[1;32m-> 1538\u001b[0m     hp, ht, pid, tid \u001b[38;5;241m=\u001b[39m _winapi\u001b[38;5;241m.\u001b[39mCreateProcess(executable, args,\n\u001b[0;32m   1539\u001b[0m                              \u001b[38;5;66;03m# no special security\u001b[39;00m\n\u001b[0;32m   1540\u001b[0m                              \u001b[38;5;28;01mNone\u001b[39;00m, \u001b[38;5;28;01mNone\u001b[39;00m,\n\u001b[0;32m   1541\u001b[0m                              \u001b[38;5;28mint\u001b[39m(\u001b[38;5;129;01mnot\u001b[39;00m close_fds),\n\u001b[0;32m   1542\u001b[0m                              creationflags,\n\u001b[0;32m   1543\u001b[0m                              env,\n\u001b[0;32m   1544\u001b[0m                              cwd,\n\u001b[0;32m   1545\u001b[0m                              startupinfo)\n\u001b[0;32m   1546\u001b[0m \u001b[38;5;28;01mfinally\u001b[39;00m:\n\u001b[0;32m   1547\u001b[0m     \u001b[38;5;66;03m# Child is launched. Close the parent's copy of those pipe\u001b[39;00m\n\u001b[0;32m   1548\u001b[0m     \u001b[38;5;66;03m# handles that only the child should have open.  You need\u001b[39;00m\n\u001b[1;32m   (...)\u001b[0m\n\u001b[0;32m   1551\u001b[0m     \u001b[38;5;66;03m# pipe will not close when the child process exits and the\u001b[39;00m\n\u001b[0;32m   1552\u001b[0m     \u001b[38;5;66;03m# ReadFile will hang.\u001b[39;00m\n\u001b[0;32m   1553\u001b[0m     \u001b[38;5;28mself\u001b[39m\u001b[38;5;241m.\u001b[39m_close_pipe_fds(p2cread, p2cwrite,\n\u001b[0;32m   1554\u001b[0m                          c2pread, c2pwrite,\n\u001b[0;32m   1555\u001b[0m                          errread, errwrite)\n",
      "\u001b[1;31mFileNotFoundError\u001b[0m: [WinError 2] The system cannot find the file specified"
     ]
    }
   ],
   "source": [
    "import os\n",
    "import yt_dlp\n",
    "import whisper\n",
    "import subprocess\n",
    "\n",
    "def download_audio(video_url, output_path):\n",
    "    \"\"\"\n",
    "    Download audio from a YouTube video and save it as a .wav file.\n",
    "    \"\"\"\n",
    "    ydl_opts = {\n",
    "        'format': 'bestaudio/best',\n",
    "        'outtmpl': output_path,\n",
    "        'postprocessors': [{\n",
    "            'key': 'FFmpegExtractAudio',\n",
    "            'preferredcodec': 'wav',\n",
    "            'preferredquality': '192',\n",
    "        }],\n",
    "        'ffmpeg_location': r'C:\\Users\\mehak\\Downloads\\ffmpeg-7.1-essentials_build\\ffmpeg-7.1-essentials_build\\bin'  # Ensure this path is correct\n",
    "    }\n",
    "\n",
    "    with yt_dlp.YoutubeDL(ydl_opts) as ydl:\n",
    "        ydl.download([video_url])\n",
    "\n",
    "\n",
    "def preprocess_audio(input_path, output_path):\n",
    "    \"\"\"\n",
    "    Preprocess the audio file using ffmpeg to make it compatible with Whisper.\n",
    "    Converts the audio to:\n",
    "        - 16 kHz sample rate\n",
    "        - Mono channel\n",
    "        - 16-bit signed PCM\n",
    "    \"\"\"\n",
    "    # Update this path to the exact location of ffmpeg.exe\n",
    "    ffmpeg_path = r\"C:\\Users\\mehak\\Downloads\\ffmpeg-7.1-essentials_build\\bin\\ffmpeg.exe\"\n",
    "    \n",
    "    command = [\n",
    "        ffmpeg_path,  # Use the full path to ffmpeg\n",
    "        \"-i\", input_path,\n",
    "        \"-ar\", \"16000\",  # Set sample rate to 16 kHz\n",
    "        \"-ac\", \"1\",      # Convert to mono\n",
    "        \"-c:a\", \"pcm_s16le\",  # Set codec to 16-bit signed PCM\n",
    "        output_path\n",
    "    ]\n",
    "    try:\n",
    "        subprocess.run(command, check=True)\n",
    "        print(f\"Audio preprocessed successfully: {output_path}\")\n",
    "    except subprocess.CalledProcessError as e:\n",
    "        print(f\"Error during audio preprocessing: {e}\")\n",
    "\n",
    "\n",
    "def transcribe_audio(audio_path):\n",
    "    \"\"\"\n",
    "    Transcribe audio input into text using Whisper.\n",
    "    \"\"\"\n",
    "    normalized_audio_path = os.path.normpath(audio_path)\n",
    "    if not os.path.exists(normalized_audio_path):\n",
    "        raise FileNotFoundError(f\"Audio file not found: {normalized_audio_path}\")\n",
    "    \n",
    "    print(f\"Audio file found at: {normalized_audio_path}\")\n",
    "    \n",
    "    whisper_model = whisper.load_model(\"base\")\n",
    "    result = whisper_model.transcribe(normalized_audio_path)\n",
    "    return result['text']\n",
    "\n",
    "\n",
    "# Paths\n",
    "video_url = 'https://www.youtube.com/watch?v=dUU-vj4FnqU'\n",
    "downloaded_audio_path = r'C:\\Users\\mehak\\Desktop\\AI-Engineering Bootcamp\\multimodal-ai-chatbot-for-Youtubevideos--Immigrants-of-Germany-QA\\output_audio.wav'\n",
    "fixed_audio_path = r'C:\\Users\\mehak\\Desktop\\AI-Engineering Bootcamp\\multimodal-ai-chatbot-for-Youtubevideos--Immigrants-of-Germany-QA\\output_audio_fixed.wav'\n",
    "\n",
    "# Step 1: Download audio from YouTube video\n",
    "print(\"Downloading audio...\")\n",
    "download_audio(video_url, downloaded_audio_path)\n",
    "\n",
    "# Verify download\n",
    "if os.path.exists(downloaded_audio_path):\n",
    "    print(f\"File {downloaded_audio_path} downloaded successfully.\")\n",
    "else:\n",
    "    raise FileNotFoundError(f\"File {downloaded_audio_path} not found after download.\")\n",
    "\n",
    "# Step 2: Preprocess audio for Whisper\n",
    "print(\"Preprocessing audio...\")\n",
    "preprocess_audio(downloaded_audio_path, fixed_audio_path)\n",
    "\n",
    "# Verify preprocessing\n",
    "if os.path.exists(fixed_audio_path):\n",
    "    print(f\"File {fixed_audio_path} preprocessed successfully.\")\n",
    "else:\n",
    "    raise FileNotFoundError(f\"File {fixed_audio_path} not found after preprocessing.\")\n",
    "\n",
    "# Step 3: Transcribe audio\n",
    "print(\"Transcribing audio...\")\n",
    "try:\n",
    "    transcribed_text = transcribe_audio(fixed_audio_path)\n",
    "    print(f\"Transcribed Text:\\n{transcribed_text}\")\n",
    "except FileNotFoundError as e:\n",
    "    print(e)\n",
    "except Exception as e:\n",
    "    print(f\"An unexpected error occurred: {e}\")"
   ]
  },
  {
   "cell_type": "code",
   "execution_count": 18,
   "metadata": {},
   "outputs": [
    {
     "ename": "TypeError",
     "evalue": "Audio.__init__() got an unexpected keyword argument 'optional'",
     "output_type": "error",
     "traceback": [
      "\u001b[1;31m---------------------------------------------------------------------------\u001b[0m",
      "\u001b[1;31mTypeError\u001b[0m                                 Traceback (most recent call last)",
      "Cell \u001b[1;32mIn[18], line 32\u001b[0m\n\u001b[0;32m     24\u001b[0m         \u001b[38;5;28;01mreturn\u001b[39;00m \u001b[38;5;124m\"\u001b[39m\u001b[38;5;124mPlease select a valid video.\u001b[39m\u001b[38;5;124m\"\u001b[39m\n\u001b[0;32m     26\u001b[0m \u001b[38;5;66;03m# Create Gradio interface\u001b[39;00m\n\u001b[0;32m     27\u001b[0m iface \u001b[38;5;241m=\u001b[39m gr\u001b[38;5;241m.\u001b[39mInterface(\n\u001b[0;32m     28\u001b[0m     fn\u001b[38;5;241m=\u001b[39mchatbot_interface,\n\u001b[0;32m     29\u001b[0m     inputs\u001b[38;5;241m=\u001b[39m[\n\u001b[0;32m     30\u001b[0m         gr\u001b[38;5;241m.\u001b[39mTextbox(label\u001b[38;5;241m=\u001b[39m\u001b[38;5;124m\"\u001b[39m\u001b[38;5;124mEnter your question\u001b[39m\u001b[38;5;124m\"\u001b[39m),\n\u001b[0;32m     31\u001b[0m         gr\u001b[38;5;241m.\u001b[39mDropdown(label\u001b[38;5;241m=\u001b[39m\u001b[38;5;124m\"\u001b[39m\u001b[38;5;124mSelect Video\u001b[39m\u001b[38;5;124m\"\u001b[39m, choices\u001b[38;5;241m=\u001b[39m[\u001b[38;5;124m'\u001b[39m\u001b[38;5;124mVideo 1\u001b[39m\u001b[38;5;124m'\u001b[39m, \u001b[38;5;124m'\u001b[39m\u001b[38;5;124mVideo 2\u001b[39m\u001b[38;5;124m'\u001b[39m, \u001b[38;5;124m'\u001b[39m\u001b[38;5;124mVideo 3\u001b[39m\u001b[38;5;124m'\u001b[39m, \u001b[38;5;124m'\u001b[39m\u001b[38;5;124mVideo 4\u001b[39m\u001b[38;5;124m'\u001b[39m]),\n\u001b[1;32m---> 32\u001b[0m         \u001b[43mgr\u001b[49m\u001b[38;5;241;43m.\u001b[39;49m\u001b[43mAudio\u001b[49m\u001b[43m(\u001b[49m\u001b[43mlabel\u001b[49m\u001b[38;5;241;43m=\u001b[39;49m\u001b[38;5;124;43m\"\u001b[39;49m\u001b[38;5;124;43mUpload Audio (optional)\u001b[39;49m\u001b[38;5;124;43m\"\u001b[39;49m\u001b[43m,\u001b[49m\u001b[43m \u001b[49m\u001b[38;5;28;43mtype\u001b[39;49m\u001b[38;5;241;43m=\u001b[39;49m\u001b[38;5;124;43m\"\u001b[39;49m\u001b[38;5;124;43mfile\u001b[39;49m\u001b[38;5;124;43m\"\u001b[39;49m\u001b[43m,\u001b[49m\u001b[43m \u001b[49m\u001b[43moptional\u001b[49m\u001b[38;5;241;43m=\u001b[39;49m\u001b[38;5;28;43;01mTrue\u001b[39;49;00m\u001b[43m)\u001b[49m\n\u001b[0;32m     33\u001b[0m     ],\n\u001b[0;32m     34\u001b[0m     outputs\u001b[38;5;241m=\u001b[39m\u001b[38;5;124m\"\u001b[39m\u001b[38;5;124mtext\u001b[39m\u001b[38;5;124m\"\u001b[39m\n\u001b[0;32m     35\u001b[0m )\n\u001b[0;32m     37\u001b[0m \u001b[38;5;66;03m# Launch the Gradio app\u001b[39;00m\n\u001b[0;32m     38\u001b[0m iface\u001b[38;5;241m.\u001b[39mlaunch(share\u001b[38;5;241m=\u001b[39m\u001b[38;5;28;01mTrue\u001b[39;00m)\n",
      "File \u001b[1;32mc:\\Users\\mehak\\AppData\\Local\\Programs\\Python\\Python311\\Lib\\site-packages\\gradio\\component_meta.py:179\u001b[0m, in \u001b[0;36mupdateable.<locals>.wrapper\u001b[1;34m(*args, **kwargs)\u001b[0m\n\u001b[0;32m    177\u001b[0m     \u001b[38;5;28;01mreturn\u001b[39;00m \u001b[38;5;28;01mNone\u001b[39;00m\n\u001b[0;32m    178\u001b[0m \u001b[38;5;28;01melse\u001b[39;00m:\n\u001b[1;32m--> 179\u001b[0m     \u001b[38;5;28;01mreturn\u001b[39;00m \u001b[43mfn\u001b[49m\u001b[43m(\u001b[49m\u001b[38;5;28;43mself\u001b[39;49m\u001b[43m,\u001b[49m\u001b[43m \u001b[49m\u001b[38;5;241;43m*\u001b[39;49m\u001b[38;5;241;43m*\u001b[39;49m\u001b[43mkwargs\u001b[49m\u001b[43m)\u001b[49m\n",
      "\u001b[1;31mTypeError\u001b[0m: Audio.__init__() got an unexpected keyword argument 'optional'"
     ]
    }
   ],
   "source": [
    "import gradio as gr\n",
    "\n",
    "def chatbot_interface(question, video_title, audio_file):\n",
    "    \"\"\"\n",
    "    Handle user queries and answer questions based on selected video.\n",
    "    \"\"\"\n",
    "    video_choices = {\n",
    "        'Video 1': '2u4ItZerRac',\n",
    "        'Video 2': 'I2zF1I60hPg',\n",
    "        'Video 3': '8xqSF-uHCUs',\n",
    "        'Video 4': 'LtmS-c1pChY',\n",
    "        'Video 5': 'sJNxT-I7L6s'\n",
    "    }\n",
    "\n",
    "    video_id = video_choices.get(video_title)\n",
    "\n",
    "    if audio_file:\n",
    "        # Transcribe audio if provided\n",
    "        question = transcribe_audio(audio_file)\n",
    "\n",
    "    if video_id:\n",
    "        return answer_question(question, video_id)\n",
    "    else:\n",
    "        return \"Please select a valid video.\"\n",
    "\n",
    "# Create Gradio interface\n",
    "iface = gr.Interface(\n",
    "    fn=chatbot_interface,\n",
    "    inputs=[\n",
    "        gr.Textbox(label=\"Enter your question\"),\n",
    "        gr.Dropdown(label=\"Select Video\", choices=['Video 1', 'Video 2', 'Video 3', 'Video 4']),\n",
    "        gr.Audio(label=\"Upload Audio (optional)\", type=\"file\", optional=True)\n",
    "    ],\n",
    "    outputs=\"text\"\n",
    ")\n",
    "\n",
    "# Launch the Gradio app\n",
    "iface.launch(share=True)"
   ]
  },
  {
   "cell_type": "code",
   "execution_count": 16,
   "metadata": {},
   "outputs": [
    {
     "name": "stdout",
     "output_type": "stream",
     "text": [
      "Requirement already satisfied: transformers in c:\\users\\mehak\\appdata\\local\\programs\\python\\python311\\lib\\site-packages (4.48.1)\n",
      "Requirement already satisfied: datasets in c:\\users\\mehak\\appdata\\local\\programs\\python\\python311\\lib\\site-packages (3.2.0)\n",
      "Requirement already satisfied: filelock in c:\\users\\mehak\\appdata\\local\\programs\\python\\python311\\lib\\site-packages (from transformers) (3.16.1)\n",
      "Requirement already satisfied: huggingface-hub<1.0,>=0.24.0 in c:\\users\\mehak\\appdata\\local\\programs\\python\\python311\\lib\\site-packages (from transformers) (0.27.1)\n",
      "Requirement already satisfied: numpy>=1.17 in c:\\users\\mehak\\appdata\\local\\programs\\python\\python311\\lib\\site-packages (from transformers) (1.26.4)\n",
      "Requirement already satisfied: packaging>=20.0 in c:\\users\\mehak\\appdata\\local\\programs\\python\\python311\\lib\\site-packages (from transformers) (24.2)\n",
      "Requirement already satisfied: pyyaml>=5.1 in c:\\users\\mehak\\appdata\\local\\programs\\python\\python311\\lib\\site-packages (from transformers) (6.0.2)\n",
      "Requirement already satisfied: regex!=2019.12.17 in c:\\users\\mehak\\appdata\\local\\programs\\python\\python311\\lib\\site-packages (from transformers) (2024.11.6)\n",
      "Requirement already satisfied: requests in c:\\users\\mehak\\appdata\\local\\programs\\python\\python311\\lib\\site-packages (from transformers) (2.32.3)\n",
      "Requirement already satisfied: tokenizers<0.22,>=0.21 in c:\\users\\mehak\\appdata\\local\\programs\\python\\python311\\lib\\site-packages (from transformers) (0.21.0)\n",
      "Requirement already satisfied: safetensors>=0.4.1 in c:\\users\\mehak\\appdata\\local\\programs\\python\\python311\\lib\\site-packages (from transformers) (0.5.2)\n",
      "Requirement already satisfied: tqdm>=4.27 in c:\\users\\mehak\\appdata\\local\\programs\\python\\python311\\lib\\site-packages (from transformers) (4.67.1)\n",
      "Requirement already satisfied: pyarrow>=15.0.0 in c:\\users\\mehak\\appdata\\local\\programs\\python\\python311\\lib\\site-packages (from datasets) (19.0.0)\n",
      "Requirement already satisfied: dill<0.3.9,>=0.3.0 in c:\\users\\mehak\\appdata\\local\\programs\\python\\python311\\lib\\site-packages (from datasets) (0.3.8)\n",
      "Requirement already satisfied: pandas in c:\\users\\mehak\\appdata\\local\\programs\\python\\python311\\lib\\site-packages (from datasets) (2.2.3)\n",
      "Requirement already satisfied: xxhash in c:\\users\\mehak\\appdata\\local\\programs\\python\\python311\\lib\\site-packages (from datasets) (3.5.0)\n",
      "Requirement already satisfied: multiprocess<0.70.17 in c:\\users\\mehak\\appdata\\local\\programs\\python\\python311\\lib\\site-packages (from datasets) (0.70.16)\n",
      "Requirement already satisfied: fsspec<=2024.9.0,>=2023.1.0 in c:\\users\\mehak\\appdata\\local\\programs\\python\\python311\\lib\\site-packages (from fsspec[http]<=2024.9.0,>=2023.1.0->datasets) (2024.9.0)\n",
      "Requirement already satisfied: aiohttp in c:\\users\\mehak\\appdata\\local\\programs\\python\\python311\\lib\\site-packages (from datasets) (3.11.11)\n",
      "Requirement already satisfied: aiohappyeyeballs>=2.3.0 in c:\\users\\mehak\\appdata\\local\\programs\\python\\python311\\lib\\site-packages (from aiohttp->datasets) (2.4.4)\n",
      "Requirement already satisfied: aiosignal>=1.1.2 in c:\\users\\mehak\\appdata\\local\\programs\\python\\python311\\lib\\site-packages (from aiohttp->datasets) (1.3.2)\n",
      "Requirement already satisfied: attrs>=17.3.0 in c:\\users\\mehak\\appdata\\local\\programs\\python\\python311\\lib\\site-packages (from aiohttp->datasets) (24.3.0)\n",
      "Requirement already satisfied: frozenlist>=1.1.1 in c:\\users\\mehak\\appdata\\local\\programs\\python\\python311\\lib\\site-packages (from aiohttp->datasets) (1.5.0)\n",
      "Requirement already satisfied: multidict<7.0,>=4.5 in c:\\users\\mehak\\appdata\\local\\programs\\python\\python311\\lib\\site-packages (from aiohttp->datasets) (6.1.0)\n",
      "Requirement already satisfied: propcache>=0.2.0 in c:\\users\\mehak\\appdata\\local\\programs\\python\\python311\\lib\\site-packages (from aiohttp->datasets) (0.2.1)\n",
      "Requirement already satisfied: yarl<2.0,>=1.17.0 in c:\\users\\mehak\\appdata\\local\\programs\\python\\python311\\lib\\site-packages (from aiohttp->datasets) (1.18.3)\n",
      "Requirement already satisfied: typing-extensions>=3.7.4.3 in c:\\users\\mehak\\appdata\\local\\programs\\python\\python311\\lib\\site-packages (from huggingface-hub<1.0,>=0.24.0->transformers) (4.12.2)\n",
      "Requirement already satisfied: charset-normalizer<4,>=2 in c:\\users\\mehak\\appdata\\local\\programs\\python\\python311\\lib\\site-packages (from requests->transformers) (3.4.1)\n",
      "Requirement already satisfied: idna<4,>=2.5 in c:\\users\\mehak\\appdata\\local\\programs\\python\\python311\\lib\\site-packages (from requests->transformers) (3.10)\n",
      "Requirement already satisfied: urllib3<3,>=1.21.1 in c:\\users\\mehak\\appdata\\local\\programs\\python\\python311\\lib\\site-packages (from requests->transformers) (2.3.0)\n",
      "Requirement already satisfied: certifi>=2017.4.17 in c:\\users\\mehak\\appdata\\local\\programs\\python\\python311\\lib\\site-packages (from requests->transformers) (2024.12.14)\n",
      "Requirement already satisfied: colorama in c:\\users\\mehak\\appdata\\local\\programs\\python\\python311\\lib\\site-packages (from tqdm>=4.27->transformers) (0.4.6)\n",
      "Requirement already satisfied: python-dateutil>=2.8.2 in c:\\users\\mehak\\appdata\\roaming\\python\\python311\\site-packages (from pandas->datasets) (2.9.0.post0)\n",
      "Requirement already satisfied: pytz>=2020.1 in c:\\users\\mehak\\appdata\\local\\programs\\python\\python311\\lib\\site-packages (from pandas->datasets) (2024.2)\n",
      "Requirement already satisfied: tzdata>=2022.7 in c:\\users\\mehak\\appdata\\local\\programs\\python\\python311\\lib\\site-packages (from pandas->datasets) (2024.2)\n",
      "Requirement already satisfied: six>=1.5 in c:\\users\\mehak\\appdata\\roaming\\python\\python311\\site-packages (from python-dateutil>=2.8.2->pandas->datasets) (1.17.0)\n",
      "Note: you may need to restart the kernel to use updated packages.\n"
     ]
    },
    {
     "name": "stderr",
     "output_type": "stream",
     "text": [
      "WARNING: Ignoring invalid distribution ~ (c:\\Users\\mehak\\AppData\\Local\\Programs\\Python\\Python311\\Lib\\site-packages)\n",
      "WARNING: Ignoring invalid distribution ~ (c:\\Users\\mehak\\AppData\\Local\\Programs\\Python\\Python311\\Lib\\site-packages)\n",
      "WARNING: Ignoring invalid distribution ~ (c:\\Users\\mehak\\AppData\\Local\\Programs\\Python\\Python311\\Lib\\site-packages)\n"
     ]
    }
   ],
   "source": [
    "pip install transformers datasets"
   ]
  },
  {
   "cell_type": "code",
   "execution_count": 17,
   "metadata": {},
   "outputs": [
    {
     "name": "stdout",
     "output_type": "stream",
     "text": [
      "Results: {'ids': [['2u4ItZerRac']], 'embeddings': None, 'documents': [[None]], 'uris': None, 'data': None, 'metadatas': [[{'transcript': \"[Music] the pros and cons of living in Germany today we're going to talk about the pros and cons of living in Germany Germany is an amazing country with a strong economy lots of culture great infrastructure and friendly people but that doesn't mean it's the right place for everyone in this video we'll look at all aspects of life in Germany so you can decide if it's the right move for you so let's get started Pros living in Germany is a great experience it offers many advantages both long and shortterm that make it an attractive destination for those considering making the move here are some of the pros of living in Germany one free education for more than 25 years Germany has offered tuition-free higher education at public universities with no charge for most courses and little no cost for administrative fees this means that students coming from all over the world can pursue their degree programs without worrying about expensive tuition costs moreover those studying in certain Fields even have access to Grants and scholarships which cover living expenses as well in addition to this incredible benefit German universities also provide high quality instruction from some of the finest academic Minds in Europe with famous institutions such as humbold University Berlin leading the way in research and Innovation you are sure to receive an excellent standard of learning whether you're taking up a course on engineering or literature two drinkable tap water living in Germany certainly comes with a lot of perks from the delicious sausages to the breathtaking cities but one perk that doesn't often get mentioned is how drinkable tap water in Germany is it's true and it's really quite remarkable of course not all German towns have perfect tap water but by far most do in fact many Germans believe their drinking water is so good because it's monitored more stringently than other countries and for sure there are no worries about added chemicals or nasty tastes what could be better three unemployment benefits if find themselves out of work due to whatever reason don't fret your well-being is taken care of thanks to the German government's generous Provisions for unemployment insurance unemployment insurance offers more than just monthly benefits to help you find job for instance recipients can utilize up to 50% of their benefit to continue their education or training at an accredited Institute making them more marketable for future work this feature makes Germany's system truly unique amongst its counterparts across Europe four Germans are very punctual ah the Germans and their punctuality it's one of the foundations of life in Germany it doesn't matter if you're running late to a meeting eating dinner with friends or just taking the bus if you live in Germany and don't arrive on time be prepared to get some judging looks for those unfamiliar with German culture schedules and arrival times can seem like an implicit expectation people may start mentally counting down 5 minutes before your planned arrival time but being fashionably late is not accepted here the pros of living around punctual people first off no more waiting for late friends you'll see someone at 6:00 p.m. if they claim they'll be there the 5 minute delay phone calls are over five very livable if you're looking for a fantastic country to live Germany should be your first choice Germany has exceptional quality of life and some of the world's most beautiful cities and towns to begin life in Germany is safe Germany's low crime rate is due to its tight regulations and extensive security measures Germany's cultural offerings and safety make it livable from concerts and festivals like October Fest to wonderful galleries like alter naal Gallery Berlin you can explore fantastic new experiences and learn about European art and culture six efficient public transport Germany has very efficient public transport systems that's right no more worrying about finding a parking spot no more car payments and insurance costs instead you get to hop on a bus or train and take advantage of free Wi-Fi while you travel what's even better is that most cities offer discounts for students or those with limited incomes so everyone has access to Affordable transport options plus when it comes to safety there are cameras on all trains and buses throughout the country making sure that your journey is secure seven Germans are fairly honest and reliable living in Germany can be an absolute dream come true especially if you value honesty and reliability Germans have a well-deserved reputation for being fairly honest and reliable you get what you pay for this is one of the major pros of living here not only do people usually keep their word but they don't beat around the bush either when discussing something important or giving feedback that means that no matter who it comes from even your boss at work you can rest assured that what is said will not be sugarcoated it'll be straightforward and to the point cons one bureaucracy Germans think of beer gardens and sausages not paperwork unfortunately bureaucracy is an unavoidable aspect of life here from registering at the alander beura Foreigner's office to getting health insurance or a bank account expect a sea of forms remember to gather Department stamps and signatures along the Route navigating this bureaucratic maze can feel like every institution has its own rules making it harder for an outsider two difficulty in making friends one of the major cons is making friends yes it can be quite difficult to make friends in this culturally diverse country if you don't speak the same language or understand its Customs it is one of the major negative sides of living in Germany but don't be alarmed Germans do actually have their own way of connecting with others through beer gardens now before you go thinking that all German socializing centers around drinking beer let me clarify there are other activities too like playing cards and board games or just chatting away over dinner you may even find yourself jumping on trampolines at an outdoor party with your new found Buddies three bad customer service when living in Germany you're likely to come across some seriously bad customer service it can range from basic rudess all the way up to downright hostile behavior from staff at various establishments and companies here you might be wondering why this is well the Germans have their own unique culture when it comes to customer relations that doesn't always align with our expectations as customers outside Germany let me give you an example let's say you are out shopping and spot something that catches your eye so naturally you approach a shop assistant for help only to get hit with a very brusk response or even worse they just ignore you altogether this often happens because they expect customers to shop independently rather than actively seeking out assistance this is one of the most ignored negative sides of living in Germany four bad internet connection it's no surprised that moving to Germany has its advantages from their amazing culture and delicious food to the gorgeous view news but one thing that many people Overlook is how bad the internet connection can be here that's right folks you heard it here first living in Germany comes with a terrible internet connection it is one of the most annoying negative sides of living in Germany sure some areas of the country have better connections than others but on average Germans are stuck with slow speeds and high prices when it comes to their internet service providers or isps from dropped connections to painfully slow loading times let us tell you it's enough to make any techsavvy person throw their computer out the window five no air conditioning not everything is perfect here especially when it comes to air conditioning while other countries are cranking down their temperatures with powerful AC units Germany has been left a bit behind on this front which can make summer days quite uncomfortable no matter how hot it gets outside Germans just seem content with keeping their windows open and relying on fans or luck to stay cool indoors this means that if you're ever visiting or living in Germany during the summer months then you prepare yourself for some sweat filled days ahead luckily though there's usually a nice breeze coming through those open Windows sort of like Nature's Own built-in air conditioner six tough language if you thought learning a foreign language was hard think again if you've ever wanted to test your linguistic metal look no further than Germany from casual conversation to mastering the finer points of grammar and verb conjugation learning German can be quite the challenge this might be one of those negative sides of living in Germany that you can overcome as you live there and learn the language sure moving to Germany has its perks but one big con is that speaking the native tongue can sometimes feel like a Herculean task the sheer amount of vocabulary and complex sentence structure especially compared to English can make some expats feel intimidated or overwhelmed especially if they're starting from scratch or brushing up on their skills after years away from the classroom we have tried our best to discuss all the pros and cons of living in Germany in this video living in this diverse and Lively country offers great job prospects great infrastructure and a great quality of life however like any move to a new home in a new country there are downsides such as slow internet bureaucracy and missing your favorite comfort Foods before moving to Germany weigh all these perks and downsides thank you for watching this video please don't forget to comment subscribe and turn on the notification Bell\", 'video_id': '2u4ItZerRac'}]], 'distances': [[0.6507151126861572]], 'included': [<IncludeEnum.distances: 'distances'>, <IncludeEnum.documents: 'documents'>, <IncludeEnum.metadatas: 'metadatas'>]}\n",
      "Question: What are the benefits of immigration to Germany?\n",
      "Expected: The benefits of immigration to Germany include: 1. **Free Education**: Germany offers tuition-free higher education at public universities, allowing students from around the world to pursue their degrees without the burden of expensive tuition costs. There are also grants and scholarships available for certain fields that can cover living expenses. 2. **High Quality of Life**: Germany is known for its exceptional quality of life, with beautiful cities, a low crime rate, and a safe environment. The country provides a rich cultural experience with various festivals, concerts, and art galleries. **Efficient Public Transport**: Germany has a highly efficient public transport system, making it easy to travel without the need for a car. This includes affordable options for students and safety measures like surveillance on public transport. 4. **Generous Unemployment Benefits**: The German government provides substantial unemployment insurance, which not only offers financial support but also allows recipients to use part of their benefits for further education or training. 5. **Punctuality and Reliability**: The culture in Germany values punctuality and reliability, which can lead to a more organized and predictable lifestyle. 6. **Drinkable Tap Water**: The tap water in Germany is generally safe and of high quality, often considered better than in many other countries. 7. **Cultural Diversity**: Immigrants can experience a culturally diverse environment, which can enrich their lives and provide opportunities for personal growth and new friendships.ese benefits make Germany an attractive destination for immigrants seeking new opportunities and a high standard of living.\n",
      "Received: The benefits of immigration to Germany include:\n",
      "\n",
      "1. **Free Education**: Germany offers tuition-free higher education at public universities, allowing students from around the world to pursue their degrees without the burden of expensive tuition costs. There are also grants and scholarships available for certain fields that can cover living expenses.\n",
      "\n",
      "2. **High Quality of Life**: Germany is known for its exceptional quality of life, with beautiful cities, a low crime rate, and a safe environment. This makes it an attractive destination for immigrants seeking a better living situation.\n",
      "\n",
      "3. **Generous Unemployment Benefits**: The German government provides robust unemployment insurance, which not only offers financial support but also allows recipients to use a portion of their benefits for further education or training, enhancing their employability.\n",
      "\n",
      "4. **Efficient Public Transport**: Germany boasts a highly efficient public transport system, making it easy for residents to travel without the need for a car. This includes discounts for students and those with limited incomes.\n",
      "\n",
      "5. **Cultural Richness**: Immigrants can enjoy Germany's rich cultural offerings, including festivals, concerts, and art galleries, providing opportunities for social engagement and cultural exploration.\n",
      "\n",
      "6. **Honesty and Reliability**: The German culture values honesty and reliability, which can foster trust in personal and professional relationships.\n",
      "\n",
      "7. **Drinkable Tap Water**: Many areas in Germany have high-quality, drinkable tap water, which is a significant perk for residents.\n",
      "\n",
      "These benefits make Germany an appealing destination for immigrants looking for educational, economic, and cultural opportunities.\n",
      "\n",
      "Results: {'ids': [['sJNxT-I7L6s']], 'embeddings': None, 'documents': [[None]], 'uris': None, 'data': None, 'metadatas': [[{'transcript': \"Germany has a huge problem its population is aging fast they're now around two workers for every pensioner the working population is shrinking as hundreds of thousands of baby boomers go into retirement Germany's federal employment agency says the country needs 400,000 skilled immigrants a year in Germany we need skilled Workforce we need additionally um skilled Workforce from abroad but whether immigrants f welcome is a whole other [Applause] [Music] question H so is Germany attractive enough for skilled immigrants in India when I used to work I was almost busy I had a lot of like say like work from office so there was not enough time for me I can move to Netherlands and still keep the position I have I will be very close to Germany so uh whenever I'm needed in the headquarters it's just a couple of hours away now before we hear more from panach taiza and ozan here are the three top reasons why skilled workers move to Germany career opportunities they want to gain experience or get ahead number two safety and rounding out the top three The Good Health Care System Believe It or Not salaries are in fourth place other reasons include its democracy good education system and clean air my name is chaponda and I've been living in Germany for the last 17 years so I'm curious about what other skilled immigrants make of this country I'm bankage from India uh I came here 2 and a half years ago with my family I work in IT industry and I'm planning to stay here longer and apply for the citizenship I'm I came to Germany 3 years ago from Turkey I work as a business developer now I'm planning to leave Germany three people three stories making it in Germany isn't a walk in the park for one just finding a One-Stop shop to help you navigate the immigration rules is a challenge we struggle to find one right Marta yes it's very confusing German bureaucracy is a lot of paperwork and if you miss out on something uh let's say if you get late to your appointment even for 5 minutes you will miss that appointment it's quite you know Annoying to to get the things done you need to wait for 3 weeks or 4 weeks and you just have to wait you cannot do anything you cannot simply you cannot do anything in that case so yeah you have to wait wow when I moved to Germany in 2007 I didn't have to wait too long many things seemed easier it was quite difficult to to get an apartment in the very beginning I came with my family so I was looking for an apartment which suits our family [Music] over half the people looking for a new home have been searching for more than a year and most of them say they can't find accommodation because what's an offer is just too expensive so for panage it was a catch 22 you need to show proof that you have a registed address to be able to access government services and you can only get that from your property owner Airbnb Hotel don't count because they are considered commercial accommodations I was getting a lot of letters from the school because it is mandatory for a children who is more than 6-year-old to go to the school as I was not having a home so where could I send him so I was just trying to find out an apartment and I was not finding an apartment and I was getting a letter from the school again and again Pan's employer rented an apartment for him but not everyone is so lucky I have my colleague uh she was trying to find an apartment she's a German but she could also not find the apartment so it's not like for Foreigner it's for everyone but for many foreigners the language barrier makes it even harder I don't find it very welcoming when you object or refuse to give service in any other language it's not only a language barrier but it's like an imposition like they impose this to you and I I'm really having difficulty to understand this actually so much for Germany's so-called welcome culture will Commons go do you speak German to Italian colleagues or French colleagues the first thing I look when I'm buying a service is if they offer a foreign language with their services that's the first thing I look at it's not because I don't want to learn German people are expecting you to be at their level with their language and from day one to two suddenly you switch and you become one of them it's not that simple [Music] [Music] but Germany desperately needs nurses around one in six healthcare workers isn't German and the need for them is Rising by the year if it weren't for its foreign workers Tia's Hospital would have to reduce its bed capacity by a third yeah when I came here it was quite shocking because in India we used to talk a lot even though in workplaces also we we chitchat a lot we talk a lot but in in Germany I noticed like the when they work they work so there is there is not much let's say like people do not talk much so it was very difficult to you know to get into the system to get to talk to the people well Germans aren't known for small talk and I wouldn't recommend dropping in on anyone unannounced either [Music] when I first moved here of course my expectation was to make a big leap in my life I thought I would be more in the center but then I felt more outside actually so of course it leaves you a feeling of a dissatisfaction and frustration among 53 countries Germany ranks fifth from the bottom when it comes to making friends my tip lower your expectations when it comes to making friends fast in Germany with the community here it was a lot easier they would show me things they would give me suggestions even during a small talk they would say yeah have you tried this one have you heard about this not necessarily I would prefer to connect with these people just because they could speak my uh mother tongue but I find it quite relaxing and refreshing actually finding a place in German society looks different for everyone and a lot has to do with language yeah braan but sometimes TAA is made to feel like an outsider discrimination is a major problem statistics show that three out of five blacks and other people of color living in Germany have already experien racism here I should know and it makes Germany less attractive despite the fact that companies desperately need skilled workers after 1 and a half year I was looking for uh some uh senior kind of role as well so then I started looking for a change and I got an opportunity which is uh like permanent remote now at the same time my wife needs to know the language first without knowing the language it's very difficult for her to get a role and to learn the language she needs to go in the morning like four or 5 hours classes I wanted to go forward with the language first and then I will pursue my uh it course from The Institute and then I will uh continue with the job in it field I can stay at home and work and can let's say drop the children in the morning to the kinder Garden out of the school for me it's it's it's good yeah for years Germany has had a hot job market for it experts and panage was able to easily switch jobs because he has a blue card that's a special visa for highly skilled workers Engineers doctors nurses teachers scientists and it experts are among the professions with a severe labor shortage that qualify and it experts can get a blue card even without a University degree once a person has a blue card they can move easily to most EU countries as long as they have a job offer Europe needs workers with the blue card the mobility is not a problem I will just transfer my blue card to Netherlands and plus they have some advantages too for uh I think they call us expats I'm planning to enjoy those uh additional um addition what additional offerings Germany was a good choice for the time being it is safe you are treated equal as long as you speak the language you have purchasing power you have the sense of security it's quiet it's orderly where I'm coming from it's quite chaotic I really needed this and sometimes when I'm back to Turkey I find myself oh my God I missed home and by home I mean Haner [Music] TAA is turning a hobby into a side Hustle for end for me as from [Music] from and it's not just about support at the beginning immigrants need to understand how salaries are taxed a nurse will earn 3,433 on average and if they don't have children €17 goes to income tax and € 723 to Social Security the tax burden and Social Security reactions are high so their take-home pay will be € 2,293 and from that they'll need to cover rent groceries and clothes and other expenses too this could be a reason why two out of five skilled immigrants in Germany are somewhat or very unhappy with their financial situation and yet Healthcare and education are practically free here that's largely thanks to the high taxes and Social Security deductions but other countries like the Netherlands have lower taxes for expat the reason why I'm choosing now Netherlands is that it's open for foreigners and not only rdam but all around Netherlands it really feels like it is more welcoming I just want to also underline that this is not open to immigrants but when you have a privilege like a blue card or if you are a skilled employee it's easier for you to start a life in this kind of countries I know my privileges and I know these privileges are more beneficial here I'm even planning on buying a new [Music] apartment Germany has the lowest home ownership rate in the EU more than half of the people are renters because it is much harder to finance a home purchase entirely through a bank loan for the time being my plan is to stay in Rotterdam three out of five single people who want to move to Germany plan to stay permanently for those with families it is three out of four maybe because education is free here my children at least I want them to you know complete the school here and the university [Music] here here Ina the keyword for Rotterdam is accessible the connectedness feeling is my biggest expectation here wait you don't have it so is Germany attractive enough for skilled immigrants well I'm applying for German citizenship but having gone through some of the challenges that oan taiza and panage have mentioned I have a couple of suggestions for Germany one provide better support to Skilled immigrants during their first few years in the country two reduce bureaucracy simplify the paperwork like tax declarations for instance three reward skilled immigrants who choose to learn German no should feel like they're losing time or money when investing in the one language that would make their lives easier here so how attractive do you think Germany is for skilled immigrants we want to hear from you in the comments [Music]\", 'video_id': 'sJNxT-I7L6s'}]], 'distances': [[0.7231895923614502]], 'included': [<IncludeEnum.distances: 'distances'>, <IncludeEnum.documents: 'documents'>, <IncludeEnum.metadatas: 'metadatas'>]}\n",
      "Question: What are the challenges faced by immigrants in Germany?\n",
      "Expected: Immigrants in Germany face several challenges, including:1 **Bureaucracy**: Navigating the complex bureaucratic processes can be overwhelming, as it involves dealing with numerous forms, registrations, and obtaining various approvals, which can be particularly daunting for newcomers. 2. **Difficulty in Making Friends**: Building social connections can be challenging, especially for those who do not speak German or are unfamiliar with the local customs. This can lead to feelings of isolation. 3. **Language Barrier**: Learning German can be a significant hurdle for immigrants, as the language has complex grammar and vocabulary. This can make everyday interactions and integration into society more difficult. 4. **Cultural Differences**: Understanding and adapting to German social norms and customs can be challenging, which may hinder social interactions and integration. 5. **Perception of Unwelcomeness**: In some areas, particularly where anti-immigration sentiments are strong, immigrants may feel unwelcome or face discrimination, which can affect their sense of safety and belonging. 6. **Bad Customer Service**: Immigrants may encounter poor customer service, as the cultural expectations around customer relations in Germany can differ significantly from those in other countries, leading to misunderstandings and frustration.These challenges can impact the overall experience of immigrants in Germany, making it essential for them to prepare and seek support as they navigate their new environment.\n",
      "Received: Immigrants in Germany face several challenges, including:\n",
      "\n",
      "1. **Bureaucracy**: Navigating the complex bureaucratic processes can be overwhelming, as it involves dealing with numerous forms, registrations, and obtaining various approvals, which can be time-consuming and frustrating.\n",
      "\n",
      "2. **Difficulty in Making Friends**: Building social connections can be challenging, especially for those who do not speak German or are unfamiliar with the local customs. This can lead to feelings of isolation.\n",
      "\n",
      "3. **Language Barrier**: Learning German can be a significant hurdle for many immigrants. The complexity of the language, including its grammar and vocabulary, can be intimidating and may hinder effective communication.\n",
      "\n",
      "4. **Cultural Differences**: Understanding and adapting to German social norms and customs can be difficult for newcomers, which may affect their ability to integrate into society.\n",
      "\n",
      "5. **Perceptions of Unwelcomeness**: In certain regions, particularly where anti-immigration sentiments are strong, immigrants may feel unwelcome or face discrimination, impacting their sense of safety and belonging.\n",
      "\n",
      "6. **Customer Service Issues**: Immigrants may encounter poor customer service, as the cultural expectations around customer relations in Germany can differ significantly from those in other countries, leading to misunderstandings.\n",
      "\n",
      "These challenges can make the transition to life in Germany more difficult for immigrants, despite the many advantages the country offers.\n",
      "\n",
      "Model accuracy: 0.0%\n"
     ]
    }
   ],
   "source": [
    "# evaluation and fine tuning\n",
    "# Define a set of test queries and expected answers\n",
    "test_cases = [\n",
    "    {\n",
    "        \"question\": \"What are the benefits of immigration to Germany?\",\n",
    "        \"expected_answer\": \"The benefits of immigration to Germany include: 1. **Free Education**: Germany offers tuition-free higher education at public universities, allowing students from around the world to pursue their degrees without the burden of expensive tuition costs. There are also grants and scholarships available for certain fields that can cover living expenses. 2. **High Quality of Life**: Germany is known for its exceptional quality of life, with beautiful cities, a low crime rate, and a safe environment. The country provides a rich cultural experience with various festivals, concerts, and art galleries. **Efficient Public Transport**: Germany has a highly efficient public transport system, making it easy to travel without the need for a car. This includes affordable options for students and safety measures like surveillance on public transport. 4. **Generous Unemployment Benefits**: The German government provides substantial unemployment insurance, which not only offers financial support but also allows recipients to use part of their benefits for further education or training. 5. **Punctuality and Reliability**: The culture in Germany values punctuality and reliability, which can lead to a more organized and predictable lifestyle. 6. **Drinkable Tap Water**: The tap water in Germany is generally safe and of high quality, often considered better than in many other countries. 7. **Cultural Diversity**: Immigrants can experience a culturally diverse environment, which can enrich their lives and provide opportunities for personal growth and new friendships.ese benefits make Germany an attractive destination for immigrants seeking new opportunities and a high standard of living.\"\n",
    "    },\n",
    "    {\n",
    "        \"question\": \"What are the challenges faced by immigrants in Germany?\",\n",
    "        \"expected_answer\": \"Immigrants in Germany face several challenges, including:1 **Bureaucracy**: Navigating the complex bureaucratic processes can be overwhelming, as it involves dealing with numerous forms, registrations, and obtaining various approvals, which can be particularly daunting for newcomers. 2. **Difficulty in Making Friends**: Building social connections can be challenging, especially for those who do not speak German or are unfamiliar with the local customs. This can lead to feelings of isolation. 3. **Language Barrier**: Learning German can be a significant hurdle for immigrants, as the language has complex grammar and vocabulary. This can make everyday interactions and integration into society more difficult. 4. **Cultural Differences**: Understanding and adapting to German social norms and customs can be challenging, which may hinder social interactions and integration. 5. **Perception of Unwelcomeness**: In some areas, particularly where anti-immigration sentiments are strong, immigrants may feel unwelcome or face discrimination, which can affect their sense of safety and belonging. 6. **Bad Customer Service**: Immigrants may encounter poor customer service, as the cultural expectations around customer relations in Germany can differ significantly from those in other countries, leading to misunderstandings and frustration.These challenges can impact the overall experience of immigrants in Germany, making it essential for them to prepare and seek support as they navigate their new environment.\"\n",
    "    },\n",
    "    # Add more test cases as needed\n",
    "]\n",
    "\n",
    "def evaluate_model(test_cases):\n",
    "    \"\"\"\n",
    "    Evaluate the model with a set of test cases.\n",
    "    \"\"\"\n",
    "    correct_answers = 0\n",
    "    for test in test_cases:\n",
    "        answer = answer_question(test['question'], \"2u4ItZerRac, I2zF1I60hPg, 8xqSF-uHCUs, LtmS-c1pCh\")  # Assuming using one video for testing\n",
    "        print(f\"Question: {test['question']}\")\n",
    "        print(f\"Expected: {test['expected_answer']}\")\n",
    "        print(f\"Received: {answer}\")\n",
    "        if test['expected_answer'].lower() in answer.lower():\n",
    "            correct_answers += 1\n",
    "        print()\n",
    "    \n",
    "    accuracy = correct_answers / len(test_cases)\n",
    "    print(f\"Model accuracy: {accuracy * 100}%\")\n",
    "\n",
    "# Run the evaluation\n",
    "evaluate_model(test_cases)"
   ]
  },
  {
   "cell_type": "code",
   "execution_count": null,
   "metadata": {},
   "outputs": [],
   "source": []
  },
  {
   "cell_type": "markdown",
   "metadata": {},
   "source": [
    "Evaluation and fine tuning "
   ]
  },
  {
   "cell_type": "code",
   "execution_count": 18,
   "metadata": {},
   "outputs": [],
   "source": [
    "combined_context = \"\"\"\n",
    "Transcript for 2u4ItZerRac:\n",
    "[Music] The pros and cons of living in Germany. Today we're going to talk about the pros and cons of living in Germany. Germany is an amazing country with a strong economy, lots of culture, great infrastructure, and friendly people, but that doesn't mean it's the right place for everyone. In this video, we'll look at all aspects of life in Germany so you can decide if it's the right move for you. So let's get started. Pros: living in Germany is a great experience. It offers many advantages both long and short-term that make it an attractive destination for those considering making the move. Here are some of the pros of living in Germany: 1. Free education: For more than 25 years, Germany has offered tuition-free higher education at public universities, with no charge for most courses and little to no cost for administrative fees. This means that students from all over the world can pursue their degree programs without worrying about expensive tuition costs. Moreover, those studying in certain fields even have access to grants and scholarships which cover living expenses as well. In addition to this incredible benefit, German universities also provide high-quality instruction from some of the finest academic minds in Europe. With famous institutions such as Humboldt University Berlin leading the way in research and innovation, you are sure to receive an excellent standard of learning whether you're taking up a course on engineering or literature. 2. Drinkable tap water: Living in Germany certainly comes with a lot of perks, from the delicious sausages to the breathtaking cities, but one perk that doesn't often get mentioned is how drinkable tap water in Germany is. It's true, and it's really quite remarkable. Of course, not all German towns have perfect tap water, but by far most do. In fact, many Germans believe their drinking water is so good because it's monitored more stringently than in other countries. And for sure, there are no worries about added chemicals or nasty tastes. What could be better? 3. Unemployment benefits: If you find yourself out of work due to whatever reason, don't fret. Your well-being is taken care of thanks to the German government's generous provisions for unemployment insurance. Unemployment insurance offers more than just monthly benefits to help you find a job. For instance, recipients can utilize up to 50% of their benefit to continue their education or training at an accredited institute, making them more marketable for future work. This feature makes Germany's system truly unique amongst its counterparts across Europe. 4. Punctuality: Germans are very punctual. It's one of the foundations of life in Germany. It doesn't matter if you're running late to a meeting, eating dinner with friends, or just taking the bus. If you live in Germany and don't arrive on time, be prepared to get some judging looks. For those unfamiliar with German culture, schedules and arrival times can seem like an implicit expectation. People may start mentally counting down 5 minutes before your planned arrival time, but being fashionably late is not accepted here. The pros of living around punctual people: first off, no more waiting for late friends. You'll see someone at 6:00 p.m. if they claim they'll be there. The 5-minute delay phone calls are over. 5. Very livable: If you're looking for a fantastic country to live in, Germany should be your first choice. Germany has exceptional quality of life and some of the world's most beautiful cities and towns to begin with. Life in Germany is safe. Germany's low crime rate is due to its tight regulations and extensive security measures. Germany's cultural offerings and safety make it livable. From concerts and festivals like Oktoberfest to wonderful galleries like the Alte Nationalgalerie Berlin, you can explore fantastic new experiences and learn about European art and culture. 6. Efficient public transport: Germany has very efficient public transport systems. That's right, no more worrying about finding a parking spot, no more car payments and insurance costs. Instead, you get to hop on a bus or train and take advantage of free Wi-Fi while you travel. What's even better is that most cities offer discounts for students or those with limited incomes, so everyone has access to affordable transport options. Plus, when it comes to safety, there are cameras on all trains and buses throughout the country, making sure that your journey is secure. 7. Honest and reliable people: Germans are fairly honest and reliable. Living in Germany can be an absolute dream come true, especially if you value honesty and reliability. Germans have a well-deserved reputation for being fairly honest and reliable. You get what you pay for. This is one of the major pros of living here. Not only do people usually keep their word, but they don't beat around the bush either when discussing something important or giving feedback. That means that no matter who it comes from, even your boss at work, you can rest assured that what is said will not be sugarcoated. It'll be straightforward and to the point. Cons: 1. Bureaucracy: Germans think of beer gardens and sausages, not paperwork. Unfortunately, bureaucracy is an unavoidable aspect of life here. From registering at the Ausländerbehörde (foreigner's office) to getting health insurance or a bank account, expect a sea of forms. Remember to gather department stamps and signatures along the route. Navigating this bureaucratic maze can feel like every institution has its own rules, making it harder for an outsider. 2. Difficulty in making friends: One of the major cons is making friends. Yes, it can be quite difficult to make friends in this culturally diverse country if you don't speak the same language or understand its customs. It is one of the major negative sides of living in Germany, but don't be alarmed. Germans do actually have their own way of connecting with others through beer gardens. Now, before you go thinking that all German socializing centers around drinking beer, let me clarify. There are other activities too, like playing cards and board games or just chatting away over dinner. You may even find yourself jumping on trampolines at an outdoor party with your newfound buddies. 3. Bad customer service: When living in Germany, you're likely to come across some seriously bad customer service. It can range from basic rudeness all the way up to downright hostile behavior from staff at various establishments and companies here. You might be wondering why this is. Well, the Germans have their own unique culture when it comes to customer relations that doesn't always align with our expectations as customers outside Germany. Let me give you an example. Let's say you are out shopping and spot something that catches your eye. So naturally, you approach a shop assistant for help, only to get hit with a very brusque response, or even worse, they just ignore you altogether. This often happens because they expect customers to shop independently rather than actively seeking out assistance. This is one of the most ignored negative sides of living in Germany. 4. Bad internet connection: It's no surprise that moving to Germany has its advantages, from their amazing culture and delicious food to the gorgeous views, but one thing that many people overlook is how bad the internet connection can be here. That's right, folks, you heard it here first. Living in Germany comes with a terrible internet connection. It is one of the most annoying negative sides of living in Germany. Sure, some areas of the country have better connections than others, but on average, Germans are stuck with slow speeds and high prices when it comes to their internet service providers or ISPs. From dropped connections to painfully slow loading times, let us tell you, it's enough to make any tech-savvy person throw their computer out the window. 5. No air conditioning: Not everything is perfect here, especially when it comes to air conditioning. While other countries are cranking down their temperatures with powerful AC units, Germany has been left a bit behind on this front, which can make summer days quite uncomfortable. No matter how hot it gets outside, Germans just seem content with keeping their windows open and relying on fans or luck to stay cool indoors. This means that if you're ever visiting or living in Germany during the summer months, then you should prepare yourself for some sweat-filled days ahead. Luckily though, there's usually a nice breeze coming through those open windows, sort of like nature's own built-in air conditioner. 6. Tough language: If you thought learning a foreign language was hard, think again. If you've ever wanted to test your linguistic mettle, look no further than Germany. From casual conversation to mastering the finer points of grammar and verb conjugation, learning German can be quite the challenge. This might be one of those negative sides of living in Germany that you can overcome as you live there and learn the language. Sure, moving to Germany has its perks, but one big con is that speaking the native tongue can sometimes feel like a Herculean task. The sheer amount of vocabulary and complex sentence structure, especially compared to English, can make some expats feel intimidated or overwhelmed, especially if they're starting from scratch or brushing up on their skills after years away from the classroom. We have tried our best to discuss all the pros and cons of living in Germany in this video. Living in this diverse and lively country offers great job prospects, great infrastructure, and a great quality of life. However, like any move to a new home in a new country, there are downsides such as slow internet, bureaucracy, and missing your favorite comfort foods. Before moving to Germany, weigh all these perks and downsides. Thank you for watching this video. Please don't forget to comment, subscribe, and turn on the notification bell.\n",
    "\n",
    "Transcript for I2zF1I60hPg:\n",
    "should you move to Germany that's an easy question to a hard answer but I'm going to try my [Music] best hi my name is Fernando I have been living in Munich Germany for eight years now and yeah I have a lot of experience I say and I'm very happy to kind of like give you some ideas and some stories to will probably help you make a better decision if you should move to Germany or not the first thing of course is that there are many reasons why you are probably moving to Germany either you got a a \n",
    "\n",
    "Transcript for 8xqSF-uHCUs:\n",
    "here in Germany the government is meeting this week to discuss new measures to more easily Deport migrants whose Asylum application was rejected or who have been convicted of certain crimes it's a controversial Topic in some areas of Germany but not in parts of the East where the anti-immigration alternative for Germany is the strongest political party many newly arrived migrants there worry that they are no longer welcome here because of war and I want to have a safe life here I'm 100% confiden\n",
    "\n",
    "Transcript for LtmS-c1pChY:\n",
    "the alternative for Germany afd party has unveiled a radical new approach to immigration policy signaling a potential shift in the nation's migration landscape Party leaders have proposed stringent measures that could dramatically reshape Germany's approach to foreign Nationals and border control afd leadership has outlined a comprehensive strategy targeting what they describe as excessive immigration the proposed plan includes significant restrictions on Asylum Seekers family reunification and\n",
    "\"\"\""
   ]
  },
  {
   "cell_type": "code",
   "execution_count": 19,
   "metadata": {},
   "outputs": [],
   "source": [
    "questions_answers = [\n",
    "    {\n",
    "        \"question\": \"What are the benefits of immigration to Germany?\",\n",
    "        \"expected_answer\": \"Immigration brings cultural diversity, fills labor shortages, and contributes to economic growth.\"\n",
    "    },\n",
    "    {\n",
    "        \"question\": \"What are the challenges faced by immigrants in Germany?\",\n",
    "        \"expected_answer\": \"Immigrants may face language barriers, integration difficulties, and potential discrimination.\"\n",
    "    }\n",
    "]"
   ]
  },
  {
   "cell_type": "code",
   "execution_count": 20,
   "metadata": {},
   "outputs": [],
   "source": [
    "from datasets import Dataset\n",
    "\n",
    "data = {\n",
    "    \"context\": [combined_context] * len(questions_answers),\n",
    "    \"question\": [qa[\"question\"] for qa in questions_answers],\n",
    "    \"answer\": [qa[\"expected_answer\"] for qa in questions_answers]\n",
    "}\n",
    "\n",
    "dataset = Dataset.from_dict(data)"
   ]
  },
  {
   "cell_type": "code",
   "execution_count": 21,
   "metadata": {},
   "outputs": [
    {
     "name": "stdout",
     "output_type": "stream",
     "text": [
      "Requirement already satisfied: transformers in c:\\users\\mehak\\appdata\\local\\programs\\python\\python311\\lib\\site-packages (4.48.1)Note: you may need to restart the kernel to use updated packages.\n"
     ]
    },
    {
     "name": "stderr",
     "output_type": "stream",
     "text": [
      "WARNING: Ignoring invalid distribution ~ (c:\\Users\\mehak\\AppData\\Local\\Programs\\Python\\Python311\\Lib\\site-packages)\n",
      "WARNING: Ignoring invalid distribution ~ (c:\\Users\\mehak\\AppData\\Local\\Programs\\Python\\Python311\\Lib\\site-packages)\n",
      "WARNING: Ignoring invalid distribution ~ (c:\\Users\\mehak\\AppData\\Local\\Programs\\Python\\Python311\\Lib\\site-packages)\n"
     ]
    },
    {
     "name": "stdout",
     "output_type": "stream",
     "text": [
      "\n",
      "Requirement already satisfied: datasets in c:\\users\\mehak\\appdata\\local\\programs\\python\\python311\\lib\\site-packages (3.2.0)\n",
      "Requirement already satisfied: filelock in c:\\users\\mehak\\appdata\\local\\programs\\python\\python311\\lib\\site-packages (from transformers) (3.16.1)\n",
      "Requirement already satisfied: huggingface-hub<1.0,>=0.24.0 in c:\\users\\mehak\\appdata\\local\\programs\\python\\python311\\lib\\site-packages (from transformers) (0.27.1)\n",
      "Requirement already satisfied: numpy>=1.17 in c:\\users\\mehak\\appdata\\local\\programs\\python\\python311\\lib\\site-packages (from transformers) (1.26.4)\n",
      "Requirement already satisfied: packaging>=20.0 in c:\\users\\mehak\\appdata\\local\\programs\\python\\python311\\lib\\site-packages (from transformers) (24.2)\n",
      "Requirement already satisfied: pyyaml>=5.1 in c:\\users\\mehak\\appdata\\local\\programs\\python\\python311\\lib\\site-packages (from transformers) (6.0.2)\n",
      "Requirement already satisfied: regex!=2019.12.17 in c:\\users\\mehak\\appdata\\local\\programs\\python\\python311\\lib\\site-packages (from transformers) (2024.11.6)\n",
      "Requirement already satisfied: requests in c:\\users\\mehak\\appdata\\local\\programs\\python\\python311\\lib\\site-packages (from transformers) (2.32.3)\n",
      "Requirement already satisfied: tokenizers<0.22,>=0.21 in c:\\users\\mehak\\appdata\\local\\programs\\python\\python311\\lib\\site-packages (from transformers) (0.21.0)\n",
      "Requirement already satisfied: safetensors>=0.4.1 in c:\\users\\mehak\\appdata\\local\\programs\\python\\python311\\lib\\site-packages (from transformers) (0.5.2)\n",
      "Requirement already satisfied: tqdm>=4.27 in c:\\users\\mehak\\appdata\\local\\programs\\python\\python311\\lib\\site-packages (from transformers) (4.67.1)\n",
      "Requirement already satisfied: pyarrow>=15.0.0 in c:\\users\\mehak\\appdata\\local\\programs\\python\\python311\\lib\\site-packages (from datasets) (19.0.0)\n",
      "Requirement already satisfied: dill<0.3.9,>=0.3.0 in c:\\users\\mehak\\appdata\\local\\programs\\python\\python311\\lib\\site-packages (from datasets) (0.3.8)\n",
      "Requirement already satisfied: pandas in c:\\users\\mehak\\appdata\\local\\programs\\python\\python311\\lib\\site-packages (from datasets) (2.2.3)\n",
      "Requirement already satisfied: xxhash in c:\\users\\mehak\\appdata\\local\\programs\\python\\python311\\lib\\site-packages (from datasets) (3.5.0)\n",
      "Requirement already satisfied: multiprocess<0.70.17 in c:\\users\\mehak\\appdata\\local\\programs\\python\\python311\\lib\\site-packages (from datasets) (0.70.16)\n",
      "Requirement already satisfied: fsspec<=2024.9.0,>=2023.1.0 in c:\\users\\mehak\\appdata\\local\\programs\\python\\python311\\lib\\site-packages (from fsspec[http]<=2024.9.0,>=2023.1.0->datasets) (2024.9.0)\n",
      "Requirement already satisfied: aiohttp in c:\\users\\mehak\\appdata\\local\\programs\\python\\python311\\lib\\site-packages (from datasets) (3.11.11)\n",
      "Requirement already satisfied: aiohappyeyeballs>=2.3.0 in c:\\users\\mehak\\appdata\\local\\programs\\python\\python311\\lib\\site-packages (from aiohttp->datasets) (2.4.4)\n",
      "Requirement already satisfied: aiosignal>=1.1.2 in c:\\users\\mehak\\appdata\\local\\programs\\python\\python311\\lib\\site-packages (from aiohttp->datasets) (1.3.2)\n",
      "Requirement already satisfied: attrs>=17.3.0 in c:\\users\\mehak\\appdata\\local\\programs\\python\\python311\\lib\\site-packages (from aiohttp->datasets) (24.3.0)\n",
      "Requirement already satisfied: frozenlist>=1.1.1 in c:\\users\\mehak\\appdata\\local\\programs\\python\\python311\\lib\\site-packages (from aiohttp->datasets) (1.5.0)\n",
      "Requirement already satisfied: multidict<7.0,>=4.5 in c:\\users\\mehak\\appdata\\local\\programs\\python\\python311\\lib\\site-packages (from aiohttp->datasets) (6.1.0)\n",
      "Requirement already satisfied: propcache>=0.2.0 in c:\\users\\mehak\\appdata\\local\\programs\\python\\python311\\lib\\site-packages (from aiohttp->datasets) (0.2.1)\n",
      "Requirement already satisfied: yarl<2.0,>=1.17.0 in c:\\users\\mehak\\appdata\\local\\programs\\python\\python311\\lib\\site-packages (from aiohttp->datasets) (1.18.3)\n",
      "Requirement already satisfied: typing-extensions>=3.7.4.3 in c:\\users\\mehak\\appdata\\local\\programs\\python\\python311\\lib\\site-packages (from huggingface-hub<1.0,>=0.24.0->transformers) (4.12.2)\n",
      "Requirement already satisfied: charset-normalizer<4,>=2 in c:\\users\\mehak\\appdata\\local\\programs\\python\\python311\\lib\\site-packages (from requests->transformers) (3.4.1)\n",
      "Requirement already satisfied: idna<4,>=2.5 in c:\\users\\mehak\\appdata\\local\\programs\\python\\python311\\lib\\site-packages (from requests->transformers) (3.10)\n",
      "Requirement already satisfied: urllib3<3,>=1.21.1 in c:\\users\\mehak\\appdata\\local\\programs\\python\\python311\\lib\\site-packages (from requests->transformers) (2.3.0)\n",
      "Requirement already satisfied: certifi>=2017.4.17 in c:\\users\\mehak\\appdata\\local\\programs\\python\\python311\\lib\\site-packages (from requests->transformers) (2024.12.14)\n",
      "Requirement already satisfied: colorama in c:\\users\\mehak\\appdata\\local\\programs\\python\\python311\\lib\\site-packages (from tqdm>=4.27->transformers) (0.4.6)\n",
      "Requirement already satisfied: python-dateutil>=2.8.2 in c:\\users\\mehak\\appdata\\roaming\\python\\python311\\site-packages (from pandas->datasets) (2.9.0.post0)\n",
      "Requirement already satisfied: pytz>=2020.1 in c:\\users\\mehak\\appdata\\local\\programs\\python\\python311\\lib\\site-packages (from pandas->datasets) (2024.2)\n",
      "Requirement already satisfied: tzdata>=2022.7 in c:\\users\\mehak\\appdata\\local\\programs\\python\\python311\\lib\\site-packages (from pandas->datasets) (2024.2)\n",
      "Requirement already satisfied: six>=1.5 in c:\\users\\mehak\\appdata\\roaming\\python\\python311\\site-packages (from python-dateutil>=2.8.2->pandas->datasets) (1.17.0)\n"
     ]
    }
   ],
   "source": [
    "pip install transformers datasets"
   ]
  },
  {
   "cell_type": "code",
   "execution_count": 22,
   "metadata": {},
   "outputs": [
    {
     "name": "stdout",
     "output_type": "stream",
     "text": [
      "Note: you may need to restart the kernel to use updated packages.\n"
     ]
    },
    {
     "name": "stderr",
     "output_type": "stream",
     "text": [
      "ERROR: Invalid requirement: '[torch]': Expected package name at the start of dependency specifier\n",
      "    [torch]\n",
      "    ^\n"
     ]
    }
   ],
   "source": [
    "pip install transformers [torch]"
   ]
  },
  {
   "cell_type": "code",
   "execution_count": 23,
   "metadata": {},
   "outputs": [
    {
     "name": "stdout",
     "output_type": "stream",
     "text": [
      "Requirement already satisfied: transformers in c:\\users\\mehak\\appdata\\local\\programs\\python\\python311\\lib\\site-packages (4.48.1)\n",
      "Requirement already satisfied: datasets in c:\\users\\mehak\\appdata\\local\\programs\\python\\python311\\lib\\site-packages (3.2.0)\n",
      "Requirement already satisfied: accelerate in c:\\users\\mehak\\appdata\\local\\programs\\python\\python311\\lib\\site-packages (1.3.0)\n",
      "Requirement already satisfied: filelock in c:\\users\\mehak\\appdata\\local\\programs\\python\\python311\\lib\\site-packages (from transformers) (3.16.1)\n",
      "Requirement already satisfied: huggingface-hub<1.0,>=0.24.0 in c:\\users\\mehak\\appdata\\local\\programs\\python\\python311\\lib\\site-packages (from transformers) (0.27.1)\n",
      "Requirement already satisfied: numpy>=1.17 in c:\\users\\mehak\\appdata\\local\\programs\\python\\python311\\lib\\site-packages (from transformers) (1.26.4)\n",
      "Requirement already satisfied: packaging>=20.0 in c:\\users\\mehak\\appdata\\local\\programs\\python\\python311\\lib\\site-packages (from transformers) (24.2)\n",
      "Requirement already satisfied: pyyaml>=5.1 in c:\\users\\mehak\\appdata\\local\\programs\\python\\python311\\lib\\site-packages (from transformers) (6.0.2)\n",
      "Requirement already satisfied: regex!=2019.12.17 in c:\\users\\mehak\\appdata\\local\\programs\\python\\python311\\lib\\site-packages (from transformers) (2024.11.6)\n",
      "Requirement already satisfied: requests in c:\\users\\mehak\\appdata\\local\\programs\\python\\python311\\lib\\site-packages (from transformers) (2.32.3)\n",
      "Requirement already satisfied: tokenizers<0.22,>=0.21 in c:\\users\\mehak\\appdata\\local\\programs\\python\\python311\\lib\\site-packages (from transformers) (0.21.0)\n",
      "Requirement already satisfied: safetensors>=0.4.1 in c:\\users\\mehak\\appdata\\local\\programs\\python\\python311\\lib\\site-packages (from transformers) (0.5.2)\n",
      "Requirement already satisfied: tqdm>=4.27 in c:\\users\\mehak\\appdata\\local\\programs\\python\\python311\\lib\\site-packages (from transformers) (4.67.1)\n",
      "Requirement already satisfied: pyarrow>=15.0.0 in c:\\users\\mehak\\appdata\\local\\programs\\python\\python311\\lib\\site-packages (from datasets) (19.0.0)\n",
      "Requirement already satisfied: dill<0.3.9,>=0.3.0 in c:\\users\\mehak\\appdata\\local\\programs\\python\\python311\\lib\\site-packages (from datasets) (0.3.8)\n",
      "Requirement already satisfied: pandas in c:\\users\\mehak\\appdata\\local\\programs\\python\\python311\\lib\\site-packages (from datasets) (2.2.3)\n",
      "Requirement already satisfied: xxhash in c:\\users\\mehak\\appdata\\local\\programs\\python\\python311\\lib\\site-packages (from datasets) (3.5.0)\n",
      "Requirement already satisfied: multiprocess<0.70.17 in c:\\users\\mehak\\appdata\\local\\programs\\python\\python311\\lib\\site-packages (from datasets) (0.70.16)\n",
      "Requirement already satisfied: fsspec<=2024.9.0,>=2023.1.0 in c:\\users\\mehak\\appdata\\local\\programs\\python\\python311\\lib\\site-packages (from fsspec[http]<=2024.9.0,>=2023.1.0->datasets) (2024.9.0)\n",
      "Requirement already satisfied: aiohttp in c:\\users\\mehak\\appdata\\local\\programs\\python\\python311\\lib\\site-packages (from datasets) (3.11.11)\n",
      "Requirement already satisfied: psutil in c:\\users\\mehak\\appdata\\roaming\\python\\python311\\site-packages (from accelerate) (6.1.1)\n",
      "Requirement already satisfied: torch>=2.0.0 in c:\\users\\mehak\\appdata\\local\\programs\\python\\python311\\lib\\site-packages (from accelerate) (2.5.1)\n",
      "Requirement already satisfied: aiohappyeyeballs>=2.3.0 in c:\\users\\mehak\\appdata\\local\\programs\\python\\python311\\lib\\site-packages (from aiohttp->datasets) (2.4.4)\n",
      "Requirement already satisfied: aiosignal>=1.1.2 in c:\\users\\mehak\\appdata\\local\\programs\\python\\python311\\lib\\site-packages (from aiohttp->datasets) (1.3.2)\n",
      "Requirement already satisfied: attrs>=17.3.0 in c:\\users\\mehak\\appdata\\local\\programs\\python\\python311\\lib\\site-packages (from aiohttp->datasets) (24.3.0)\n",
      "Requirement already satisfied: frozenlist>=1.1.1 in c:\\users\\mehak\\appdata\\local\\programs\\python\\python311\\lib\\site-packages (from aiohttp->datasets) (1.5.0)\n",
      "Requirement already satisfied: multidict<7.0,>=4.5 in c:\\users\\mehak\\appdata\\local\\programs\\python\\python311\\lib\\site-packages (from aiohttp->datasets) (6.1.0)\n",
      "Requirement already satisfied: propcache>=0.2.0 in c:\\users\\mehak\\appdata\\local\\programs\\python\\python311\\lib\\site-packages (from aiohttp->datasets) (0.2.1)\n",
      "Requirement already satisfied: yarl<2.0,>=1.17.0 in c:\\users\\mehak\\appdata\\local\\programs\\python\\python311\\lib\\site-packages (from aiohttp->datasets) (1.18.3)\n",
      "Requirement already satisfied: typing-extensions>=3.7.4.3 in c:\\users\\mehak\\appdata\\local\\programs\\python\\python311\\lib\\site-packages (from huggingface-hub<1.0,>=0.24.0->transformers) (4.12.2)\n",
      "Requirement already satisfied: charset-normalizer<4,>=2 in c:\\users\\mehak\\appdata\\local\\programs\\python\\python311\\lib\\site-packages (from requests->transformers) (3.4.1)\n",
      "Requirement already satisfied: idna<4,>=2.5 in c:\\users\\mehak\\appdata\\local\\programs\\python\\python311\\lib\\site-packages (from requests->transformers) (3.10)\n",
      "Requirement already satisfied: urllib3<3,>=1.21.1 in c:\\users\\mehak\\appdata\\local\\programs\\python\\python311\\lib\\site-packages (from requests->transformers) (2.3.0)\n",
      "Requirement already satisfied: certifi>=2017.4.17 in c:\\users\\mehak\\appdata\\local\\programs\\python\\python311\\lib\\site-packages (from requests->transformers) (2024.12.14)\n",
      "Requirement already satisfied: networkx in c:\\users\\mehak\\appdata\\local\\programs\\python\\python311\\lib\\site-packages (from torch>=2.0.0->accelerate) (3.4.2)\n",
      "Requirement already satisfied: jinja2 in c:\\users\\mehak\\appdata\\local\\programs\\python\\python311\\lib\\site-packages (from torch>=2.0.0->accelerate) (3.1.5)\n",
      "Requirement already satisfied: sympy==1.13.1 in c:\\users\\mehak\\appdata\\local\\programs\\python\\python311\\lib\\site-packages (from torch>=2.0.0->accelerate) (1.13.1)\n",
      "Requirement already satisfied: mpmath<1.4,>=1.1.0 in c:\\users\\mehak\\appdata\\local\\programs\\python\\python311\\lib\\site-packages (from sympy==1.13.1->torch>=2.0.0->accelerate) (1.3.0)\n",
      "Requirement already satisfied: colorama in c:\\users\\mehak\\appdata\\local\\programs\\python\\python311\\lib\\site-packages (from tqdm>=4.27->transformers) (0.4.6)\n",
      "Requirement already satisfied: python-dateutil>=2.8.2 in c:\\users\\mehak\\appdata\\roaming\\python\\python311\\site-packages (from pandas->datasets) (2.9.0.post0)\n",
      "Requirement already satisfied: pytz>=2020.1 in c:\\users\\mehak\\appdata\\local\\programs\\python\\python311\\lib\\site-packages (from pandas->datasets) (2024.2)\n",
      "Requirement already satisfied: tzdata>=2022.7 in c:\\users\\mehak\\appdata\\local\\programs\\python\\python311\\lib\\site-packages (from pandas->datasets) (2024.2)\n",
      "Requirement already satisfied: six>=1.5 in c:\\users\\mehak\\appdata\\roaming\\python\\python311\\site-packages (from python-dateutil>=2.8.2->pandas->datasets) (1.17.0)\n",
      "Requirement already satisfied: MarkupSafe>=2.0 in c:\\users\\mehak\\appdata\\local\\programs\\python\\python311\\lib\\site-packages (from jinja2->torch>=2.0.0->accelerate) (2.1.5)\n"
     ]
    },
    {
     "name": "stderr",
     "output_type": "stream",
     "text": [
      "WARNING: Ignoring invalid distribution ~ (C:\\Users\\mehak\\AppData\\Local\\Programs\\Python\\Python311\\Lib\\site-packages)\n",
      "WARNING: Ignoring invalid distribution ~ (C:\\Users\\mehak\\AppData\\Local\\Programs\\Python\\Python311\\Lib\\site-packages)\n",
      "WARNING: Ignoring invalid distribution ~ (C:\\Users\\mehak\\AppData\\Local\\Programs\\Python\\Python311\\Lib\\site-packages)\n"
     ]
    }
   ],
   "source": [
    "!pip install transformers datasets accelerate"
   ]
  },
  {
   "cell_type": "code",
   "execution_count": null,
   "metadata": {},
   "outputs": [
    {
     "name": "stderr",
     "output_type": "stream",
     "text": [
      "<>:51: SyntaxWarning: \"is\" with a literal. Did you mean \"==\"?\n",
      "<>:51: SyntaxWarning: \"is\" with a literal. Did you mean \"==\"?\n",
      "c:\\Users\\mehak\\AppData\\Local\\Programs\\Python\\Python311\\Lib\\site-packages\\transformers\\models\\auto\\tokenization_auto.py:823: FutureWarning: The `use_auth_token` argument is deprecated and will be removed in v5 of Transformers. Please use `token` instead.\n",
      "  warnings.warn(\n",
      "c:\\Users\\mehak\\AppData\\Local\\Programs\\Python\\Python311\\Lib\\site-packages\\transformers\\models\\auto\\auto_factory.py:471: FutureWarning: The `use_auth_token` argument is deprecated and will be removed in v5 of Transformers. Please use `token` instead.\n",
      "  warnings.warn(\n",
      "C:\\Users\\mehak\\AppData\\Local\\Temp\\ipykernel_12016\\1179161985.py:51: SyntaxWarning: \"is\" with a literal. Did you mean \"==\"?\n",
      "  if tokenizer.pad_token is 50257:\n",
      "Map:   0%|          | 0/2 [00:00<?, ? examples/s]\n"
     ]
    },
    {
     "ename": "ValueError",
     "evalue": "Asking to pad but the tokenizer does not have a padding token. Please select a token to use as `pad_token` `(tokenizer.pad_token = tokenizer.eos_token e.g.)` or add a new pad token via `tokenizer.add_special_tokens({'pad_token': '[PAD]'})`.",
     "output_type": "error",
     "traceback": [
      "\u001b[1;31m---------------------------------------------------------------------------\u001b[0m",
      "\u001b[1;31mValueError\u001b[0m                                Traceback (most recent call last)",
      "Cell \u001b[1;32mIn[24], line 64\u001b[0m\n\u001b[0;32m     61\u001b[0m     model_inputs[\u001b[38;5;124m\"\u001b[39m\u001b[38;5;124mlabels\u001b[39m\u001b[38;5;124m\"\u001b[39m] \u001b[38;5;241m=\u001b[39m labels[\u001b[38;5;124m\"\u001b[39m\u001b[38;5;124minput_ids\u001b[39m\u001b[38;5;124m\"\u001b[39m]\n\u001b[0;32m     62\u001b[0m     \u001b[38;5;28;01mreturn\u001b[39;00m model_inputs\n\u001b[1;32m---> 64\u001b[0m tokenized_datasets \u001b[38;5;241m=\u001b[39m \u001b[43mdataset\u001b[49m\u001b[38;5;241;43m.\u001b[39;49m\u001b[43mmap\u001b[49m\u001b[43m(\u001b[49m\u001b[43mtokenize_function\u001b[49m\u001b[43m,\u001b[49m\u001b[43m \u001b[49m\u001b[43mbatched\u001b[49m\u001b[38;5;241;43m=\u001b[39;49m\u001b[38;5;28;43;01mTrue\u001b[39;49;00m\u001b[43m)\u001b[49m\n\u001b[0;32m     66\u001b[0m \u001b[38;5;66;03m# Data collator for dynamic padding\u001b[39;00m\n\u001b[0;32m     67\u001b[0m data_collator \u001b[38;5;241m=\u001b[39m DataCollatorWithPadding(tokenizer\u001b[38;5;241m=\u001b[39mtokenizer)\n",
      "File \u001b[1;32mc:\\Users\\mehak\\AppData\\Local\\Programs\\Python\\Python311\\Lib\\site-packages\\datasets\\arrow_dataset.py:560\u001b[0m, in \u001b[0;36mtransmit_format.<locals>.wrapper\u001b[1;34m(*args, **kwargs)\u001b[0m\n\u001b[0;32m    553\u001b[0m self_format \u001b[38;5;241m=\u001b[39m {\n\u001b[0;32m    554\u001b[0m     \u001b[38;5;124m\"\u001b[39m\u001b[38;5;124mtype\u001b[39m\u001b[38;5;124m\"\u001b[39m: \u001b[38;5;28mself\u001b[39m\u001b[38;5;241m.\u001b[39m_format_type,\n\u001b[0;32m    555\u001b[0m     \u001b[38;5;124m\"\u001b[39m\u001b[38;5;124mformat_kwargs\u001b[39m\u001b[38;5;124m\"\u001b[39m: \u001b[38;5;28mself\u001b[39m\u001b[38;5;241m.\u001b[39m_format_kwargs,\n\u001b[0;32m    556\u001b[0m     \u001b[38;5;124m\"\u001b[39m\u001b[38;5;124mcolumns\u001b[39m\u001b[38;5;124m\"\u001b[39m: \u001b[38;5;28mself\u001b[39m\u001b[38;5;241m.\u001b[39m_format_columns,\n\u001b[0;32m    557\u001b[0m     \u001b[38;5;124m\"\u001b[39m\u001b[38;5;124moutput_all_columns\u001b[39m\u001b[38;5;124m\"\u001b[39m: \u001b[38;5;28mself\u001b[39m\u001b[38;5;241m.\u001b[39m_output_all_columns,\n\u001b[0;32m    558\u001b[0m }\n\u001b[0;32m    559\u001b[0m \u001b[38;5;66;03m# apply actual function\u001b[39;00m\n\u001b[1;32m--> 560\u001b[0m out: Union[\u001b[38;5;124m\"\u001b[39m\u001b[38;5;124mDataset\u001b[39m\u001b[38;5;124m\"\u001b[39m, \u001b[38;5;124m\"\u001b[39m\u001b[38;5;124mDatasetDict\u001b[39m\u001b[38;5;124m\"\u001b[39m] \u001b[38;5;241m=\u001b[39m \u001b[43mfunc\u001b[49m\u001b[43m(\u001b[49m\u001b[38;5;28;43mself\u001b[39;49m\u001b[43m,\u001b[49m\u001b[43m \u001b[49m\u001b[38;5;241;43m*\u001b[39;49m\u001b[43margs\u001b[49m\u001b[43m,\u001b[49m\u001b[43m \u001b[49m\u001b[38;5;241;43m*\u001b[39;49m\u001b[38;5;241;43m*\u001b[39;49m\u001b[43mkwargs\u001b[49m\u001b[43m)\u001b[49m\n\u001b[0;32m    561\u001b[0m datasets: List[\u001b[38;5;124m\"\u001b[39m\u001b[38;5;124mDataset\u001b[39m\u001b[38;5;124m\"\u001b[39m] \u001b[38;5;241m=\u001b[39m \u001b[38;5;28mlist\u001b[39m(out\u001b[38;5;241m.\u001b[39mvalues()) \u001b[38;5;28;01mif\u001b[39;00m \u001b[38;5;28misinstance\u001b[39m(out, \u001b[38;5;28mdict\u001b[39m) \u001b[38;5;28;01melse\u001b[39;00m [out]\n\u001b[0;32m    562\u001b[0m \u001b[38;5;66;03m# re-apply format to the output\u001b[39;00m\n",
      "File \u001b[1;32mc:\\Users\\mehak\\AppData\\Local\\Programs\\Python\\Python311\\Lib\\site-packages\\datasets\\arrow_dataset.py:3073\u001b[0m, in \u001b[0;36mDataset.map\u001b[1;34m(self, function, with_indices, with_rank, input_columns, batched, batch_size, drop_last_batch, remove_columns, keep_in_memory, load_from_cache_file, cache_file_name, writer_batch_size, features, disable_nullable, fn_kwargs, num_proc, suffix_template, new_fingerprint, desc)\u001b[0m\n\u001b[0;32m   3067\u001b[0m \u001b[38;5;28;01mif\u001b[39;00m transformed_dataset \u001b[38;5;129;01mis\u001b[39;00m \u001b[38;5;28;01mNone\u001b[39;00m:\n\u001b[0;32m   3068\u001b[0m     \u001b[38;5;28;01mwith\u001b[39;00m hf_tqdm(\n\u001b[0;32m   3069\u001b[0m         unit\u001b[38;5;241m=\u001b[39m\u001b[38;5;124m\"\u001b[39m\u001b[38;5;124m examples\u001b[39m\u001b[38;5;124m\"\u001b[39m,\n\u001b[0;32m   3070\u001b[0m         total\u001b[38;5;241m=\u001b[39mpbar_total,\n\u001b[0;32m   3071\u001b[0m         desc\u001b[38;5;241m=\u001b[39mdesc \u001b[38;5;129;01mor\u001b[39;00m \u001b[38;5;124m\"\u001b[39m\u001b[38;5;124mMap\u001b[39m\u001b[38;5;124m\"\u001b[39m,\n\u001b[0;32m   3072\u001b[0m     ) \u001b[38;5;28;01mas\u001b[39;00m pbar:\n\u001b[1;32m-> 3073\u001b[0m \u001b[43m        \u001b[49m\u001b[38;5;28;43;01mfor\u001b[39;49;00m\u001b[43m \u001b[49m\u001b[43mrank\u001b[49m\u001b[43m,\u001b[49m\u001b[43m \u001b[49m\u001b[43mdone\u001b[49m\u001b[43m,\u001b[49m\u001b[43m \u001b[49m\u001b[43mcontent\u001b[49m\u001b[43m \u001b[49m\u001b[38;5;129;43;01min\u001b[39;49;00m\u001b[43m \u001b[49m\u001b[43mDataset\u001b[49m\u001b[38;5;241;43m.\u001b[39;49m\u001b[43m_map_single\u001b[49m\u001b[43m(\u001b[49m\u001b[38;5;241;43m*\u001b[39;49m\u001b[38;5;241;43m*\u001b[39;49m\u001b[43mdataset_kwargs\u001b[49m\u001b[43m)\u001b[49m\u001b[43m:\u001b[49m\n\u001b[0;32m   3074\u001b[0m \u001b[43m            \u001b[49m\u001b[38;5;28;43;01mif\u001b[39;49;00m\u001b[43m \u001b[49m\u001b[43mdone\u001b[49m\u001b[43m:\u001b[49m\n\u001b[0;32m   3075\u001b[0m \u001b[43m                \u001b[49m\u001b[43mshards_done\u001b[49m\u001b[43m \u001b[49m\u001b[38;5;241;43m+\u001b[39;49m\u001b[38;5;241;43m=\u001b[39;49m\u001b[43m \u001b[49m\u001b[38;5;241;43m1\u001b[39;49m\n",
      "File \u001b[1;32mc:\\Users\\mehak\\AppData\\Local\\Programs\\Python\\Python311\\Lib\\site-packages\\datasets\\arrow_dataset.py:3476\u001b[0m, in \u001b[0;36mDataset._map_single\u001b[1;34m(shard, function, with_indices, with_rank, input_columns, batched, batch_size, drop_last_batch, remove_columns, keep_in_memory, cache_file_name, writer_batch_size, features, disable_nullable, fn_kwargs, new_fingerprint, rank, offset)\u001b[0m\n\u001b[0;32m   3472\u001b[0m indices \u001b[38;5;241m=\u001b[39m \u001b[38;5;28mlist\u001b[39m(\n\u001b[0;32m   3473\u001b[0m     \u001b[38;5;28mrange\u001b[39m(\u001b[38;5;241m*\u001b[39m(\u001b[38;5;28mslice\u001b[39m(i, i \u001b[38;5;241m+\u001b[39m batch_size)\u001b[38;5;241m.\u001b[39mindices(shard\u001b[38;5;241m.\u001b[39mnum_rows)))\n\u001b[0;32m   3474\u001b[0m )  \u001b[38;5;66;03m# Something simpler?\u001b[39;00m\n\u001b[0;32m   3475\u001b[0m \u001b[38;5;28;01mtry\u001b[39;00m:\n\u001b[1;32m-> 3476\u001b[0m     batch \u001b[38;5;241m=\u001b[39m \u001b[43mapply_function_on_filtered_inputs\u001b[49m\u001b[43m(\u001b[49m\n\u001b[0;32m   3477\u001b[0m \u001b[43m        \u001b[49m\u001b[43mbatch\u001b[49m\u001b[43m,\u001b[49m\n\u001b[0;32m   3478\u001b[0m \u001b[43m        \u001b[49m\u001b[43mindices\u001b[49m\u001b[43m,\u001b[49m\n\u001b[0;32m   3479\u001b[0m \u001b[43m        \u001b[49m\u001b[43mcheck_same_num_examples\u001b[49m\u001b[38;5;241;43m=\u001b[39;49m\u001b[38;5;28;43mlen\u001b[39;49m\u001b[43m(\u001b[49m\u001b[43mshard\u001b[49m\u001b[38;5;241;43m.\u001b[39;49m\u001b[43mlist_indexes\u001b[49m\u001b[43m(\u001b[49m\u001b[43m)\u001b[49m\u001b[43m)\u001b[49m\u001b[43m \u001b[49m\u001b[38;5;241;43m>\u001b[39;49m\u001b[43m \u001b[49m\u001b[38;5;241;43m0\u001b[39;49m\u001b[43m,\u001b[49m\n\u001b[0;32m   3480\u001b[0m \u001b[43m        \u001b[49m\u001b[43moffset\u001b[49m\u001b[38;5;241;43m=\u001b[39;49m\u001b[43moffset\u001b[49m\u001b[43m,\u001b[49m\n\u001b[0;32m   3481\u001b[0m \u001b[43m    \u001b[49m\u001b[43m)\u001b[49m\n\u001b[0;32m   3482\u001b[0m \u001b[38;5;28;01mexcept\u001b[39;00m NumExamplesMismatchError:\n\u001b[0;32m   3483\u001b[0m     \u001b[38;5;28;01mraise\u001b[39;00m DatasetTransformationNotAllowedError(\n\u001b[0;32m   3484\u001b[0m         \u001b[38;5;124m\"\u001b[39m\u001b[38;5;124mUsing `.map` in batched mode on a dataset with attached indexes is allowed only if it doesn\u001b[39m\u001b[38;5;124m'\u001b[39m\u001b[38;5;124mt create or remove existing examples. You can first run `.drop_index() to remove your index and then re-add it.\u001b[39m\u001b[38;5;124m\"\u001b[39m\n\u001b[0;32m   3485\u001b[0m     ) \u001b[38;5;28;01mfrom\u001b[39;00m\u001b[38;5;250m \u001b[39m\u001b[38;5;28;01mNone\u001b[39;00m\n",
      "File \u001b[1;32mc:\\Users\\mehak\\AppData\\Local\\Programs\\Python\\Python311\\Lib\\site-packages\\datasets\\arrow_dataset.py:3338\u001b[0m, in \u001b[0;36mDataset._map_single.<locals>.apply_function_on_filtered_inputs\u001b[1;34m(pa_inputs, indices, check_same_num_examples, offset)\u001b[0m\n\u001b[0;32m   3336\u001b[0m \u001b[38;5;28;01mif\u001b[39;00m with_rank:\n\u001b[0;32m   3337\u001b[0m     additional_args \u001b[38;5;241m+\u001b[39m\u001b[38;5;241m=\u001b[39m (rank,)\n\u001b[1;32m-> 3338\u001b[0m processed_inputs \u001b[38;5;241m=\u001b[39m \u001b[43mfunction\u001b[49m\u001b[43m(\u001b[49m\u001b[38;5;241;43m*\u001b[39;49m\u001b[43mfn_args\u001b[49m\u001b[43m,\u001b[49m\u001b[43m \u001b[49m\u001b[38;5;241;43m*\u001b[39;49m\u001b[43madditional_args\u001b[49m\u001b[43m,\u001b[49m\u001b[43m \u001b[49m\u001b[38;5;241;43m*\u001b[39;49m\u001b[38;5;241;43m*\u001b[39;49m\u001b[43mfn_kwargs\u001b[49m\u001b[43m)\u001b[49m\n\u001b[0;32m   3339\u001b[0m \u001b[38;5;28;01mif\u001b[39;00m \u001b[38;5;28misinstance\u001b[39m(processed_inputs, LazyDict):\n\u001b[0;32m   3340\u001b[0m     processed_inputs \u001b[38;5;241m=\u001b[39m {\n\u001b[0;32m   3341\u001b[0m         k: v \u001b[38;5;28;01mfor\u001b[39;00m k, v \u001b[38;5;129;01min\u001b[39;00m processed_inputs\u001b[38;5;241m.\u001b[39mdata\u001b[38;5;241m.\u001b[39mitems() \u001b[38;5;28;01mif\u001b[39;00m k \u001b[38;5;129;01mnot\u001b[39;00m \u001b[38;5;129;01min\u001b[39;00m processed_inputs\u001b[38;5;241m.\u001b[39mkeys_to_format\n\u001b[0;32m   3342\u001b[0m     }\n",
      "Cell \u001b[1;32mIn[24], line 59\u001b[0m, in \u001b[0;36mtokenize_function\u001b[1;34m(examples)\u001b[0m\n\u001b[0;32m     57\u001b[0m inputs \u001b[38;5;241m=\u001b[39m [\u001b[38;5;124mf\u001b[39m\u001b[38;5;124m\"\u001b[39m\u001b[38;5;124mContext: \u001b[39m\u001b[38;5;132;01m{\u001b[39;00mcontext\u001b[38;5;132;01m}\u001b[39;00m\u001b[38;5;130;01m\\n\u001b[39;00m\u001b[38;5;130;01m\\n\u001b[39;00m\u001b[38;5;124mQuestion: \u001b[39m\u001b[38;5;132;01m{\u001b[39;00mquestion\u001b[38;5;132;01m}\u001b[39;00m\u001b[38;5;130;01m\\n\u001b[39;00m\u001b[38;5;130;01m\\n\u001b[39;00m\u001b[38;5;124mAnswer:\u001b[39m\u001b[38;5;124m\"\u001b[39m \u001b[38;5;28;01mfor\u001b[39;00m context, question \u001b[38;5;129;01min\u001b[39;00m \u001b[38;5;28mzip\u001b[39m(examples[\u001b[38;5;124m\"\u001b[39m\u001b[38;5;124mcontext\u001b[39m\u001b[38;5;124m\"\u001b[39m], examples[\u001b[38;5;124m\"\u001b[39m\u001b[38;5;124mquestion\u001b[39m\u001b[38;5;124m\"\u001b[39m])]\n\u001b[0;32m     58\u001b[0m targets \u001b[38;5;241m=\u001b[39m [answer \u001b[38;5;28;01mfor\u001b[39;00m answer \u001b[38;5;129;01min\u001b[39;00m examples[\u001b[38;5;124m\"\u001b[39m\u001b[38;5;124manswer\u001b[39m\u001b[38;5;124m\"\u001b[39m]]\n\u001b[1;32m---> 59\u001b[0m model_inputs \u001b[38;5;241m=\u001b[39m \u001b[43mtokenizer\u001b[49m\u001b[43m(\u001b[49m\u001b[43minputs\u001b[49m\u001b[43m,\u001b[49m\u001b[43m \u001b[49m\u001b[43mmax_length\u001b[49m\u001b[38;5;241;43m=\u001b[39;49m\u001b[38;5;241;43m512\u001b[39;49m\u001b[43m,\u001b[49m\u001b[43m \u001b[49m\u001b[43mtruncation\u001b[49m\u001b[38;5;241;43m=\u001b[39;49m\u001b[38;5;28;43;01mTrue\u001b[39;49;00m\u001b[43m,\u001b[49m\u001b[43m \u001b[49m\u001b[43mpadding\u001b[49m\u001b[38;5;241;43m=\u001b[39;49m\u001b[38;5;124;43m\"\u001b[39;49m\u001b[38;5;124;43mmax_length\u001b[39;49m\u001b[38;5;124;43m\"\u001b[39;49m\u001b[43m)\u001b[49m\n\u001b[0;32m     60\u001b[0m labels \u001b[38;5;241m=\u001b[39m tokenizer(targets, max_length\u001b[38;5;241m=\u001b[39m\u001b[38;5;241m512\u001b[39m, truncation\u001b[38;5;241m=\u001b[39m\u001b[38;5;28;01mTrue\u001b[39;00m, padding\u001b[38;5;241m=\u001b[39m\u001b[38;5;124m\"\u001b[39m\u001b[38;5;124mmax_length\u001b[39m\u001b[38;5;124m\"\u001b[39m)\n\u001b[0;32m     61\u001b[0m model_inputs[\u001b[38;5;124m\"\u001b[39m\u001b[38;5;124mlabels\u001b[39m\u001b[38;5;124m\"\u001b[39m] \u001b[38;5;241m=\u001b[39m labels[\u001b[38;5;124m\"\u001b[39m\u001b[38;5;124minput_ids\u001b[39m\u001b[38;5;124m\"\u001b[39m]\n",
      "File \u001b[1;32mc:\\Users\\mehak\\AppData\\Local\\Programs\\Python\\Python311\\Lib\\site-packages\\transformers\\tokenization_utils_base.py:2868\u001b[0m, in \u001b[0;36mPreTrainedTokenizerBase.__call__\u001b[1;34m(self, text, text_pair, text_target, text_pair_target, add_special_tokens, padding, truncation, max_length, stride, is_split_into_words, pad_to_multiple_of, padding_side, return_tensors, return_token_type_ids, return_attention_mask, return_overflowing_tokens, return_special_tokens_mask, return_offsets_mapping, return_length, verbose, **kwargs)\u001b[0m\n\u001b[0;32m   2866\u001b[0m     \u001b[38;5;28;01mif\u001b[39;00m \u001b[38;5;129;01mnot\u001b[39;00m \u001b[38;5;28mself\u001b[39m\u001b[38;5;241m.\u001b[39m_in_target_context_manager:\n\u001b[0;32m   2867\u001b[0m         \u001b[38;5;28mself\u001b[39m\u001b[38;5;241m.\u001b[39m_switch_to_input_mode()\n\u001b[1;32m-> 2868\u001b[0m     encodings \u001b[38;5;241m=\u001b[39m \u001b[38;5;28;43mself\u001b[39;49m\u001b[38;5;241;43m.\u001b[39;49m\u001b[43m_call_one\u001b[49m\u001b[43m(\u001b[49m\u001b[43mtext\u001b[49m\u001b[38;5;241;43m=\u001b[39;49m\u001b[43mtext\u001b[49m\u001b[43m,\u001b[49m\u001b[43m \u001b[49m\u001b[43mtext_pair\u001b[49m\u001b[38;5;241;43m=\u001b[39;49m\u001b[43mtext_pair\u001b[49m\u001b[43m,\u001b[49m\u001b[43m \u001b[49m\u001b[38;5;241;43m*\u001b[39;49m\u001b[38;5;241;43m*\u001b[39;49m\u001b[43mall_kwargs\u001b[49m\u001b[43m)\u001b[49m\n\u001b[0;32m   2869\u001b[0m \u001b[38;5;28;01mif\u001b[39;00m text_target \u001b[38;5;129;01mis\u001b[39;00m \u001b[38;5;129;01mnot\u001b[39;00m \u001b[38;5;28;01mNone\u001b[39;00m:\n\u001b[0;32m   2870\u001b[0m     \u001b[38;5;28mself\u001b[39m\u001b[38;5;241m.\u001b[39m_switch_to_target_mode()\n",
      "File \u001b[1;32mc:\\Users\\mehak\\AppData\\Local\\Programs\\Python\\Python311\\Lib\\site-packages\\transformers\\tokenization_utils_base.py:2956\u001b[0m, in \u001b[0;36mPreTrainedTokenizerBase._call_one\u001b[1;34m(self, text, text_pair, add_special_tokens, padding, truncation, max_length, stride, is_split_into_words, pad_to_multiple_of, padding_side, return_tensors, return_token_type_ids, return_attention_mask, return_overflowing_tokens, return_special_tokens_mask, return_offsets_mapping, return_length, verbose, split_special_tokens, **kwargs)\u001b[0m\n\u001b[0;32m   2951\u001b[0m         \u001b[38;5;28;01mraise\u001b[39;00m \u001b[38;5;167;01mValueError\u001b[39;00m(\n\u001b[0;32m   2952\u001b[0m             \u001b[38;5;124mf\u001b[39m\u001b[38;5;124m\"\u001b[39m\u001b[38;5;124mbatch length of `text`: \u001b[39m\u001b[38;5;132;01m{\u001b[39;00m\u001b[38;5;28mlen\u001b[39m(text)\u001b[38;5;132;01m}\u001b[39;00m\u001b[38;5;124m does not match batch length of `text_pair`:\u001b[39m\u001b[38;5;124m\"\u001b[39m\n\u001b[0;32m   2953\u001b[0m             \u001b[38;5;124mf\u001b[39m\u001b[38;5;124m\"\u001b[39m\u001b[38;5;124m \u001b[39m\u001b[38;5;132;01m{\u001b[39;00m\u001b[38;5;28mlen\u001b[39m(text_pair)\u001b[38;5;132;01m}\u001b[39;00m\u001b[38;5;124m.\u001b[39m\u001b[38;5;124m\"\u001b[39m\n\u001b[0;32m   2954\u001b[0m         )\n\u001b[0;32m   2955\u001b[0m     batch_text_or_text_pairs \u001b[38;5;241m=\u001b[39m \u001b[38;5;28mlist\u001b[39m(\u001b[38;5;28mzip\u001b[39m(text, text_pair)) \u001b[38;5;28;01mif\u001b[39;00m text_pair \u001b[38;5;129;01mis\u001b[39;00m \u001b[38;5;129;01mnot\u001b[39;00m \u001b[38;5;28;01mNone\u001b[39;00m \u001b[38;5;28;01melse\u001b[39;00m text\n\u001b[1;32m-> 2956\u001b[0m     \u001b[38;5;28;01mreturn\u001b[39;00m \u001b[38;5;28;43mself\u001b[39;49m\u001b[38;5;241;43m.\u001b[39;49m\u001b[43mbatch_encode_plus\u001b[49m\u001b[43m(\u001b[49m\n\u001b[0;32m   2957\u001b[0m \u001b[43m        \u001b[49m\u001b[43mbatch_text_or_text_pairs\u001b[49m\u001b[38;5;241;43m=\u001b[39;49m\u001b[43mbatch_text_or_text_pairs\u001b[49m\u001b[43m,\u001b[49m\n\u001b[0;32m   2958\u001b[0m \u001b[43m        \u001b[49m\u001b[43madd_special_tokens\u001b[49m\u001b[38;5;241;43m=\u001b[39;49m\u001b[43madd_special_tokens\u001b[49m\u001b[43m,\u001b[49m\n\u001b[0;32m   2959\u001b[0m \u001b[43m        \u001b[49m\u001b[43mpadding\u001b[49m\u001b[38;5;241;43m=\u001b[39;49m\u001b[43mpadding\u001b[49m\u001b[43m,\u001b[49m\n\u001b[0;32m   2960\u001b[0m \u001b[43m        \u001b[49m\u001b[43mtruncation\u001b[49m\u001b[38;5;241;43m=\u001b[39;49m\u001b[43mtruncation\u001b[49m\u001b[43m,\u001b[49m\n\u001b[0;32m   2961\u001b[0m \u001b[43m        \u001b[49m\u001b[43mmax_length\u001b[49m\u001b[38;5;241;43m=\u001b[39;49m\u001b[43mmax_length\u001b[49m\u001b[43m,\u001b[49m\n\u001b[0;32m   2962\u001b[0m \u001b[43m        \u001b[49m\u001b[43mstride\u001b[49m\u001b[38;5;241;43m=\u001b[39;49m\u001b[43mstride\u001b[49m\u001b[43m,\u001b[49m\n\u001b[0;32m   2963\u001b[0m \u001b[43m        \u001b[49m\u001b[43mis_split_into_words\u001b[49m\u001b[38;5;241;43m=\u001b[39;49m\u001b[43mis_split_into_words\u001b[49m\u001b[43m,\u001b[49m\n\u001b[0;32m   2964\u001b[0m \u001b[43m        \u001b[49m\u001b[43mpad_to_multiple_of\u001b[49m\u001b[38;5;241;43m=\u001b[39;49m\u001b[43mpad_to_multiple_of\u001b[49m\u001b[43m,\u001b[49m\n\u001b[0;32m   2965\u001b[0m \u001b[43m        \u001b[49m\u001b[43mpadding_side\u001b[49m\u001b[38;5;241;43m=\u001b[39;49m\u001b[43mpadding_side\u001b[49m\u001b[43m,\u001b[49m\n\u001b[0;32m   2966\u001b[0m \u001b[43m        \u001b[49m\u001b[43mreturn_tensors\u001b[49m\u001b[38;5;241;43m=\u001b[39;49m\u001b[43mreturn_tensors\u001b[49m\u001b[43m,\u001b[49m\n\u001b[0;32m   2967\u001b[0m \u001b[43m        \u001b[49m\u001b[43mreturn_token_type_ids\u001b[49m\u001b[38;5;241;43m=\u001b[39;49m\u001b[43mreturn_token_type_ids\u001b[49m\u001b[43m,\u001b[49m\n\u001b[0;32m   2968\u001b[0m \u001b[43m        \u001b[49m\u001b[43mreturn_attention_mask\u001b[49m\u001b[38;5;241;43m=\u001b[39;49m\u001b[43mreturn_attention_mask\u001b[49m\u001b[43m,\u001b[49m\n\u001b[0;32m   2969\u001b[0m \u001b[43m        \u001b[49m\u001b[43mreturn_overflowing_tokens\u001b[49m\u001b[38;5;241;43m=\u001b[39;49m\u001b[43mreturn_overflowing_tokens\u001b[49m\u001b[43m,\u001b[49m\n\u001b[0;32m   2970\u001b[0m \u001b[43m        \u001b[49m\u001b[43mreturn_special_tokens_mask\u001b[49m\u001b[38;5;241;43m=\u001b[39;49m\u001b[43mreturn_special_tokens_mask\u001b[49m\u001b[43m,\u001b[49m\n\u001b[0;32m   2971\u001b[0m \u001b[43m        \u001b[49m\u001b[43mreturn_offsets_mapping\u001b[49m\u001b[38;5;241;43m=\u001b[39;49m\u001b[43mreturn_offsets_mapping\u001b[49m\u001b[43m,\u001b[49m\n\u001b[0;32m   2972\u001b[0m \u001b[43m        \u001b[49m\u001b[43mreturn_length\u001b[49m\u001b[38;5;241;43m=\u001b[39;49m\u001b[43mreturn_length\u001b[49m\u001b[43m,\u001b[49m\n\u001b[0;32m   2973\u001b[0m \u001b[43m        \u001b[49m\u001b[43mverbose\u001b[49m\u001b[38;5;241;43m=\u001b[39;49m\u001b[43mverbose\u001b[49m\u001b[43m,\u001b[49m\n\u001b[0;32m   2974\u001b[0m \u001b[43m        \u001b[49m\u001b[43msplit_special_tokens\u001b[49m\u001b[38;5;241;43m=\u001b[39;49m\u001b[43msplit_special_tokens\u001b[49m\u001b[43m,\u001b[49m\n\u001b[0;32m   2975\u001b[0m \u001b[43m        \u001b[49m\u001b[38;5;241;43m*\u001b[39;49m\u001b[38;5;241;43m*\u001b[39;49m\u001b[43mkwargs\u001b[49m\u001b[43m,\u001b[49m\n\u001b[0;32m   2976\u001b[0m \u001b[43m    \u001b[49m\u001b[43m)\u001b[49m\n\u001b[0;32m   2977\u001b[0m \u001b[38;5;28;01melse\u001b[39;00m:\n\u001b[0;32m   2978\u001b[0m     \u001b[38;5;28;01mreturn\u001b[39;00m \u001b[38;5;28mself\u001b[39m\u001b[38;5;241m.\u001b[39mencode_plus(\n\u001b[0;32m   2979\u001b[0m         text\u001b[38;5;241m=\u001b[39mtext,\n\u001b[0;32m   2980\u001b[0m         text_pair\u001b[38;5;241m=\u001b[39mtext_pair,\n\u001b[1;32m   (...)\u001b[0m\n\u001b[0;32m   2998\u001b[0m         \u001b[38;5;241m*\u001b[39m\u001b[38;5;241m*\u001b[39mkwargs,\n\u001b[0;32m   2999\u001b[0m     )\n",
      "File \u001b[1;32mc:\\Users\\mehak\\AppData\\Local\\Programs\\Python\\Python311\\Lib\\site-packages\\transformers\\tokenization_utils_base.py:3149\u001b[0m, in \u001b[0;36mPreTrainedTokenizerBase.batch_encode_plus\u001b[1;34m(self, batch_text_or_text_pairs, add_special_tokens, padding, truncation, max_length, stride, is_split_into_words, pad_to_multiple_of, padding_side, return_tensors, return_token_type_ids, return_attention_mask, return_overflowing_tokens, return_special_tokens_mask, return_offsets_mapping, return_length, verbose, split_special_tokens, **kwargs)\u001b[0m\n\u001b[0;32m   3132\u001b[0m \u001b[38;5;250m\u001b[39m\u001b[38;5;124;03m\"\"\"\u001b[39;00m\n\u001b[0;32m   3133\u001b[0m \u001b[38;5;124;03mTokenize and prepare for the model a list of sequences or a list of pairs of sequences.\u001b[39;00m\n\u001b[0;32m   3134\u001b[0m \n\u001b[1;32m   (...)\u001b[0m\n\u001b[0;32m   3145\u001b[0m \u001b[38;5;124;03m        details in `encode_plus`).\u001b[39;00m\n\u001b[0;32m   3146\u001b[0m \u001b[38;5;124;03m\"\"\"\u001b[39;00m\n\u001b[0;32m   3148\u001b[0m \u001b[38;5;66;03m# Backward compatibility for 'truncation_strategy', 'pad_to_max_length'\u001b[39;00m\n\u001b[1;32m-> 3149\u001b[0m padding_strategy, truncation_strategy, max_length, kwargs \u001b[38;5;241m=\u001b[39m \u001b[38;5;28;43mself\u001b[39;49m\u001b[38;5;241;43m.\u001b[39;49m\u001b[43m_get_padding_truncation_strategies\u001b[49m\u001b[43m(\u001b[49m\n\u001b[0;32m   3150\u001b[0m \u001b[43m    \u001b[49m\u001b[43mpadding\u001b[49m\u001b[38;5;241;43m=\u001b[39;49m\u001b[43mpadding\u001b[49m\u001b[43m,\u001b[49m\n\u001b[0;32m   3151\u001b[0m \u001b[43m    \u001b[49m\u001b[43mtruncation\u001b[49m\u001b[38;5;241;43m=\u001b[39;49m\u001b[43mtruncation\u001b[49m\u001b[43m,\u001b[49m\n\u001b[0;32m   3152\u001b[0m \u001b[43m    \u001b[49m\u001b[43mmax_length\u001b[49m\u001b[38;5;241;43m=\u001b[39;49m\u001b[43mmax_length\u001b[49m\u001b[43m,\u001b[49m\n\u001b[0;32m   3153\u001b[0m \u001b[43m    \u001b[49m\u001b[43mpad_to_multiple_of\u001b[49m\u001b[38;5;241;43m=\u001b[39;49m\u001b[43mpad_to_multiple_of\u001b[49m\u001b[43m,\u001b[49m\n\u001b[0;32m   3154\u001b[0m \u001b[43m    \u001b[49m\u001b[43mverbose\u001b[49m\u001b[38;5;241;43m=\u001b[39;49m\u001b[43mverbose\u001b[49m\u001b[43m,\u001b[49m\n\u001b[0;32m   3155\u001b[0m \u001b[43m    \u001b[49m\u001b[38;5;241;43m*\u001b[39;49m\u001b[38;5;241;43m*\u001b[39;49m\u001b[43mkwargs\u001b[49m\u001b[43m,\u001b[49m\n\u001b[0;32m   3156\u001b[0m \u001b[43m\u001b[49m\u001b[43m)\u001b[49m\n\u001b[0;32m   3158\u001b[0m \u001b[38;5;28;01mreturn\u001b[39;00m \u001b[38;5;28mself\u001b[39m\u001b[38;5;241m.\u001b[39m_batch_encode_plus(\n\u001b[0;32m   3159\u001b[0m     batch_text_or_text_pairs\u001b[38;5;241m=\u001b[39mbatch_text_or_text_pairs,\n\u001b[0;32m   3160\u001b[0m     add_special_tokens\u001b[38;5;241m=\u001b[39madd_special_tokens,\n\u001b[1;32m   (...)\u001b[0m\n\u001b[0;32m   3177\u001b[0m     \u001b[38;5;241m*\u001b[39m\u001b[38;5;241m*\u001b[39mkwargs,\n\u001b[0;32m   3178\u001b[0m )\n",
      "File \u001b[1;32mc:\\Users\\mehak\\AppData\\Local\\Programs\\Python\\Python311\\Lib\\site-packages\\transformers\\tokenization_utils_base.py:2770\u001b[0m, in \u001b[0;36mPreTrainedTokenizerBase._get_padding_truncation_strategies\u001b[1;34m(self, padding, truncation, max_length, pad_to_multiple_of, verbose, **kwargs)\u001b[0m\n\u001b[0;32m   2768\u001b[0m \u001b[38;5;66;03m# Test if we have a padding token\u001b[39;00m\n\u001b[0;32m   2769\u001b[0m \u001b[38;5;28;01mif\u001b[39;00m padding_strategy \u001b[38;5;241m!=\u001b[39m PaddingStrategy\u001b[38;5;241m.\u001b[39mDO_NOT_PAD \u001b[38;5;129;01mand\u001b[39;00m (\u001b[38;5;28mself\u001b[39m\u001b[38;5;241m.\u001b[39mpad_token \u001b[38;5;129;01mis\u001b[39;00m \u001b[38;5;28;01mNone\u001b[39;00m \u001b[38;5;129;01mor\u001b[39;00m \u001b[38;5;28mself\u001b[39m\u001b[38;5;241m.\u001b[39mpad_token_id \u001b[38;5;241m<\u001b[39m \u001b[38;5;241m0\u001b[39m):\n\u001b[1;32m-> 2770\u001b[0m     \u001b[38;5;28;01mraise\u001b[39;00m \u001b[38;5;167;01mValueError\u001b[39;00m(\n\u001b[0;32m   2771\u001b[0m         \u001b[38;5;124m\"\u001b[39m\u001b[38;5;124mAsking to pad but the tokenizer does not have a padding token. \u001b[39m\u001b[38;5;124m\"\u001b[39m\n\u001b[0;32m   2772\u001b[0m         \u001b[38;5;124m\"\u001b[39m\u001b[38;5;124mPlease select a token to use as `pad_token` `(tokenizer.pad_token = tokenizer.eos_token e.g.)` \u001b[39m\u001b[38;5;124m\"\u001b[39m\n\u001b[0;32m   2773\u001b[0m         \u001b[38;5;124m\"\u001b[39m\u001b[38;5;124mor add a new pad token via `tokenizer.add_special_tokens(\u001b[39m\u001b[38;5;124m{\u001b[39m\u001b[38;5;124m'\u001b[39m\u001b[38;5;124mpad_token\u001b[39m\u001b[38;5;124m'\u001b[39m\u001b[38;5;124m: \u001b[39m\u001b[38;5;124m'\u001b[39m\u001b[38;5;124m[PAD]\u001b[39m\u001b[38;5;124m'\u001b[39m\u001b[38;5;124m})`.\u001b[39m\u001b[38;5;124m\"\u001b[39m\n\u001b[0;32m   2774\u001b[0m     )\n\u001b[0;32m   2776\u001b[0m \u001b[38;5;66;03m# Check that we will truncate to a multiple of pad_to_multiple_of if both are provided\u001b[39;00m\n\u001b[0;32m   2777\u001b[0m \u001b[38;5;28;01mif\u001b[39;00m (\n\u001b[0;32m   2778\u001b[0m     truncation_strategy \u001b[38;5;241m!=\u001b[39m TruncationStrategy\u001b[38;5;241m.\u001b[39mDO_NOT_TRUNCATE\n\u001b[0;32m   2779\u001b[0m     \u001b[38;5;129;01mand\u001b[39;00m padding_strategy \u001b[38;5;241m!=\u001b[39m PaddingStrategy\u001b[38;5;241m.\u001b[39mDO_NOT_PAD\n\u001b[1;32m   (...)\u001b[0m\n\u001b[0;32m   2782\u001b[0m     \u001b[38;5;129;01mand\u001b[39;00m (max_length \u001b[38;5;241m%\u001b[39m pad_to_multiple_of \u001b[38;5;241m!=\u001b[39m \u001b[38;5;241m0\u001b[39m)\n\u001b[0;32m   2783\u001b[0m ):\n",
      "\u001b[1;31mValueError\u001b[0m: Asking to pad but the tokenizer does not have a padding token. Please select a token to use as `pad_token` `(tokenizer.pad_token = tokenizer.eos_token e.g.)` or add a new pad token via `tokenizer.add_special_tokens({'pad_token': '[PAD]'})`."
     ]
    }
   ],
   "source": [
    "# Import necessary libraries\n",
    "from datasets import Dataset\n",
    "from transformers import AutoTokenizer, AutoModelForCausalLM, Trainer, TrainingArguments, DataCollatorWithPadding\n",
    "import os\n",
    "\n",
    "# Load environment variables from .env file\n",
    "from dotenv import load_dotenv\n",
    "load_dotenv()\n",
    "\n",
    "# Get the Hugging Face API token from the environment variable\n",
    "hf_api_token = os.getenv(\"HUGGINGFACE_API_KEY\")\n",
    "\n",
    "# Ensure the API token is loaded\n",
    "if hf_api_token is None:\n",
    "    raise ValueError(\"Hugging Face API token not found in environment variables.\")\n",
    "\n",
    "# Combined context from the provided transcripts\n",
    "combined_context = \"\"\"\n",
    "Transcript for 2u4ItZerRac:\n",
    "[Music] The pros and cons of living in Germany. Today we're going to talk about the pros and cons of living in Germany...\n",
    "\n",
    "# Add the other transcripts here\n",
    "\"\"\"\n",
    "\n",
    "# Define questions and expected answers\n",
    "questions_answers = [\n",
    "    {\n",
    "        \"question\": \"What are the benefits of immigration to Germany?\",\n",
    "        \"expected_answer\": \"Immigration brings cultural diversity, fills labor shortages, and contributes to economic growth.\"\n",
    "    },\n",
    "    {\n",
    "        \"question\": \"What are the challenges faced by immigrants in Germany?\",\n",
    "        \"expected_answer\": \"Immigrants may face language barriers, integration difficulties, and potential discrimination.\"\n",
    "    }\n",
    "]\n",
    "\n",
    "# Create a dataset\n",
    "data = {\n",
    "    \"context\": [combined_context] * len(questions_answers),\n",
    "    \"question\": [qa[\"question\"] for qa in questions_answers],\n",
    "    \"answer\": [qa[\"expected_answer\"] for qa in questions_answers]\n",
    "}\n",
    "dataset = Dataset.from_dict(data)\n",
    "\n",
    "# Load pre-trained model and tokenizer\n",
    "model_name = \"distilgpt2\"\n",
    "tokenizer = AutoTokenizer.from_pretrained(model_name, use_auth_token=hf_api_token)\n",
    "model = AutoModelForCausalLM.from_pretrained(model_name, use_auth_token=hf_api_token)\n",
    "\n",
    "# Add padding token to the tokenizer if it doesn't have one\n",
    "if tokenizer.pad_token is 50257:\n",
    "    tokenizer.add_special_tokens({'pad_token': '[50257]'})\n",
    "    model.resize_token_embeddings(len(tokenizer))\n",
    "\n",
    "# Tokenize dataset\n",
    "def tokenize_function(examples):\n",
    "    inputs = [f\"Context: {context}\\n\\nQuestion: {question}\\n\\nAnswer:\" for context, question in zip(examples[\"context\"], examples[\"question\"])]\n",
    "    targets = [answer for answer in examples[\"answer\"]]\n",
    "    model_inputs = tokenizer(inputs, max_length=512, truncation=True, padding=\"max_length\")\n",
    "    labels = tokenizer(targets, max_length=512, truncation=True, padding=\"max_length\")\n",
    "    model_inputs[\"labels\"] = labels[\"input_ids\"]\n",
    "    return model_inputs\n",
    "\n",
    "tokenized_datasets = dataset.map(tokenize_function, batched=True)\n",
    "\n",
    "# Data collator for dynamic padding\n",
    "data_collator = DataCollatorWithPadding(tokenizer=tokenizer)\n",
    "\n",
    "# Training arguments\n",
    "training_args = TrainingArguments(\n",
    "    output_dir=\"./results\",\n",
    "    evaluation_strategy=\"epoch\",\n",
    "    logging_dir='./logs',\n",
    "    learning_rate=2e-5,\n",
    "    per_device_train_batch_size=2,\n",
    "    per_device_eval_batch_size=2,\n",
    "    num_train_epochs=3,\n",
    "    weight_decay=0.01,\n",
    ")\n",
    "\n",
    "# Trainer\n",
    "trainer = Trainer(\n",
    "    model=model,\n",
    "    args=training_args,\n",
    "    train_dataset=tokenized_datasets,\n",
    "    eval_dataset=tokenized_datasets,\n",
    "    data_collator=data_collator,\n",
    ")\n",
    "\n",
    "# Fine-tune the model\n",
    "trainer.train()\n",
    "\n",
    "# Save the fine-tuned model\n",
    "model.save_pretrained(\"fine_tuned_model\")\n",
    "tokenizer.save_pretrained(\"fine_tuned_model\")"
   ]
  },
  {
   "cell_type": "markdown",
   "metadata": {},
   "source": [
    "Step 5: Evaluate the Model\n",
    "Evaluate the fine-tuned model using the same questions and calculate the metrics:\n",
    "\n"
   ]
  },
  {
   "cell_type": "code",
   "execution_count": null,
   "metadata": {},
   "outputs": [],
   "source": [
    "from sklearn.metrics import accuracy_score, precision_score, recall_score, f1_score\n",
    "\n",
    "# Load the fine-tuned model and tokenizer\n",
    "fine_tuned_model = AutoModelForCausalLM.from_pretrained(\"fine_tuned_model\")\n",
    "fine_tuned_tokenizer = AutoTokenizer.from_pretrained(\"fine_tuned_model\")\n",
    "\n",
    "# Generate predictions using the fine-tuned model\n",
    "def generate_answer(question, context):\n",
    "    input_text = f\"Context: {context}\\n\\nQuestion: {question}\\n\\nAnswer:\"\n",
    "    inputs = fine_tuned_tokenizer.encode(input_text, return_tensors=\"pt\")\n",
    "    outputs = fine_tuned_model.generate(inputs, max_length=512, num_return_sequences=1)\n",
    "    answer = fine_tuned_tokenizer.decode(outputs[0], skip_special_tokens=True)\n",
    "    return answer\n",
    "\n",
    "# Example evaluation\n",
    "predicted_answers = [generate_answer(qa[\"question\"], combined_context) for qa in questions_answers]\n",
    "true_answers = [qa[\"expected_answer\"] for qa in questions_answers]\n",
    "\n",
    "# Calculate metrics\n",
    "accuracy = accuracy_score(true_answers, predicted_answers)\n",
    "precision = precision_score(true_answers, predicted_answers, average='weighted')\n",
    "recall = recall_score(true_answers, predicted_answers, average='weighted')\n",
    "f1 = f1_score(true_answers, predicted_answers, average='weighted')\n",
    "\n",
    "print(f\"Accuracy: {accuracy}\")\n",
    "print(f\"Precision: {precision}\")\n",
    "print(f\"Recall: {recall}\")\n",
    "print(f\"F1 Score: {f1}\")"
   ]
  },
  {
   "cell_type": "code",
   "execution_count": null,
   "metadata": {},
   "outputs": [],
   "source": []
  },
  {
   "cell_type": "code",
   "execution_count": null,
   "metadata": {},
   "outputs": [],
   "source": []
  }
 ],
 "metadata": {
  "kernelspec": {
   "display_name": "Python 3",
   "language": "python",
   "name": "python3"
  },
  "language_info": {
   "codemirror_mode": {
    "name": "ipython",
    "version": 3
   },
   "file_extension": ".py",
   "mimetype": "text/x-python",
   "name": "python",
   "nbconvert_exporter": "python",
   "pygments_lexer": "ipython3",
   "version": "3.11.9"
  }
 },
 "nbformat": 4,
 "nbformat_minor": 2
}
